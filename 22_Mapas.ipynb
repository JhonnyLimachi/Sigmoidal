{
  "nbformat": 4,
  "nbformat_minor": 0,
  "metadata": {
    "colab": {
      "provenance": [],
      "authorship_tag": "ABX9TyO5BosdZZ+z382ERZhKdAuM",
      "include_colab_link": true
    },
    "kernelspec": {
      "name": "python3",
      "display_name": "Python 3"
    },
    "language_info": {
      "name": "python"
    }
  },
  "cells": [
    {
      "cell_type": "markdown",
      "metadata": {
        "id": "view-in-github",
        "colab_type": "text"
      },
      "source": [
        "<a href=\"https://colab.research.google.com/github/JhonnyLimachi/Sigmoidal/blob/main/22_Mapas.ipynb\" target=\"_parent\"><img src=\"https://colab.research.google.com/assets/colab-badge.svg\" alt=\"Open In Colab\"/></a>"
      ]
    },
    {
      "cell_type": "markdown",
      "source": [
        "<img alt=\"Colaboratory logo\" width=\"15%\" src=\"https://raw.githubusercontent.com/carlosfab/escola-data-science/master/img/novo_logo_bg_claro.png\">\n",
        "\n",
        "#### **Data Science na Prática 4.0**\n",
        "*by [sigmoidal.ai](https://sigmoidal.ai)*\n",
        "\n",
        "---"
      ],
      "metadata": {
        "id": "6-nyph4IV6yo"
      }
    },
    {
      "cell_type": "markdown",
      "source": [
        "# Mapas\n",
        "\n",
        "Em muitos casos, é interessante que possamos utilizar mapas para representar nossos dados. A depender do escopo e objetivo do nosso projeto, eles serão primordiais. Portanto, conhecer algumas alternativas para plotar esse tipo de dado é muito importante!\n",
        "\n",
        "<center><img src=\"https://i.imgur.com/M3toZK8.png\"width=\"450px\"></center>\n",
        "\n",
        "Uma das possibilidades é a biblioteca [PyDeck](https://deckgl.readthedocs.io/en/latest/). Essa biblioteca é extremamente poderosa, e nos possibilita plotar gráficos muito impressionantes. Essa biblioteca é focada em mapas e faz um excelente trabalho no que se propões a fazer.\n",
        "\n",
        "<center><img src=\"https://miro.medium.com/max/3504/1*ms3kXnMX0IJjSYocKxbwHw.png\"width=\"450px\"></center>\n",
        "\n",
        "A outra possibilidade é o [Folium](http://python-visualization.github.io/folium/). Essa também é uma possibilidade interessante, que nos possibilita plotar mapas extremamente interessantes, e entregar um trabalho muito bacana no que diz respeito a mapas.\n",
        "\n",
        "Mas vamos ver na prática como plotar esses mapas."
      ],
      "metadata": {
        "id": "M38jbr9TV-Io"
      }
    },
    {
      "cell_type": "code",
      "execution_count": 1,
      "metadata": {
        "id": "GeLN9ewUV25A"
      },
      "outputs": [],
      "source": [
        "# importando as bibliotecas necessárias\n",
        "import pandas as pd\n",
        "import numpy as np\n",
        "import matplotlib.pyplot as plt\n",
        "import folium"
      ]
    },
    {
      "cell_type": "markdown",
      "source": [
        "Para esse projeto, utilizaremos um conjunto de dados do portal [Inside Airbnb](http://insideairbnb.com) com dados da cidade de Nova Iorque.\n",
        "\n",
        "Dentro desse portal, você também pode encontrar conjuntos de dados de outras cidades, para plotar diferentes mapas."
      ],
      "metadata": {
        "id": "Du-2EydcWVD2"
      }
    },
    {
      "cell_type": "code",
      "source": [
        "# importando os dados\n",
        "df = pd.read_csv(\"http://data.insideairbnb.com/united-states/ny/new-york-city/2023-03-06/visualisations/listings.csv\")"
      ],
      "metadata": {
        "id": "Ux1x0rDZWXeE"
      },
      "execution_count": null,
      "outputs": []
    },
    {
      "cell_type": "markdown",
      "source": [
        "Esse conjunto é muito grande, e para os propósitos dessa aula, isso seria um problema. Para que o mapa fique mais focado, nossa visualização melhor e mais informativa, irei utilizar apenas uma fração do conjunto de dados.\n",
        "\n",
        "Isso também irá melhorar a performance do nosso mapa interativo."
      ],
      "metadata": {
        "id": "T9CfimwdWaIn"
      }
    }
  ]
}