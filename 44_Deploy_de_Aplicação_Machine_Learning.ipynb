{
  "nbformat": 4,
  "nbformat_minor": 0,
  "metadata": {
    "colab": {
      "provenance": [],
      "authorship_tag": "ABX9TyMlsjaLB61ALghGDkKqbhTP",
      "include_colab_link": true
    },
    "kernelspec": {
      "name": "python3",
      "display_name": "Python 3"
    },
    "language_info": {
      "name": "python"
    }
  },
  "cells": [
    {
      "cell_type": "markdown",
      "metadata": {
        "id": "view-in-github",
        "colab_type": "text"
      },
      "source": [
        "<a href=\"https://colab.research.google.com/github/JhonnyLimachi/Sigmoidal/blob/main/44_Deploy_de_Aplica%C3%A7%C3%A3o_Machine_Learning.ipynb\" target=\"_parent\"><img src=\"https://colab.research.google.com/assets/colab-badge.svg\" alt=\"Open In Colab\"/></a>"
      ]
    },
    {
      "cell_type": "markdown",
      "source": [
        "<img alt=\"Colaboratory logo\" width=\"15%\" src=\"https://raw.githubusercontent.com/carlosfab/escola-data-science/master/img/novo_logo_bg_claro.png\">\n",
        "\n",
        "#### **Data Science na Prática 3.0**\n",
        "*by [sigmoidal.ai](https://sigmoidal.ai)*\n",
        "\n",
        "---"
      ],
      "metadata": {
        "id": "18ZUf0MihNrY"
      }
    },
    {
      "cell_type": "markdown",
      "source": [
        "## **O que é Deploy?**\n",
        "\n",
        "Entenda o significado da palavra deploy, dentro do escopo deste curso e do universo Data Science.\n",
        "\n",
        "# **Referências**\n",
        "\n",
        "[How to deploy a Machine Learning Model - Towards Data Science](https://towardsdatascience.com/how-to-deploy-a-machine-learning-model-dc51200fe8cf)\n",
        "\n",
        "[Deployment of Machine Learning models demystified - Towards Data Science](https://towardsdatascience.com/deployment-of-machine-learning-model-demystified-part-1-1181d91815d2)"
      ],
      "metadata": {
        "id": "xG64aFGhhXeQ"
      }
    },
    {
      "cell_type": "markdown",
      "source": [
        "## **Flask ou Django?**\n",
        "\n",
        "Qual a diferença entre Django e Flask? Qual é o melhor para minha aplicação?\n",
        "\n",
        "É muito importante ter em mente o objetivo e escopo da sua aplicação ao escolher o melhor framework para o seu caso.\n",
        "\n",
        "## **Referências**\n",
        "\n",
        "[Flask vs Django in 2020: Which framework to choose?](https://hackr.io/blog/flask-vs-django)\n",
        "\n",
        "[Django com Henrique Bastos](https://henriquebastos.net/)\n",
        "\n",
        "[Deploying Python and Django apps with Heroku](https://devcenter.heroku.com/articles/deploying-python)"
      ],
      "metadata": {
        "id": "H28j_syfiEDi"
      }
    },
    {
      "cell_type": "code",
      "execution_count": null,
      "metadata": {
        "id": "ZMcP0Mcagoao"
      },
      "outputs": [],
      "source": []
    }
  ]
}