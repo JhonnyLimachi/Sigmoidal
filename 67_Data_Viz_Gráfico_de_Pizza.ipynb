{
  "nbformat": 4,
  "nbformat_minor": 0,
  "metadata": {
    "colab": {
      "provenance": [],
      "authorship_tag": "ABX9TyPQJdZ/014FzzgW2w6jyRhJ",
      "include_colab_link": true
    },
    "kernelspec": {
      "name": "python3",
      "display_name": "Python 3"
    },
    "language_info": {
      "name": "python"
    }
  },
  "cells": [
    {
      "cell_type": "markdown",
      "metadata": {
        "id": "view-in-github",
        "colab_type": "text"
      },
      "source": [
        "<a href=\"https://colab.research.google.com/github/JhonnyLimachi/Sigmoidal/blob/main/67_Data_Viz_Gr%C3%A1fico_de_Pizza.ipynb\" target=\"_parent\"><img src=\"https://colab.research.google.com/assets/colab-badge.svg\" alt=\"Open In Colab\"/></a>"
      ]
    },
    {
      "cell_type": "markdown",
      "source": [
        "<img alt=\"Colaboratory logo\" width=\"15%\" src=\"https://raw.githubusercontent.com/carlosfab/escola-data-science/master/img/novo_logo_bg_claro.png\">\n",
        "\n",
        "#### **Visualização de Dados com Python**\n",
        "*by [sigmoidal.ai](https://sigmoidal.ai)*\n",
        "\n",
        "---"
      ],
      "metadata": {
        "id": "hOrqvZqhw1iG"
      }
    },
    {
      "cell_type": "markdown",
      "source": [
        "# Gráfico de Pizza\n",
        "\n",
        "O gráfico de pizza é um diagrama circular onde o valor de cada classe é proporcional à sua respectiva medida de ângulo. Na prática isso significa que para cada 1% do valor absoluto total, tem-se 3,6º na pizza.\n",
        "\n",
        "<center><img src=\"https://blog.funnel.io/hs-fs/hubfs/blog/posts/better-data-visualizations/pie-chart.png?width=1000&name=pie-chart.png\" height=\"200px\"></center>\n",
        "\n",
        "Muitas pessoas amam colocar gráficos de pizza em todo relatório ou pesquisa. No entanto, existem diversos motivos para você evitar usar esse tipo de representação gráfica.\n",
        "\n",
        "O motivo para isso é que gráficos de pizza nos forçam a comparar áreas ou ângulos, o que não é intuitivo para o cérebro humano. A situação piora se você quiser que uma pessoa faça uma comparação entre dois gráficos de pizza diferentes.\n",
        "\n",
        "Só para ilustrar essa colocação, veja como é muito mais fácil para nós um gráfico de barras. Imediatamente, nosso cérebro assimila a informação passada:\n",
        "\n",
        "<center><img src=\"https://blog.funnel.io/hs-fs/hubfs/blog/posts/better-data-visualizations/bar-chart.png?width=1000&name=bar-chart.png\" height=\"200px\"></center>\n",
        "\n",
        "Se você quiser saber mais sobre os motivos para evitar gráficos de pizza, leia o artigo [***Why you shouldn’t use pie charts - Tips for better data visualization***](https://blog.funnel.io/why-we-dont-use-pie-charts-and-some-tips-on-better-data-visualizations)."
      ],
      "metadata": {
        "id": "CuaKNg3uw4Q-"
      }
    },
    {
      "cell_type": "markdown",
      "source": [
        "## Plotar o gráfico de pizza\n",
        "\n",
        "Os dados que usaremos neste *notebook* são os dados públicos do CENIPA - Ocorrências Aeronáuticas na Aviação Civil Brasileira. O *dataset* contendo estas estatísticas podem ser encontrados no [Portal Brasileiro de Dados Abertos](http://dados.gov.br/dataset/ocorrencias-aeronauticas-da-aviacao-civil-brasileira). O *dataset* usado aqui, em formato `csv`, pode ser baixado [neste link](https://raw.githubusercontent.com/carlosfab/curso_data_science_na_pratica/master/modulo_02/ocorrencias_aviacao.csv)."
      ],
      "metadata": {
        "id": "Z00dQcTCxPY1"
      }
    },
    {
      "cell_type": "code",
      "execution_count": null,
      "metadata": {
        "id": "Bhm4x8f0wp6p"
      },
      "outputs": [],
      "source": []
    }
  ]
}