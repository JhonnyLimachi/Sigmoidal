{
  "nbformat": 4,
  "nbformat_minor": 0,
  "metadata": {
    "colab": {
      "provenance": [],
      "authorship_tag": "ABX9TyNHUzsxWve1Q/iakRA69twR",
      "include_colab_link": true
    },
    "kernelspec": {
      "name": "python3",
      "display_name": "Python 3"
    },
    "language_info": {
      "name": "python"
    }
  },
  "cells": [
    {
      "cell_type": "markdown",
      "metadata": {
        "id": "view-in-github",
        "colab_type": "text"
      },
      "source": [
        "<a href=\"https://colab.research.google.com/github/JhonnyLimachi/Sigmoidal/blob/main/51_Git_e_GitHub.ipynb\" target=\"_parent\"><img src=\"https://colab.research.google.com/assets/colab-badge.svg\" alt=\"Open In Colab\"/></a>"
      ]
    },
    {
      "cell_type": "markdown",
      "source": [
        "## **Introdução ao Git**\n",
        "\n",
        "Olá!!\n",
        "\n",
        "O Git é um framwork gratuito e open source para controle de versionamento. Com ele, a colaboração entre times e a preservação, reprodutibilidade e manutenção do seu código são facilitadas.\n",
        "\n",
        "Nessa aula, vamos revisar alguns conceitos essenciais.\n",
        "\n",
        "Links úteis:\n",
        "\n",
        "Documentação Oficial Git\n",
        "\n",
        "Download Git\n",
        "\n",
        "Cheat Sheet de Git"
      ],
      "metadata": {
        "id": "TGHGS4XwCGSr"
      }
    },
    {
      "cell_type": "code",
      "execution_count": null,
      "metadata": {
        "id": "ETVKm_-_CD40"
      },
      "outputs": [],
      "source": []
    }
  ]
}