{
  "nbformat": 4,
  "nbformat_minor": 0,
  "metadata": {
    "colab": {
      "provenance": [],
      "authorship_tag": "ABX9TyNwe82gQzmnefluMMjiImfM",
      "include_colab_link": true
    },
    "kernelspec": {
      "name": "python3",
      "display_name": "Python 3"
    },
    "language_info": {
      "name": "python"
    }
  },
  "cells": [
    {
      "cell_type": "markdown",
      "metadata": {
        "id": "view-in-github",
        "colab_type": "text"
      },
      "source": [
        "<a href=\"https://colab.research.google.com/github/JhonnyLimachi/Sigmoidal/blob/main/51_Git_e_GitHub.ipynb\" target=\"_parent\"><img src=\"https://colab.research.google.com/assets/colab-badge.svg\" alt=\"Open In Colab\"/></a>"
      ]
    },
    {
      "cell_type": "markdown",
      "source": [
        "## **Introdução ao Git**\n",
        "\n",
        "Olá!!\n",
        "\n",
        "O Git é um framwork gratuito e open source para controle de versionamento. Com ele, a colaboração entre times e a preservação, reprodutibilidade e manutenção do seu código são facilitadas.\n",
        "\n",
        "Nessa aula, vamos revisar alguns conceitos essenciais.\n",
        "\n",
        "Links úteis:\n",
        "\n",
        "[Documentação Oficial Git](https://git-scm.com/)\n",
        "\n",
        "[Download Git](https://git-scm.com/downloads)\n",
        "\n",
        "[Cheat Sheet de Git](https://education.github.com/git-cheat-sheet-education.pdf)"
      ],
      "metadata": {
        "id": "TGHGS4XwCGSr"
      }
    },
    {
      "cell_type": "markdown",
      "source": [
        "## **Conheça o GitHub**\n",
        "\n",
        "Qual a diferença entre Git e GitHub? Aqui você entende como podemos utilizar essa poderosa combinação em nossos projetos.\n",
        "\n",
        "Links úteis:\n",
        "\n",
        "[Documentação Oficial Git](https://git-scm.com/)\n",
        "\n",
        "[Download Git](https://git-scm.com/downloads)\n",
        "\n",
        "[Cheat Sheet de Git](https://education.github.com/git-cheat-sheet-education.pdf)\n",
        "\n"
      ],
      "metadata": {
        "id": "p7d7XX3oC0Kd"
      }
    },
    {
      "cell_type": "markdown",
      "source": [
        "## **Configurando o Git para o seu primeiro Commit**\n",
        "\n",
        "Vamos colocar a mão na massa e realizar o nosso primeiro Commit!\n",
        "\n",
        "Links úteis:\n",
        "\n",
        "[Documentação Oficial Git](https://git-scm.com/)\n",
        "\n",
        "[Download Git](https://git-scm.com/downloads)\n",
        "\n",
        "[Cheat Sheet de Git](https://education.github.com/git-cheat-sheet-education.pdf)"
      ],
      "metadata": {
        "id": "G6b3u9JlC_LK"
      }
    },
    {
      "cell_type": "markdown",
      "source": [
        "## **Entendendo Branches e restaurando Commits**\n",
        "\n",
        "Aprenda o que são Branches, e como recuperar Commits anteriores.\n",
        "\n",
        "Links úteis:\n",
        "\n",
        "[Documentação Oficial Git](https://git-scm.com/)\n",
        "\n",
        "[Download Git](https://git-scm.com/downloads)\n",
        "\n",
        "[Cheat Sheet de Git](https://education.github.com/git-cheat-sheet-education.pdf)"
      ],
      "metadata": {
        "id": "SDihZJQ-Dawb"
      }
    },
    {
      "cell_type": "markdown",
      "source": [
        "## **Conectando o repositório local ao GitHub**\n",
        "\n",
        "Links úteis:\n",
        "\n",
        "[Generate SSH Key](https://docs.github.com/en/authentication/connecting-to-github-with-ssh/generating-a-new-ssh-key-and-adding-it-to-the-ssh-agent)\n",
        "\n",
        "Add SSH Key\n",
        "\n",
        "[Documentação Oficial Git](https://git-scm.com/)\n",
        "\n",
        "[Download Git](https://git-scm.com/downloads)\n",
        "\n",
        "[Cheat Sheet de Git](https://education.github.com/git-cheat-sheet-education.pdf)"
      ],
      "metadata": {
        "id": "WlV7kwJ5D_BE"
      }
    },
    {
      "cell_type": "code",
      "execution_count": null,
      "metadata": {
        "id": "ETVKm_-_CD40"
      },
      "outputs": [],
      "source": []
    }
  ]
}