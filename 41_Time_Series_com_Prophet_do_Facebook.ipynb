{
  "nbformat": 4,
  "nbformat_minor": 0,
  "metadata": {
    "colab": {
      "provenance": [],
      "authorship_tag": "ABX9TyNpFJsVuP4RZVMr2X9ptRZz",
      "include_colab_link": true
    },
    "kernelspec": {
      "name": "python3",
      "display_name": "Python 3"
    },
    "language_info": {
      "name": "python"
    }
  },
  "cells": [
    {
      "cell_type": "markdown",
      "metadata": {
        "id": "view-in-github",
        "colab_type": "text"
      },
      "source": [
        "<a href=\"https://colab.research.google.com/github/JhonnyLimachi/Sigmoidal/blob/main/41_Time_Series_com_Prophet_do_Facebook.ipynb\" target=\"_parent\"><img src=\"https://colab.research.google.com/assets/colab-badge.svg\" alt=\"Open In Colab\"/></a>"
      ]
    },
    {
      "cell_type": "markdown",
      "source": [
        "<img alt=\"Colaboratory logo\" width=\"15%\" src=\"https://raw.githubusercontent.com/carlosfab/escola-data-science/master/img/novo_logo_bg_claro.png\">\n",
        "\n",
        "#### **Data Science na Prática 4.0**\n",
        "\n",
        "\n",
        "---"
      ],
      "metadata": {
        "id": "aXtXZU34IJIu"
      }
    },
    {
      "cell_type": "markdown",
      "source": [
        "## Séries Temporais - Facebook Prophet\n",
        "\n",
        "Nossa ferramenta, no momento para fazer previsões em séries temporais será o `Prophet`, que foi desenvolvido pelo Facebook.\n",
        "\n",
        "<center>\n",
        "<img src=\"https://www.clickz.com/wp-content/uploads/2017/08/crystal-ball.png\" width=\"50%\"></center>\n",
        "\n",
        "O Prophet é bastante robusto, simples e fácil de usar. Vocês vão encontrar na internet exemplos de código utilizando o Prophet sem nem se preoucupar se a Série Temporal é estacionária. Em alguns casos o resultado é bom, mas nem sempre.\n",
        "\n",
        "Aqui no Sigmoidal, dentro da [Escola de Data Science](https://escola.sigmoidal.ai) nós já tivemos aulas extensivas e técnicas sobre o assunto, e por isso não vou me aprofundar, mas vou trazer aqui uma parte essencial do texto do Carlos que trata do assunto:\n",
        "\n",
        "### Testes Estatísticos e ARIMA\n",
        "um pré-requisito para que possamos fazer previsões em cima de uma TS é ela ser estacionária.\n",
        "\n",
        "De maneira simplificada, ser estacionária significa ter a **média, variância e covariância** permanecendo **constante** ao longo da dimensão temporal. Vamos entender visualmente o que isso significa.\n",
        "\n",
        "<center>\n",
        "<img src=\"https://cdn.analyticsvidhya.com/wp-content/uploads/2018/09/ns5-e1536673990684.png\" width=\"50%\"></center>\n",
        "\n",
        "No primeiro plot, há uma tendência de alta. Ou seja, a sua média está aumentando conforme o tempo passa. No segundo plot, apesar de não haver uma variação na tendência, a variância (não constante) está interferindo na sua amplitude. Por fim, o último exibe o comportamento típico de quando a covariância varia em função do tempo.\n",
        "\n",
        "**E como se pareceria uma série estacionária?**\n",
        "\n",
        "Uma TS com média, variância e covariância constante seria parecida com o plot abaixo.\n",
        "\n",
        "<center><img src=\"https://cdn.analyticsvidhya.com/wp-content/uploads/2018/09/ns6-e1536674898419.png\" width=\"20%\"></center>\n",
        "\n",
        "**Como verificar se uma TS é estacionária?**\n",
        "\n",
        "Há muitas maneiras se fazer essa verificação. Por exemplo:\n",
        "\n",
        "* **Olhar os plots -** Em muitos casos, durante a análise exploratória você já vai identificar visualmente se uma TS é estacionária ou não.\n",
        "* **Resumo estatístico -** Você pode gerar um resumo com as principais informações estatísticas da TS, e verificar se há algum indício da estacionaridade.\n",
        "* **Testes estatísticos -** São testes que possuem a capacidade de nos dizer se uma TS é estacionária ou não, sempre se baseando em métodos científicos.\n",
        "\n",
        "Nesta projeto, mais pra frente, realizaremos um teste estatístico específico para identificar se nossa TS é estacionária ou não, o teste ***Augmented Dickey Fuller (ADF)***\n",
        "\n",
        "### Teste ADF\n",
        "\n",
        "O ADF é um dos testes estatísticos mais usados para TS. Suas hipóteses nula e alternativa são:\n",
        "\n",
        "* A Hipótese Nula ($H_0$) do teste é que a TS **não é estacionária**. Ou seja, possui algum tipo de dependência em relação ao tempo.\n",
        "* A Hipótese Alternativa ($H_1$) **rejeita a hipótese nula**, ou seja, que a TS é estacionária.\n",
        "\n",
        "Vamos ver como isso vai acontecer no nosso projeto específico.\n"
      ],
      "metadata": {
        "id": "70M8zy2DIPLZ"
      }
    },
    {
      "cell_type": "code",
      "execution_count": null,
      "metadata": {
        "id": "MuPzFCedIAaV"
      },
      "outputs": [],
      "source": []
    }
  ]
}