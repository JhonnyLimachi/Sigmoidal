{
  "nbformat": 4,
  "nbformat_minor": 0,
  "metadata": {
    "colab": {
      "provenance": [],
      "authorship_tag": "ABX9TyPczcFNtAvnSfcXbiooZv4Q",
      "include_colab_link": true
    },
    "kernelspec": {
      "name": "python3",
      "display_name": "Python 3"
    },
    "language_info": {
      "name": "python"
    }
  },
  "cells": [
    {
      "cell_type": "markdown",
      "metadata": {
        "id": "view-in-github",
        "colab_type": "text"
      },
      "source": [
        "<a href=\"https://colab.research.google.com/github/JhonnyLimachi/Sigmoidal/blob/main/66_Data_Viz_Gr%C3%A1fico_de_Barras.ipynb\" target=\"_parent\"><img src=\"https://colab.research.google.com/assets/colab-badge.svg\" alt=\"Open In Colab\"/></a>"
      ]
    },
    {
      "cell_type": "markdown",
      "source": [
        "<img alt=\"Colaboratory logo\" width=\"15%\" src=\"https://raw.githubusercontent.com/carlosfab/escola-data-science/master/img/novo_logo_bg_claro.png\">\n",
        "\n",
        "#### **Visualização de Dados com Python**\n",
        "*by [sigmoidal.ai](https://sigmoidal.ai)*\n",
        "\n",
        "---"
      ],
      "metadata": {
        "id": "-dBtfTaSzxAk"
      }
    },
    {
      "cell_type": "markdown",
      "source": [
        "# Gráfico de Barras\n",
        "\n",
        "O gráfico de barras é um gráfico composto por barras de formato retangular. O comprimento (ou altura) de cada barra é proporcional ao valor que ela representa. Vale ressaltar que é comum vermos tanto barras desenhadas na vertical quanto na horizontal.\n",
        "\n",
        "<center><img src=\"https://www.kdnuggets.com/wp-content/uploads/how-to-make-a-bar-chart-in-d3-fig12.png\" height=\"200px\"></center>\n",
        "\n",
        "Nenhuma verdade é absoluta, mas o gráfico de barras é bem mais útil quanto tentamos representar dados discretos. Apesar de muita gente confundir ele com o histograma, são conceitos completamente diferentes."
      ],
      "metadata": {
        "id": "a9OuQNmJzzr7"
      }
    },
    {
      "cell_type": "code",
      "execution_count": null,
      "metadata": {
        "id": "eRIST74uzrsa"
      },
      "outputs": [],
      "source": []
    }
  ]
}