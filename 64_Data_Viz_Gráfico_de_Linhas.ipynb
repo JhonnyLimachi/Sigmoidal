{
  "nbformat": 4,
  "nbformat_minor": 0,
  "metadata": {
    "colab": {
      "provenance": [],
      "authorship_tag": "ABX9TyOoMclkW5Qor7D4T5om1AtF",
      "include_colab_link": true
    },
    "kernelspec": {
      "name": "python3",
      "display_name": "Python 3"
    },
    "language_info": {
      "name": "python"
    }
  },
  "cells": [
    {
      "cell_type": "markdown",
      "metadata": {
        "id": "view-in-github",
        "colab_type": "text"
      },
      "source": [
        "<a href=\"https://colab.research.google.com/github/JhonnyLimachi/Sigmoidal/blob/main/64_Data_Viz_Gr%C3%A1fico_de_Linhas.ipynb\" target=\"_parent\"><img src=\"https://colab.research.google.com/assets/colab-badge.svg\" alt=\"Open In Colab\"/></a>"
      ]
    },
    {
      "cell_type": "markdown",
      "source": [
        "<img alt=\"Colaboratory logo\" width=\"15%\" src=\"https://raw.githubusercontent.com/carlosfab/escola-data-science/master/img/novo_logo_bg_claro.png\">\n",
        "\n",
        "#### **Visualização de Dados com Python**\n",
        "*by [sigmoidal.ai](https://sigmoidal.ai)*\n",
        "\n",
        "---"
      ],
      "metadata": {
        "id": "coGG02AeaulN"
      }
    },
    {
      "cell_type": "markdown",
      "source": [
        "# Gráfico de Linhas\n",
        "\n",
        "O gráfico de linha é um tipo de gráfico que mostra a informação em forma de um conjunto de pontos (*markers*) conectados por segmentos de linha reta. É um dos tipos básicos de gráficos mais usados na maioria dos problemas\n",
        "\n",
        "<center><img src=\"https://raw.githubusercontent.com/carlosfab/curso_data_science_na_pratica/master/modulo_03/grafico_linha.png\"width=\"400px\"></center>\n",
        "\n",
        "Gráficos de linhas são ideais para mostrar alterações e tendências de dados em intervalos de tempo iguais.\n",
        "\n",
        "Quando se quer observar o comportamento dos dados ao longo do tempo, usa-se o eixo x (horizontal) para representar a ordem cronológica e o eixo y para a variável dependente.\n"
      ],
      "metadata": {
        "id": "hzy9ftP5aw-F"
      }
    },
    {
      "cell_type": "markdown",
      "source": [
        "## Quando Usar?\n",
        "Para regristrar dados que se conectem e têm continuidade.\n",
        "\n",
        "## Dicas\n",
        "* Princípio da conexão de Gestalt\n",
        "> \"A Gestalt diz que elementos que estão visualmente conectados são percebidos como mais relacionados do que elementos sem conexão. Isso significa que 2 figuras idênticas em um layout, quando desconectadas, são vistas diferentemente do que as suas figuras disformes ligadas por uma linha.\n",
        "De todos os princípios que sugerem que os objetos estão relacionados, a conexão uniforme tende a ser o mais forte.\"\n",
        "\n",
        "* Não faz sentido para variáveis categóricas\n",
        "\n",
        "* Frequentemente o eixo X é uma unidade de tempo."
      ],
      "metadata": {
        "id": "cy9dGaMba2P1"
      }
    },
    {
      "cell_type": "markdown",
      "source": [
        "## Plotar o gráfico de linhas\n",
        "\n",
        "Para exemplificar o gráfico de linhas, vou usar um *dataset* contendo o número de casos (mensal) de dengue para a cidade de Campinas-SP.\n",
        "\n",
        "Além do número de casos confirmados de dengue, o *dataset* mostra ainda dados relacionados à chuva, temperaturas média, mínima e máxima do município. O período contemplado pelo conjunto de dados é de 1998 a 2015."
      ],
      "metadata": {
        "id": "YoUO4Rpga4k9"
      }
    },
    {
      "cell_type": "code",
      "execution_count": null,
      "metadata": {
        "id": "yoZMHIlLaosG"
      },
      "outputs": [],
      "source": []
    }
  ]
}