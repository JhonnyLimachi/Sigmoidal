{
  "nbformat": 4,
  "nbformat_minor": 0,
  "metadata": {
    "colab": {
      "provenance": [],
      "authorship_tag": "ABX9TyM8eGWVE5UfrQhVydEPDx1E",
      "include_colab_link": true
    },
    "kernelspec": {
      "name": "python3",
      "display_name": "Python 3"
    },
    "language_info": {
      "name": "python"
    }
  },
  "cells": [
    {
      "cell_type": "markdown",
      "metadata": {
        "id": "view-in-github",
        "colab_type": "text"
      },
      "source": [
        "<a href=\"https://colab.research.google.com/github/JhonnyLimachi/Sigmoidal/blob/main/45_Deploy_para_Machine_Learning.ipynb\" target=\"_parent\"><img src=\"https://colab.research.google.com/assets/colab-badge.svg\" alt=\"Open In Colab\"/></a>"
      ]
    },
    {
      "cell_type": "markdown",
      "source": [
        "<img alt=\"Colaboratory logo\" width=\"15%\" src=\"https://raw.githubusercontent.com/carlosfab/escola-data-science/master/img/novo_logo_bg_claro.png\">\n",
        "\n",
        "#### **Data Science na Prática 2.0**\n",
        "*by [sigmoidal.ai](https://sigmoidal.ai)*\n",
        "\n",
        "---"
      ],
      "metadata": {
        "id": "bf0TKGgWmBma"
      }
    },
    {
      "cell_type": "markdown",
      "source": [
        "# Preço de Imóveis em São Paulo\n",
        "\n",
        "Neste módulo, iremos treinar um modelo para fazer a previsão do preço de venda de apartamentos na cidade de São Paulo e usar esse modelo para alimentar uma aplicação web mediante *deploy*.\n",
        "\n",
        "Como o objetivo é focar na construção do *webapp* e em como subir uma aplicação, a etapa da análise exploratória será suprimida (feita anteriormente por mim).\n",
        "\n",
        "Como identifiquei as colunas desnecessárias e redundantes, irei direto ao ponto do treinamento, visando mostrar principalmente como exportar e importar o modelo com a biblioteca `joblib`."
      ],
      "metadata": {
        "id": "gOsKB4Q9mECK"
      }
    },
    {
      "cell_type": "markdown",
      "source": [
        "## Dados de Imóveis\n",
        "\n",
        "Os dados usados aqui foram obtidos [neste link](https://www.kaggle.com/argonalyst/sao-paulo-real-estate-sale-rent-april-2019), e foram disponibilizados publicamente pela startup OpenImob.\n",
        "\n",
        "Para facilitar seu projeto, disponibilizei o arquivo `csv` [neste link](https://www.dropbox.com/s/h8blgaphkfpqsn5/sao-paulo-properties-april-2019.csv?dl=1), a partir do meu Dropbox."
      ],
      "metadata": {
        "id": "hQNEmtZQmPHU"
      }
    },
    {
      "cell_type": "markdown",
      "source": [
        "## Análise e Tratamento dos Dados\n",
        "\n",
        "Os dados originais contém 13.640 entradas e 16 colunas, sendo a coluna `Price` a nossa variável alvo."
      ],
      "metadata": {
        "id": "szBiXP9xmRzT"
      }
    },
    {
      "cell_type": "code",
      "execution_count": null,
      "metadata": {
        "id": "EcBHFOpJmBMN"
      },
      "outputs": [],
      "source": [
        "# importar os pacotes necessários\n",
        "import pandas as pd\n",
        "import numpy as np\n",
        "import matplotlib.pyplot as plt\n",
        "from sklearn.ensemble import RandomForestRegressor\n",
        "from sklearn.model_selection import train_test_split\n",
        "from sklearn.metrics import r2_score, mean_squared_error, mean_absolute_error\n",
        "\n",
        "import warnings\n",
        "warnings.simplefilter(action='ignore', category=FutureWarning)\n",
        "\n",
        "# importar o dataset para um dataframe\n",
        "url_dataset = \"https://www.dropbox.com/s/h8blgaphkfpqsn5/sao-paulo-properties-april-2019.csv?dl=1\"\n",
        "df = pd.read_csv(url_dataset)\n",
        "\n",
        "# ver as 5 primeiras entradas\n",
        "display(df.head())"
      ]
    },
    {
      "cell_type": "markdown",
      "source": [
        "Se você também reparar acima, os nomes dos bairros tinham uma informação desnecessária para este *dataset* específico, acrescentando a *string* `\"/São Paulo\"` ao final de cara nome. Usando `df_clean['District'].apply(lambda x: x.split('/')[0]` eu simplesmente removi essa informação e deixei mais limpa a coluna.\n",
        "\n",
        "Se você explorar melhor esse *dataset* vai ver que ele contempla duas situações: aluguel ou venda."
      ],
      "metadata": {
        "id": "2fksQua2mY6T"
      }
    },
    {
      "cell_type": "code",
      "source": [
        "df_clean = df.copy()\n",
        "\n",
        "# Limpar os nomes do bairros\n",
        "df_clean['District'] = df_clean['District'].apply(lambda x: x.split('/')[0])\n",
        "\n",
        "# ver as 5 primeiras entradas\n",
        "df_clean.head()"
      ],
      "metadata": {
        "id": "eyw0rvt_ma5k"
      },
      "execution_count": null,
      "outputs": []
    }
  ]
}