{
  "nbformat": 4,
  "nbformat_minor": 0,
  "metadata": {
    "colab": {
      "provenance": [],
      "authorship_tag": "ABX9TyNeGDbtllkZXOigjk5oLI7O",
      "include_colab_link": true
    },
    "kernelspec": {
      "name": "python3",
      "display_name": "Python 3"
    },
    "language_info": {
      "name": "python"
    }
  },
  "cells": [
    {
      "cell_type": "markdown",
      "metadata": {
        "id": "view-in-github",
        "colab_type": "text"
      },
      "source": [
        "<a href=\"https://colab.research.google.com/github/JhonnyLimachi/Sigmoidal/blob/main/41_1_PROJETO_Regress%C3%A3o_com_AutoML_PyCaret.ipynb\" target=\"_parent\"><img src=\"https://colab.research.google.com/assets/colab-badge.svg\" alt=\"Open In Colab\"/></a>"
      ]
    },
    {
      "cell_type": "markdown",
      "source": [
        "<img alt=\"Colaboratory logo\" width=\"15%\" src=\"https://raw.githubusercontent.com/carlosfab/escola-data-science/master/img/novo_logo_bg_claro.png\">\n",
        "\n",
        "#### **Data Science na Prática 4.0**\n",
        "\n",
        "\n",
        "---"
      ],
      "metadata": {
        "id": "4d5y2XZAkqvg"
      }
    },
    {
      "cell_type": "markdown",
      "source": [
        "# PROJETO REGRESSÃO\n",
        "\n",
        "Como falamos antes, nossos templates ficarão cada vez mais simples!!\n",
        "\n",
        "O objetivo deste projeto é desenvolver um projeto de Regressão para prever o custo do Seguro de Vida, com [esses dados do Kaggle](https://www.kaggle.com/annetxu/health-insurance-cost-prediction).\n",
        "\n",
        "Aqui, queremos, como sempre, trazer o máximo de autonomia e independência pra vocês. Façam o download, e disponibilizem os seus dados, carreguem eles aqui, e desenvolvam o projeto.\n",
        "\n",
        "## Objetivos\n",
        "\n",
        "* Adquirir e disponibilizar os dados\n",
        "* Análise completa dos dados e do problema (Na mão, ou com Pandas Profiling, SweetViz, etc)\n",
        "* Desenvolver uma solução de Machine Learning eficiente com PyCaret para Regressão\n",
        "\n",
        "LEMBREM-SE: Documentação, Storytelling, Artigo com Código!\n",
        "\n",
        "Mãos à obra e boa sorte!"
      ],
      "metadata": {
        "id": "MYVay0zdlS2B"
      }
    },
    {
      "cell_type": "markdown",
      "source": [
        "# **Link de apoio**\n",
        "\n",
        "[Dados para o projeto](https://www.kaggle.com/datasets/annetxu/health-insurance-cost-prediction)"
      ],
      "metadata": {
        "id": "z8aMdP07llGW"
      }
    }
  ]
}