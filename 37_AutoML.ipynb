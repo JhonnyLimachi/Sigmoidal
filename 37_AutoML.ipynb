{
  "nbformat": 4,
  "nbformat_minor": 0,
  "metadata": {
    "colab": {
      "provenance": [],
      "authorship_tag": "ABX9TyMz1HNmDNAn76CfBU7fi+jb",
      "include_colab_link": true
    },
    "kernelspec": {
      "name": "python3",
      "display_name": "Python 3"
    },
    "language_info": {
      "name": "python"
    }
  },
  "cells": [
    {
      "cell_type": "markdown",
      "metadata": {
        "id": "view-in-github",
        "colab_type": "text"
      },
      "source": [
        "<a href=\"https://colab.research.google.com/github/JhonnyLimachi/Sigmoidal/blob/main/37_AutoML.ipynb\" target=\"_parent\"><img src=\"https://colab.research.google.com/assets/colab-badge.svg\" alt=\"Open In Colab\"/></a>"
      ]
    },
    {
      "cell_type": "markdown",
      "source": [
        "<img alt=\"Colaboratory logo\" width=\"15%\" src=\"https://raw.githubusercontent.com/carlosfab/escola-data-science/master/img/novo_logo_bg_claro.png\">\n",
        "\n",
        "#### **Data Science na Prática 4.0**\n",
        "\n",
        "\n",
        "---\n",
        "\n",
        "# Automated Machine Learning (AutoML)\n",
        "\n",
        "\n",
        "\n",
        "Automated Machine Learning (AutoML) é um tipo de ferramenta que foca em produzir soluções de Machine Learning para um Cientista de Dados de forma mais rápida, facilitando o teste de hipóteses, e acelerando a seleção e otimização de modelos.\n",
        "\n",
        "Além disso, frameworks de AutoML também podem ajudar Cientistas de Dados com Visualização de Dados, Compreensão e *Deploy* de Modelos de Machine Learning.\n",
        "\n",
        "AutoML é sobre fazer as tarefas relacionadas ao Machine Learning mais fáceis, usar menos código e evitar fazer o tuning de parâmetros manualmente.\n",
        "\n",
        "<center><img width=\"40%\" src=\"https://images.unsplash.com/photo-1625314887424-9f190599bd56?ixlib=rb-1.2.1&ixid=MnwxMjA3fDB8MHxwaG90by1wYWdlfHx8fGVufDB8fHx8&auto=format&fit=crop&w=634&q=80\"></center>\n",
        "\n",
        "Entretanto, é sempre bom lembrar que AutoML não pode substituir a expertise e o feeling do Cientista de Dados, mas apoia o mesmo a se manter em uma distância estratégica do trabalho técnica que lega ao desenvolvimento de um modelo. Em outras palavras, menos código, e mais análise, mais decisões.\n",
        "\n",
        "Alguns dos principais pacotes open-source de AutoML são:\n",
        "* auto sklearn\n",
        "* auto weka\n",
        "* auto keras\n",
        "* PyCaret\n",
        "\n",
        "De uma forma ou de outra, poderíamos entender como AutoML, ou quase, ferramentas como Pandas Profiling, SweetViz e até o Prophet do Facebook. Nem todas as literaturas concordarão com isso, mas essas são bibliotecas que funcionam de forma simplificada, com poucas linhas de código para grandes resultados, agilizando e facilidando o ciclo de vida de um modelo de Machine Learning. Tenha elas em mente também."
      ],
      "metadata": {
        "id": "cu_raKD1vz7O"
      }
    },
    {
      "cell_type": "markdown",
      "source": [
        "## PyCaret e AutoML\n",
        "\n",
        "Um projeto de Machine Learning é algo que carrega elevado nível de complexidade, e demanda muita concentração, atenção aos detalhes e principalmente, tempo. Precisamos saber muito bem como tratar nossos dados, escolher e treinar modelos, avaliar resultados, e tudo isso consome muito tempo, e acaba abrindo margem para erros.\n",
        "\n",
        "Com isso em mente, utilizaremos aqui o framework de Auto Machine Learning **PyCaret**.\n",
        "\n",
        "<p align=\"center\"><img src=\"https://pycaret.org/wp-content/uploads/2020/03/Divi93_43.png\" width=\"60%\"></p>\n",
        "\n",
        "PyCaret é uma biblioteca *open-source* e *low-code* de Python que tem como objetivo reduzir o templo entre o ciclo entre uma hipótese e insights em experimentos com Machine Learning.\n",
        "\n",
        "O PyCaret possibilita que Cientistas de Dados completem experimentos de ponta a ponta de forma rápida e eficiente. Em comparação com outras bibliotecas do tipo, o PyCaret traz o diferencial de ser *low-code*, isto é, demanda pouco código para que opere de forma robusta. Todas as operações realizadas com o PyCaret estão carregadas em um pipeline que está pronto para o deploy. Basicamente, o PyCaret é um pacote low-code que engloba diversas bibliotecas e frameworks de Machine Learning como scikit-learn, XGBoost, Microsoft LightGBM, spaCy e muito mais."
      ],
      "metadata": {
        "id": "EjF1Qj-uv6tU"
      }
    },
    {
      "cell_type": "markdown",
      "source": [
        "## Os Projetos deste Módulo\n",
        "\n",
        "Neste módulo, teremos quatro projetos, sendo três deles utilizando o PyCaret, e um o Prophet, a biblioteca low-code para previsão de séries temporais desenvolvido pelo Facebook.\n",
        "\n",
        "Séries Temporais são um outro bicho, então teremos um material separado e específico para isso.\n",
        "\n",
        "Em relação ao PyCaret, podemos facilmente desenvolver projetos nas linhas de:\n",
        "\n",
        "* Regressão\n",
        "* Classificação\n",
        "* Clustering\n",
        "\n",
        "Isso pode causar certo estranhamento. Até aqui (e provavelmente nos próximos módulos) temos somente um projeto por módulo. Por que aqui teremos mais? A resposta é simples: AutoML!\n",
        "\n",
        "Utilizaremos aqui diferentes ferramentas que nos ajudam a entender, desenvolver e rodar esses projetos de forma mais rápida, testando hipóteses, manipulando modelos, e por isso, conseguiremos fazer mais projetos do que normalmente conseguiríamos sem a ajuda dessas ferramentas.\n",
        "\n",
        "Neste notebook, iremos aprender a utilizar dessas ferramentas para criar um projeto, e então utilizaremos templates para que vocês possam desenvolver os projetos de vocês do zero!"
      ],
      "metadata": {
        "id": "7P5IIQ_Iv9k0"
      }
    },
    {
      "cell_type": "markdown",
      "source": [
        "## Dicionário de Variáveis\n",
        "\n",
        "**The Boston Housing Dataset**\n",
        "<center><img width=\"70%\" src=\"https://images.unsplash.com/photo-1603298108410-e6f28ad2708d?ixlib=rb-1.2.1&ixid=MnwxMjA3fDB8MHxwaG90by1wYWdlfHx8fGVufDB8fHx8&auto=format&fit=crop&w=1191&q=80\"></center>\n",
        "\n",
        "O Boston Housing Dataset é derivado de informações coletadas pelo *U.S. Census Service* sobre *housing* na área de Boston/MA. O objetivo desse projeto é utilizar as informações que temos para prever o preço de venda das casas.\n",
        "\n",
        "As informações coletadas foram:\n",
        "\n",
        "* CRIM - índice de crime per capita por cidade\n",
        "* ZN - proporção de zonas de áreas de residenciais por lotes com mais de 25,000 sq.ft. (=~ 2300 m2)\n",
        "* INDUS - proporção de acres de negócios não varejistas por cidade.\n",
        "* CHAS - variável dummy para o Charles River (1 if tract bounds river; 0 otherwise)\n",
        "* NOX - concentração de óxido nítrico (partes por 10 milhões)\n",
        "* RM - média de quartos por habitação\n",
        "* AGE - proporção de unidades ocupadas pelos proprietários construiídas antes de 1940\n",
        "* DIS - distância ponderada de 5 centros de emprego de Boston\n",
        "* RAD - índice de acessibilidade a rodovias\n",
        "* TAX - índice do valor cheio de imposto sobre propriedade por 10,000 dólares.\n",
        "* PTRATIO - proporção entre alunos e professores por cidade\n",
        "* B - 1000(Bk - 0.63)^2 onde Bk é a proporção de pessoas negras por cidade\n",
        "* LSTAT - porcentagem da população em status inferior\n",
        "* MEDV - valor de casas ocupadas pelos proprietários em milhares de dólares."
      ],
      "metadata": {
        "id": "18yyzN6JwAaH"
      }
    },
    {
      "cell_type": "code",
      "execution_count": null,
      "metadata": {
        "id": "vLmiG_HMvKH5"
      },
      "outputs": [],
      "source": []
    }
  ]
}