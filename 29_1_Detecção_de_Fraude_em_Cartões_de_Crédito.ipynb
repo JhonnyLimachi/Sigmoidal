{
  "nbformat": 4,
  "nbformat_minor": 0,
  "metadata": {
    "colab": {
      "provenance": [],
      "authorship_tag": "ABX9TyPO4U9+HzkUh2KX8wLzDVmD",
      "include_colab_link": true
    },
    "kernelspec": {
      "name": "python3",
      "display_name": "Python 3"
    },
    "language_info": {
      "name": "python"
    }
  },
  "cells": [
    {
      "cell_type": "markdown",
      "metadata": {
        "id": "view-in-github",
        "colab_type": "text"
      },
      "source": [
        "<a href=\"https://colab.research.google.com/github/JhonnyLimachi/Sigmoidal/blob/main/29_1_Detec%C3%A7%C3%A3o_de_Fraude_em_Cart%C3%B5es_de_Cr%C3%A9dito.ipynb\" target=\"_parent\"><img src=\"https://colab.research.google.com/assets/colab-badge.svg\" alt=\"Open In Colab\"/></a>"
      ]
    },
    {
      "cell_type": "markdown",
      "source": [
        "---\n",
        "<img alt=\"Colaboratory logo\" width=\"15%\" src=\"https://raw.githubusercontent.com/carlosfab/escola-data-science/master/img/novo_logo_bg_claro.png\">\n",
        "\n",
        "#### **Data Science na Prática 4.0**\n",
        "*by [sigmoidal.ai](https://sigmoidal.ai)*  \n",
        "\n",
        "---"
      ],
      "metadata": {
        "id": "bh1mR0z_QSk8"
      }
    },
    {
      "cell_type": "markdown",
      "source": [
        "# Detecção de Fraudes em Cartões de Crédito\n",
        "\n",
        "Neste projeto, iremos abordar o problema das fraudes em cartões de crédito, uma das principais preocupações das instituições financeiras como bancos e *fintechs*. Apenas no Brasil, cerca de 12,1 milhões de pessoas já foram vítimas de algum tipo de fraude financeira no último ano. Traduzindo em valores, os golpes financeiros ultrapassaram a cifra de R$ 1,8 bilhão de prejuízo por ano para os últimos 12 meses.\n",
        "\n",
        "<p align=center>\n",
        "<img src=\"https://images.unsplash.com/photo-1592772874383-d08932d29db7?ixid=MnwxMjA3fDB8MHxwaG90by1wYWdlfHx8fGVufDB8fHx8&ixlib=rb-1.2.1&auto=format&fit=crop&w=699&q=80\" width=\"60%\"></p>\n",
        "\n",
        "Dentra essas fraudes, aquelas envolvendo cartões de crédito são de grande relevância uma vez que a sua não-detecção acaretará em prejuízos consideráveis, tanto para o consumidor quanto para a instituição financeira.\n",
        "\n",
        "Um outro fator a ser considerado é a quantidade de falsos positivos, ou seja, aquelas vezes em que você tentou fazer uma compra e teve seu cartão bloqueado preventivamente - o que provavelmente gerou estresse e constrangimento.\n",
        "\n",
        "Por todos esses motivos, o investimento na área de detecção de fraudes por meio de Inteligência Artificial vem crescendo a cada ano, representando uma grande oportunidade em *Data Science*.\n",
        "\n",
        "Dispondo de grandes volumes de dados como base histórica, um algoritmo de machine learning apenas um pouco melhor que os anteriores já representa uma economia de milhões de Reais. E esse é o desafio, aprimorar cada vez mais o uso de algoritmos visando inibir ou evitar transações fraudulentas."
      ],
      "metadata": {
        "id": "rVMaoJ-xQWsi"
      }
    },
    {
      "cell_type": "code",
      "execution_count": null,
      "metadata": {
        "id": "u4oXt89WPSuh"
      },
      "outputs": [],
      "source": [
        "# importar os pacotes necessários\n"
      ]
    },
    {
      "cell_type": "markdown",
      "source": [
        "Para facilitar a aquisição dos dados, criei um *link* com acesso direto ao `csv`. Com isso, basta importar o conjunto de dados usando o método `pd.read_csv()`."
      ],
      "metadata": {
        "id": "CM4D0XtGQvX6"
      }
    },
    {
      "cell_type": "code",
      "source": [
        "file_path = \"https://www.dropbox.com/s/b44o3t3ehmnx2b7/creditcard.csv?dl=1\"\n",
        "\n",
        "# importar os dados para um dataframe\n"
      ],
      "metadata": {
        "id": "kzi_7V4qQ3cS"
      },
      "execution_count": null,
      "outputs": []
    },
    {
      "cell_type": "markdown",
      "source": [
        "Com os dados importados para dentro de uma estrutura *Dataframe* - e não havendo a necessidade de mais nenhum ajuste ou configuração nesta etapa, pode-se iniciar uma análise exploratória dos dados a fim de preparar um modelo de *Machine Learning*.\n",
        "\n",
        "Lembre-se de realizar o *split* dos conjuntos, para evitar o vazamento de dados.\n",
        "\n",
        "Feito isso, vamos à Análise Exploratória."
      ],
      "metadata": {
        "id": "Hz7Xw-YVQ5r8"
      }
    },
    {
      "cell_type": "markdown",
      "source": [
        "## Análise Exploratória\n",
        "\n",
        "Abordar tópicos/informações como:\n",
        "\n",
        "* Ver as 5 primeiras entradas\n",
        "* Ver o resumo estatístico do dataframe\n",
        "* Verificar se há valores ausentes\n",
        "* Plotar um gráfico de barras (ou countplot) para ver o balanceamento do *dataset*\n",
        "* Plotar os seguintes histogramas:\n",
        "    * Variável `Time`\n",
        "        * Fraude (`Class == 1`)\n",
        "        * Normal (`Class == 0`)\n",
        "    * Variável `Amount`\n",
        "        * Fraude (`Class == 1`)\n",
        "        * Normal (`Class == 0`)\n",
        "* Plotar um `boxplot` para a variável `Amount` quando houve fraude (`Class == 1`)\n",
        "* Plotar uma matriz de correlação"
      ],
      "metadata": {
        "id": "lOpGWiToQ9Kx"
      }
    },
    {
      "cell_type": "markdown",
      "source": [
        "## Preparação dos Dados\n",
        "\n",
        "* Normalizar os dados que ainda não haviam sido pré-processados (`Time` e `Amount`)\n",
        "* Dividir o conjunto de dados entre treino e validação\n",
        "* [*Recomendado*] Balancear o conjunto de dados"
      ],
      "metadata": {
        "id": "gCjAo8-ERDIj"
      }
    },
    {
      "cell_type": "code",
      "source": [],
      "metadata": {
        "id": "H3rXK33rRXzC"
      },
      "execution_count": null,
      "outputs": []
    },
    {
      "cell_type": "markdown",
      "source": [
        "## Modelo de Machine Learning\n",
        "\n",
        "* Construir um modelo para **classificação**.\n",
        "* [*Opcional*] Construir mais de um modelo para avaliar os desempenhos"
      ],
      "metadata": {
        "id": "BYjbja1_RZih"
      }
    },
    {
      "cell_type": "code",
      "source": [],
      "metadata": {
        "id": "hwXj6PzVRbCB"
      },
      "execution_count": null,
      "outputs": []
    },
    {
      "cell_type": "markdown",
      "source": [
        "## Avaliar o desempenho do modelo\n",
        "\n",
        "* Identificar a melhor métrica para esse tipo de modelo\n",
        "* [*Opcional*] Comparar o desempenho entre diversos modelos"
      ],
      "metadata": {
        "id": "UsBIUqgBRc7B"
      }
    },
    {
      "cell_type": "code",
      "source": [],
      "metadata": {
        "id": "k-pwO3hARecr"
      },
      "execution_count": null,
      "outputs": []
    },
    {
      "cell_type": "markdown",
      "source": [
        "## Conclusão\n",
        "\n",
        "* Escrever suas conclusões a respeito da construção do modelo"
      ],
      "metadata": {
        "id": "_1gveGG7RgXw"
      }
    },
    {
      "cell_type": "markdown",
      "source": [
        "# **📖 Projeto - Detectando Fraudes em Cartões de Crédito**\n",
        "\n",
        "Saia agora da sua zona de conforto!\n",
        "\n",
        "Neste projeto, iremos abordar o problema das fraudes em cartões de crédito, uma das principais preocupações das instituições financeiras como bancos e fintechs. Apenas no Brasil, cerca de 12,1 milhões de pessoas já foram vítimas de algum tipo de fraude financeira no último ano. Traduzindo em valores, os golpes financeiros ultrapassaram a cifra de R$ 1,8 bilhão de prejuízo por ano para os últimos 12 meses.\n",
        "\n",
        "Neste projeto, iremos abordar o problema das fraudes em cartões de crédito, uma das principais preocupações das instituições financeiras como bancos e fintechs.\n",
        "\n",
        "Apenas no Brasil, cerca de 12,1 milhões de pessoas já foram vítimas de algum tipo de fraude financeira no último ano. Traduzindo em valores, os golpes financeiros ultrapassaram a cifra de R$ 1,8 bilhão de prejuízo por ano para os últimos 12 meses.\n",
        "\n",
        "Dentre essas fraudes, aquelas envolvendo cartões de crédito são de grande relevância uma vez que a sua não-detecção acarretará em prejuízos consideráveis, tanto para o consumidor quanto para a instituição financeira.\n",
        "\n",
        "Um outro fator a ser considerado é a quantidade de falsos positivos, ou seja, aquelas vezes em que você tentou fazer uma compra e teve seu cartão bloqueado preventivamente - o que provavelmente gerou estresse e constrangimento.\n",
        "\n",
        "Por todos esses motivos, o investimento na área de detecção de fraudes por meio de Inteligência Artificial vem crescendo a cada ano, representando uma grande oportunidade em Data Science.\n",
        "\n",
        "Dispondo de grandes volumes de dados como base histórica, um algoritmo de machine learning apenas um pouco melhor que os anteriores já representa uma economia de milhões de Reais. E esse é o desafio, aprimorar cada vez mais o uso de algoritmos visando inibir ou evitar transações fraudulentas.\n",
        "\n",
        "Você tem totais condições de fazer essa análise completa. Não tenha medo de errar ou arriscar. Também não se limite às instruções que eu passarei, fique a vontade para ir além.\n",
        "\n",
        "\n",
        "\n",
        "# **Instruções para Revisão do seu Projeto**\n",
        "\n",
        "Para os alunos que não se sentiram confiantes seguindo o nosso modelo, há a possibilidade de você submetê-lo para uma revisão.\n",
        "\n",
        "Caso você queira submeter seu projeto, siga as seguintes etapas.\n",
        "\n",
        "Publique o projeto no seu Github (não envie o link do Colab diretamente).\n",
        "Envie um email para suporte@sigmoidal.ai com o assunto \"Projeto do Módulo 4 - Revisão\".\n",
        "Aguarde a resposta ao seu email em até 2 dias úteis.\n",
        "Atenção, não envie o projeto para qualquer outro email, direct ou Telegram, pois esses meios dificultam o nosso controle."
      ],
      "metadata": {
        "id": "sdzAYEhFSTm5"
      }
    },
    {
      "cell_type": "markdown",
      "source": [
        "# **Referências**\n",
        "\n",
        "\n",
        "Projeto \"gabarito\" (apenas para referência)\n",
        "\n",
        "In Depth: Principal Component Analysis\n",
        "\n",
        "Credit Card Fraud Detection"
      ],
      "metadata": {
        "id": "-WLSRZcOSikJ"
      }
    }
  ]
}