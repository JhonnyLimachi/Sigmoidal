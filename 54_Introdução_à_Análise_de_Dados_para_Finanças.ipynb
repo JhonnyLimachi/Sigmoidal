{
  "nbformat": 4,
  "nbformat_minor": 0,
  "metadata": {
    "colab": {
      "provenance": [],
      "authorship_tag": "ABX9TyPNTB8Cjec4l8jtQjfA3Lqi",
      "include_colab_link": true
    },
    "kernelspec": {
      "name": "python3",
      "display_name": "Python 3"
    },
    "language_info": {
      "name": "python"
    }
  },
  "cells": [
    {
      "cell_type": "markdown",
      "metadata": {
        "id": "view-in-github",
        "colab_type": "text"
      },
      "source": [
        "<a href=\"https://colab.research.google.com/github/JhonnyLimachi/Sigmoidal/blob/main/54_Introdu%C3%A7%C3%A3o_%C3%A0_An%C3%A1lise_de_Dados_para_Finan%C3%A7as.ipynb\" target=\"_parent\"><img src=\"https://colab.research.google.com/assets/colab-badge.svg\" alt=\"Open In Colab\"/></a>"
      ]
    },
    {
      "cell_type": "markdown",
      "source": [
        "# **Data Science para Finanças**\n",
        "*por [Carlos Melo - Sigmoidal](https://escola.sigmoidal.ai/curso-python-do-zero/)*\n",
        "\n",
        "---\n",
        "\n",
        "<h1>Uma introdução à Análise Financeira</h1>\n",
        "\n",
        "Aplicações possíveis para Python e Finanças\n",
        "\n",
        "Seja para extrair informações de portais de investimento, analisar dados ou usar a Inteligência Artificial para decidir pontos de compra e venda, aprender Python no mundo dos investimentos é a decisão mais inteligente que você poderia ter.\n",
        "\n",
        "<center><img src=\"https://www.thepythoncode.com/media/articles/introduction-to-finance-and-technical-indicators-with-python.jpg\" height=\"400px\"></center>\n",
        "\n",
        "## Ambiente Interativo\n",
        "\n",
        "Veja algumas das principais aplicações possíveis:\n",
        "\n",
        "* Criar dashboards com indicadores, múltiplos e cotações\n",
        "* Baixar automaticamente demonstrações financeiras da CVM\n",
        "* Realizar backtesting de maneira completamente automatizada\n",
        "* Enviar ordens de compra e venda de acordo com a sua estratégia\n",
        "* Analisar sentimentos de notícias para inferir como a empresa será afetada\n",
        "* Criar NFTs de maneira automatizada\n",
        "* Encontrar oportunidades únicas de NFT em marketplaces como OpenSea\n",
        "* Analisar várias criptomoedas simultaneamente\n",
        "* Otimizar sua carteira de investimentos\n",
        "* Realizar benchmarks com índices e fundos de investimento\n",
        "\n",
        "E essas são apenas algumas das possibilidades que você tem. Imagine a vantagem estratégica que isso representa em relação aos demais investidores."
      ],
      "metadata": {
        "id": "PLTmgDiOmhty"
      }
    },
    {
      "cell_type": "markdown",
      "source": [
        "### Importar arquivos `csv` com as cotações do BBAS3.SA\n",
        "\n",
        "Para dar um exemplo de como é simples importar dados com o Pandas, veja o seguinte exemplo.\n",
        "\n",
        "Pelo site [Yahoo Finance](https://finance.yahoo.com/quote/BBAS3.SA/history?p=BBAS3.SA), baixei os dados da ação ordinária do Banco do Brasil (BBAS3) em formato `csv` e disponibilizei o arquivo [neste link](https://raw.githubusercontent.com/carlosfab/curso_data_science_na_pratica/master/modulo_02/BBAS3.SA.csv). Se eu abrir esse arquivo na minha máquina pelo Excel, é assim que ele vai aparecer para mim:\n",
        "\n",
        "<center><img src=\"https://raw.githubusercontent.com/carlosfab/curso_data_science_na_pratica/master/modulo_02/bbas3_excel.png\" height=\"300px\"></center>\n",
        "\n",
        "Importar esse mesmo arquivo usando o Pandas é tão simples quanto executar a função `pd.read_csv(\"local_do_arquivo.csv\")`, informando qual o endereço que o `csv` se encontra (endereço na internet ou caminho na máquia local.\n",
        "\n",
        "\n",
        "\n",
        "Também é possível baixar arquivos por comandos do Terminal, criar diretórios e automatizar *pipelines*. Isso contribui mais ainda para que seu notebook seja replicável por qualquer pessoa.\n",
        "\n",
        "Vamos supor que você está usando um arquivo csv que se encontra no endereço ```https://raw.githubusercontent.com/carlosfab/dsnp2/master/datasets/BBAS3.SA.csv``` e quer baixar o mesmo:"
      ],
      "metadata": {
        "id": "YsFNgR4kmlvo"
      }
    },
    {
      "cell_type": "code",
      "execution_count": null,
      "metadata": {
        "id": "aecKbz_KmAFW"
      },
      "outputs": [],
      "source": []
    }
  ]
}