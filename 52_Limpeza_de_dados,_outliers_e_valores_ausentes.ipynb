{
  "nbformat": 4,
  "nbformat_minor": 0,
  "metadata": {
    "colab": {
      "provenance": [],
      "authorship_tag": "ABX9TyM7PnEgWX4Hfp0QhaNxHcrY",
      "include_colab_link": true
    },
    "kernelspec": {
      "name": "python3",
      "display_name": "Python 3"
    },
    "language_info": {
      "name": "python"
    }
  },
  "cells": [
    {
      "cell_type": "markdown",
      "metadata": {
        "id": "view-in-github",
        "colab_type": "text"
      },
      "source": [
        "<a href=\"https://colab.research.google.com/github/JhonnyLimachi/Sigmoidal/blob/main/52_Limpeza_de_dados%2C_outliers_e_valores_ausentes.ipynb\" target=\"_parent\"><img src=\"https://colab.research.google.com/assets/colab-badge.svg\" alt=\"Open In Colab\"/></a>"
      ]
    },
    {
      "cell_type": "markdown",
      "source": [
        "<p align=\"center\"><img src=\"https://raw.githubusercontent.com/carlosfab/escola-data-science/master/img/eds.png\" height=\"100px\"></p>\n",
        "\n",
        "# Limpeza de dados, outliers e valores ausentes\n",
        "\n",
        "Neste projeto, vamos focar em uma habilidade básica, mas essencial de um Cientista de Dados. Saber lidar com valores ausentes, lidar com *outliers*, transformar os dados. Essas são algumas das atividades que fazem parte do checklist de todos os projetos que executamos.\n",
        "\n",
        "\n",
        "Esses processos podem ter um impacto enorme nos resultados, desde a parte da análise dos dados até os modelos de *Machine Learning*.\n",
        "<p align=\"center\"><img src=\"https://image.freepik.com/free-vector/group-analysts-working-graphs_1262-21249.jpg\n",
        "\"></p>\n",
        "\n",
        "\n",
        "Aqui, veremos o que buscar entender nos dados, os passos a dar, como identificar, e tratar *outliers*, as melhores práticas e métodos para lidar com dados ausentes, e por fim, converter os dados para os formatos necessários.\n"
      ],
      "metadata": {
        "id": "NznMM7h1r9jN"
      }
    },
    {
      "cell_type": "markdown",
      "source": [
        "## O Que Analisar?\n",
        "\n",
        "Primeiro de tudo, precisamos entender o que são bons dados, para que saibamos os passos que precisamos tomar para ter o melhor conjunto de dados possível, a partir dos dados que estamos utilizando.\n",
        "\n",
        "* Tipo de Dados\n",
        "  * Coluna de data em formato `datetime`, coluna de valores monetários em `float`.\n",
        "* *Range* dos Dados\n",
        "  * Meses de 1 a 12, dias do mês de 1 a 31.\n",
        "* Dados Obrigatórios\n",
        "  * Algumas colunas não podem estar vazias\n",
        "* Dados Únicos\n",
        "  * CPF, RG, CNPJ, ID de usuário.\n",
        "* Dados Categóricos\n",
        "  * Gênero Masculino ou Feminino.\n",
        "* Padrões regulares\n",
        "  * (61) 9 8765-4321\n",
        "* Validade Entre os Campos\n",
        "  * Data de saída não ser anterior à data de entrada.\n"
      ],
      "metadata": {
        "id": "171Q7pZ8sLhE"
      }
    },
    {
      "cell_type": "code",
      "execution_count": null,
      "metadata": {
        "id": "zIfD-_Y1rvlD"
      },
      "outputs": [],
      "source": []
    }
  ]
}