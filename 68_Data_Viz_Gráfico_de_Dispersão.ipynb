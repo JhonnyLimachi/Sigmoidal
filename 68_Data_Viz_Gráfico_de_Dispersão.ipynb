{
  "nbformat": 4,
  "nbformat_minor": 0,
  "metadata": {
    "colab": {
      "provenance": [],
      "authorship_tag": "ABX9TyOaTckDixsxmU6j3BKNzuHX",
      "include_colab_link": true
    },
    "kernelspec": {
      "name": "python3",
      "display_name": "Python 3"
    },
    "language_info": {
      "name": "python"
    }
  },
  "cells": [
    {
      "cell_type": "markdown",
      "metadata": {
        "id": "view-in-github",
        "colab_type": "text"
      },
      "source": [
        "<a href=\"https://colab.research.google.com/github/JhonnyLimachi/Sigmoidal/blob/main/68_Data_Viz_Gr%C3%A1fico_de_Dispers%C3%A3o.ipynb\" target=\"_parent\"><img src=\"https://colab.research.google.com/assets/colab-badge.svg\" alt=\"Open In Colab\"/></a>"
      ]
    },
    {
      "cell_type": "markdown",
      "source": [
        "<img alt=\"Colaboratory logo\" width=\"15%\" src=\"https://raw.githubusercontent.com/carlosfab/escola-data-science/master/img/novo_logo_bg_claro.png\">\n",
        "\n",
        "#### **Visualização de Dados com Python**\n",
        "*by [sigmoidal.ai](https://sigmoidal.ai)*\n",
        "\n",
        "---"
      ],
      "metadata": {
        "id": "gRWGhXeBBFJ5"
      }
    },
    {
      "cell_type": "markdown",
      "source": [
        "# Gráfico de Dispersão (*Scatter Plot*)\n",
        "\n",
        "O gráfico de dispersão (*scatter plot*) é um gráfico bi-dimensional para visualização de dados que usa pontos para representar o valor entre duas variáveis diferentes.\n",
        "\n",
        "Uma das variáveis corresponde ao valor $x$ e a outra variável corresponde ao valor $y$.\n",
        "\n",
        "Esse tipo de gráfico é ideal quando você quer mostrar a relação entre duas variáveis, e dá ótimos indícios sobre a correlação existente entre elas.\n",
        "\n",
        "\n",
        "<center><img src=\"https://www.data-to-viz.com/graph/scatter_files/figure-html/unnamed-chunk-1-1.png\" height=\"300px\"></center>\n",
        "\n",
        "Vale ressaltar que nem todas as relações são lineares. Muitas delas seguem outros tipos de padrões não-lineares ou não seguem nenhum  tipo de padrão aparente."
      ],
      "metadata": {
        "id": "73YCn-81BIMq"
      }
    },
    {
      "cell_type": "code",
      "execution_count": null,
      "metadata": {
        "id": "bNoz07IVA_HE"
      },
      "outputs": [],
      "source": []
    }
  ]
}