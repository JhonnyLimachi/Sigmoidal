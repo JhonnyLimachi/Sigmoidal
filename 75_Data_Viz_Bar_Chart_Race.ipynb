{
  "nbformat": 4,
  "nbformat_minor": 0,
  "metadata": {
    "colab": {
      "provenance": [],
      "authorship_tag": "ABX9TyMdyKpjQbepztcCcSRtdr+0",
      "include_colab_link": true
    },
    "kernelspec": {
      "name": "python3",
      "display_name": "Python 3"
    },
    "language_info": {
      "name": "python"
    }
  },
  "cells": [
    {
      "cell_type": "markdown",
      "metadata": {
        "id": "view-in-github",
        "colab_type": "text"
      },
      "source": [
        "<a href=\"https://colab.research.google.com/github/JhonnyLimachi/Sigmoidal/blob/main/75_Data_Viz_Bar_Chart_Race.ipynb\" target=\"_parent\"><img src=\"https://colab.research.google.com/assets/colab-badge.svg\" alt=\"Open In Colab\"/></a>"
      ]
    },
    {
      "cell_type": "markdown",
      "source": [
        "<img alt=\"Colaboratory logo\" width=\"15%\" src=\"https://raw.githubusercontent.com/carlosfab/escola-data-science/master/img/novo_logo_bg_claro.png\">\n",
        "\n",
        "#### **Visualizações de Dados com Python**\n",
        "*by [sigmoidal.ai](https://sigmoidal.ai)*\n",
        "\n",
        "---"
      ],
      "metadata": {
        "id": "cAeZPCXOJdLY"
      }
    },
    {
      "cell_type": "markdown",
      "source": [
        "# Bar Chart Race\n",
        "\n",
        "Outro gráfico muito interessante e que tem ganhado cada vez mais espaço na mídia é o Bar Chart Race.\n",
        "\n",
        "<center><img src=\"https://www.dexplo.org/bar_chart_race/images/covid19_horiz.gif\" height=\"400px\"></center>\n",
        "\n",
        "Basicamente, é um gráfico de barras animado, que representa a evolução dos números ao longo do tempo.\n",
        "\n",
        "Para utilizar esse tipo de visualização precisamos de um conjunto de dados \"largo\" onde:\n",
        "\n",
        "* Cada linha representa um período no tempo\n",
        "* Cada coluna contém valores para uma categoria\n",
        "* O index contém um elemento de tempo (opcional)\n",
        "\n",
        "O conjunto de dados que vamos usar vem da [documentação oficial]() dessa biblioteca, e está formatado da forma que precisamos para plotar esse gráfico.\n",
        "\n",
        "O conjunto mostra o total de mortes por COVID-19 em diversos países.\n",
        "\n",
        "A primeira coisa que precisamos fazer é instalar o pacote."
      ],
      "metadata": {
        "id": "hhVDkHswKJiG"
      }
    },
    {
      "cell_type": "code",
      "execution_count": null,
      "metadata": {
        "id": "FPjJ7gfbJX-w"
      },
      "outputs": [],
      "source": []
    }
  ]
}