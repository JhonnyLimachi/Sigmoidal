{
  "nbformat": 4,
  "nbformat_minor": 0,
  "metadata": {
    "colab": {
      "provenance": [],
      "authorship_tag": "ABX9TyOcYCtwy4KhPmIaOzP4vukl",
      "include_colab_link": true
    },
    "kernelspec": {
      "name": "python3",
      "display_name": "Python 3"
    },
    "language_info": {
      "name": "python"
    }
  },
  "cells": [
    {
      "cell_type": "markdown",
      "metadata": {
        "id": "view-in-github",
        "colab_type": "text"
      },
      "source": [
        "<a href=\"https://colab.research.google.com/github/JhonnyLimachi/Sigmoidal/blob/main/75_Data_Viz_Bar_Chart_Race.ipynb\" target=\"_parent\"><img src=\"https://colab.research.google.com/assets/colab-badge.svg\" alt=\"Open In Colab\"/></a>"
      ]
    },
    {
      "cell_type": "markdown",
      "source": [
        "<img alt=\"Colaboratory logo\" width=\"15%\" src=\"https://raw.githubusercontent.com/carlosfab/escola-data-science/master/img/novo_logo_bg_claro.png\">\n",
        "\n",
        "#### **Visualizações de Dados com Python**\n",
        "*by [sigmoidal.ai](https://sigmoidal.ai)*\n",
        "\n",
        "---"
      ],
      "metadata": {
        "id": "cAeZPCXOJdLY"
      }
    },
    {
      "cell_type": "markdown",
      "source": [
        "# Bar Chart Race\n",
        "\n",
        "Outro gráfico muito interessante e que tem ganhado cada vez mais espaço na mídia é o Bar Chart Race.\n",
        "\n",
        "<center><img src=\"https://www.dexplo.org/bar_chart_race/images/covid19_horiz.gif\" height=\"400px\"></center>\n",
        "\n",
        "Basicamente, é um gráfico de barras animado, que representa a evolução dos números ao longo do tempo.\n",
        "\n",
        "Para utilizar esse tipo de visualização precisamos de um conjunto de dados \"largo\" onde:\n",
        "\n",
        "* Cada linha representa um período no tempo\n",
        "* Cada coluna contém valores para uma categoria\n",
        "* O index contém um elemento de tempo (opcional)\n",
        "\n",
        "O conjunto de dados que vamos usar vem da [documentação oficial]() dessa biblioteca, e está formatado da forma que precisamos para plotar esse gráfico.\n",
        "\n",
        "O conjunto mostra o total de mortes por COVID-19 em diversos países.\n",
        "\n",
        "A primeira coisa que precisamos fazer é instalar o pacote."
      ],
      "metadata": {
        "id": "hhVDkHswKJiG"
      }
    },
    {
      "cell_type": "code",
      "execution_count": 1,
      "metadata": {
        "colab": {
          "base_uri": "https://localhost:8080/"
        },
        "id": "FPjJ7gfbJX-w",
        "outputId": "1d8895dc-b694-4429-c667-0a5fcd07ac86"
      },
      "outputs": [
        {
          "output_type": "stream",
          "name": "stdout",
          "text": [
            "\u001b[?25l     \u001b[90m━━━━━━━━━━━━━━━━━━━━━━━━━━━━━━━━━━━━━━━━\u001b[0m \u001b[32m0.0/156.8 kB\u001b[0m \u001b[31m?\u001b[0m eta \u001b[36m-:--:--\u001b[0m\r\u001b[2K     \u001b[91m━━━━━━━\u001b[0m\u001b[91m╸\u001b[0m\u001b[90m━━━━━━━━━━━━━━━━━━━━━━━━━━━━━━━━\u001b[0m \u001b[32m30.7/156.8 kB\u001b[0m \u001b[31m860.8 kB/s\u001b[0m eta \u001b[36m0:00:01\u001b[0m\r\u001b[2K     \u001b[91m━━━━━━━━━━━━━━━━━━━━━━━\u001b[0m\u001b[91m╸\u001b[0m\u001b[90m━━━━━━━━━━━━━━━━\u001b[0m \u001b[32m92.2/156.8 kB\u001b[0m \u001b[31m1.3 MB/s\u001b[0m eta \u001b[36m0:00:01\u001b[0m\r\u001b[2K     \u001b[90m━━━━━━━━━━━━━━━━━━━━━━━━━━━━━━━━━━━━━━━━\u001b[0m \u001b[32m156.8/156.8 kB\u001b[0m \u001b[31m1.6 MB/s\u001b[0m eta \u001b[36m0:00:00\u001b[0m\n",
            "\u001b[?25h"
          ]
        }
      ],
      "source": [
        "# instalando a biblioteca\n",
        "!pip install bar_chart_race -q"
      ]
    },
    {
      "cell_type": "code",
      "source": [
        "# importando o pacote\n",
        "import bar_chart_race as bcr\n",
        "\n",
        "# carregando o conjunto de dados\n",
        "df = bcr.load_dataset('covid19_tutorial')"
      ],
      "metadata": {
        "id": "cHCEPliuKbmY"
      },
      "execution_count": 2,
      "outputs": []
    },
    {
      "cell_type": "markdown",
      "source": [
        "Com o nosso df definido e pronto, basta plotá-lo!\n",
        "\n",
        "Para isso, vamos chamar o plot, definir os dados, e para fazer o embedding em um Jupyter Notebook, como o colab, basta definir o nome do arquivo como None."
      ],
      "metadata": {
        "id": "ge5tDLpeKeRW"
      }
    }
  ]
}