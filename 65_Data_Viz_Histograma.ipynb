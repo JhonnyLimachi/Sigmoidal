{
  "nbformat": 4,
  "nbformat_minor": 0,
  "metadata": {
    "colab": {
      "provenance": [],
      "authorship_tag": "ABX9TyP2ChOgyRehjvrF7dgExg9J",
      "include_colab_link": true
    },
    "kernelspec": {
      "name": "python3",
      "display_name": "Python 3"
    },
    "language_info": {
      "name": "python"
    }
  },
  "cells": [
    {
      "cell_type": "markdown",
      "metadata": {
        "id": "view-in-github",
        "colab_type": "text"
      },
      "source": [
        "<a href=\"https://colab.research.google.com/github/JhonnyLimachi/Sigmoidal/blob/main/65_Data_Viz_Histograma.ipynb\" target=\"_parent\"><img src=\"https://colab.research.google.com/assets/colab-badge.svg\" alt=\"Open In Colab\"/></a>"
      ]
    },
    {
      "cell_type": "markdown",
      "source": [
        "<img alt=\"Colaboratory logo\" width=\"15%\" src=\"https://raw.githubusercontent.com/carlosfab/escola-data-science/master/img/novo_logo_bg_claro.png\">\n",
        "\n",
        "#### **Visualização de Dados com Python**\n",
        "*by [sigmoidal.ai](https://sigmoidal.ai)*\n",
        "\n",
        "---"
      ],
      "metadata": {
        "id": "CuEKQ24GyS4W"
      }
    },
    {
      "cell_type": "markdown",
      "source": [
        "# Histograma\n",
        "\n",
        "O histograma também é conhecido como sendo um gráfico de distribuição de frequências. Representando essas frequências em formato de barras, a altura de cada barra pode representar tanto a quantidade ou frequência que cada classe de valores ocorre no *dataset*.\n",
        "\n",
        "Um histograma de valores absolutos, tem no eixo y a quantidade absoluta de ocorrências dos valores de cada classe:\n",
        "\n",
        "<center><img src=\"https://raw.githubusercontent.com/carlosfab/curso_data_science_na_pratica/master/modulo_03/histograma_absoluto.png\"width=\"450px\"></center>\n",
        "\n",
        "Já um histograma de dados de proporção, conhecido como histograma de área de unidade, exibe a proporção que cada classe representa no todo:\n",
        "\n",
        "<center><img src=\"https://raw.githubusercontent.com/carlosfab/curso_data_science_na_pratica/master/modulo_03/histograma_proporcao.png\"width=\"450px\"></center>\n",
        "\n",
        "\n",
        "Os histogramas fornecem muitas informações ao cientista de dados, pois mostra visualmente a distribuição dos dados relativos a uma determinada variável. Além disso, permite obter informações sobre a centralidade, amplitude e simetria da mesma.\n",
        "\n",
        "Recomendo assistir a [este vídeo](https://pt.khanacademy.org/math/ap-statistics/quantitative-data-ap/histograms-stem-leaf/v/histograms-intro) ensinando a criar e interpretar um histograma."
      ],
      "metadata": {
        "id": "_1G7gk7fyV6E"
      }
    },
    {
      "cell_type": "markdown",
      "source": [
        "## Plotar o histograma\n",
        "\n",
        "Para exemplificar o gráfico de linhas, vou usar um *dataset* contendo o número de casos (mensal) de dengue para a cidade de Campinas-SP.\n",
        "\n",
        "Além do número de casos confirmados de dengue, o *dataset* mostra ainda dados relacionados à chuva, temperaturas média, mínima e máxima do município. O período contemplado pelo conjunto de dados é de 1998 a 2015."
      ],
      "metadata": {
        "id": "ThuPX8pQyfP8"
      }
    },
    {
      "cell_type": "code",
      "execution_count": null,
      "metadata": {
        "id": "-cUlhGzIyO9z"
      },
      "outputs": [],
      "source": []
    }
  ]
}