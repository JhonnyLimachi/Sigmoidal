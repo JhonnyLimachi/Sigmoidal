{
  "nbformat": 4,
  "nbformat_minor": 0,
  "metadata": {
    "colab": {
      "provenance": [],
      "authorship_tag": "ABX9TyO4EPnU3KSHU3VpjzGnQOCX",
      "include_colab_link": true
    },
    "kernelspec": {
      "name": "python3",
      "display_name": "Python 3"
    },
    "language_info": {
      "name": "python"
    }
  },
  "cells": [
    {
      "cell_type": "markdown",
      "metadata": {
        "id": "view-in-github",
        "colab_type": "text"
      },
      "source": [
        "<a href=\"https://colab.research.google.com/github/JhonnyLimachi/Sigmoidal/blob/main/70_Data_Viz_Grafico_Violino.ipynb\" target=\"_parent\"><img src=\"https://colab.research.google.com/assets/colab-badge.svg\" alt=\"Open In Colab\"/></a>"
      ]
    },
    {
      "cell_type": "markdown",
      "source": [
        "<img alt=\"Colaboratory logo\" width=\"15%\" src=\"https://raw.githubusercontent.com/carlosfab/escola-data-science/master/img/novo_logo_bg_claro.png\">\n",
        "\n",
        "#### **Visualizações de Dados com Python**\n",
        "*by [sigmoidal.ai](https://sigmoidal.ai)*\n",
        "\n",
        "---"
      ],
      "metadata": {
        "id": "FZIh9aARd0MJ"
      }
    },
    {
      "cell_type": "markdown",
      "source": [
        "# Violin Plot\n",
        "\n",
        "Outra visualização bastante útil para entendermos a distribuição de uma variável é o Violin Plot, ou Gráfico de Violino.\n",
        "\n",
        "<center><img src=\"https://miro.medium.com/max/520/1*TTMOaNG1o4PgQd-e8LurMg.png\" height=\"400px\"></center>\n",
        "\n",
        "Gráficos de Violino são uma forma de plotar dados numéricos, e podem ser considerados uma combinação do Box plot com o Kernel Density Plot.\n",
        "\n",
        "No Violin Plot, podemos encontrar as mesmas informações de um Box plot, como:\n",
        "\n",
        "* Mediana (Ponto branco no plot)\n",
        "* IQR (Barra escura no centro do plot)\n",
        "* Limites Superiores e Inferiores (Extremidades do Violino)\n",
        "* Outliers (Pontos além dos Limites)\n",
        "\n",
        "Mas se os gráficos de Violino mostram as mesmas informações de um Box plot, por que usar o Violin Plot?\n",
        "\n",
        "A resposta é que há uma vantagem do Violino sobre o gráfico de Caixa. Além de mostrar as informações mencionadas acima, o Violin Plot também conta com a distribuição dos dados, o que nos dá um panorama melhor, além das informações estatísticas mencionadas anteriormente.\n",
        "\n",
        "Vamos ver na prática como plotar e utilizar esses gráficos.\n"
      ],
      "metadata": {
        "id": "j6M3p5oKd2gP"
      }
    },
    {
      "cell_type": "code",
      "execution_count": null,
      "metadata": {
        "id": "gRu-qPqPdwOd"
      },
      "outputs": [],
      "source": []
    }
  ]
}