{
  "nbformat": 4,
  "nbformat_minor": 0,
  "metadata": {
    "colab": {
      "provenance": [],
      "authorship_tag": "ABX9TyNvgomQKbIEX+DkDY+BpZQF",
      "include_colab_link": true
    },
    "kernelspec": {
      "name": "python3",
      "display_name": "Python 3"
    },
    "language_info": {
      "name": "python"
    }
  },
  "cells": [
    {
      "cell_type": "markdown",
      "metadata": {
        "id": "view-in-github",
        "colab_type": "text"
      },
      "source": [
        "<a href=\"https://colab.research.google.com/github/JhonnyLimachi/Sigmoidal/blob/main/32_Dados_de_Valida%C3%A7%C3%A3o.ipynb\" target=\"_parent\"><img src=\"https://colab.research.google.com/assets/colab-badge.svg\" alt=\"Open In Colab\"/></a>"
      ]
    },
    {
      "cell_type": "markdown",
      "source": [
        "## **Dados de Validação**\n",
        "\n",
        "Até agora, estávamos usando o dataset de testes para ajustar os nossos modelos de Machine Learning. No entanto, essa não é uma boa prática pois pode gerar overfitting e carregar algum tipo de viés.\n",
        "\n",
        "\n",
        "Nesta aula vou introduzir o conceito de dados de validação e te mostrar como ele pode tornar nossos modelos mais generalistas e melhores.\n",
        "\n",
        "\n"
      ],
      "metadata": {
        "id": "O63adNZQc59Z"
      }
    },
    {
      "cell_type": "markdown",
      "source": [
        "# **Referências**\n",
        "\n",
        "[Evaluating Machine Learning Models](https://medium.datadriveninvestor.com/evaluating-machine-learning-models-8e2193c2b237)\n",
        "\n",
        "[Validation Sets and Test Sets: Programming Exercise](https://developers.google.com/machine-learning/crash-course/validation/programming-exercise) (Google Machine Learning Crash Course)"
      ],
      "metadata": {
        "id": "xffAgntBc9pX"
      }
    }
  ]
}