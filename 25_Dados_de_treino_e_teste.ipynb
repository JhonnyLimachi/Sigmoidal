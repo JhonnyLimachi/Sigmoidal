{
  "nbformat": 4,
  "nbformat_minor": 0,
  "metadata": {
    "colab": {
      "provenance": [],
      "authorship_tag": "ABX9TyNJAUAejQL/nlX/CzyeL5xT",
      "include_colab_link": true
    },
    "kernelspec": {
      "name": "python3",
      "display_name": "Python 3"
    },
    "language_info": {
      "name": "python"
    }
  },
  "cells": [
    {
      "cell_type": "markdown",
      "metadata": {
        "id": "view-in-github",
        "colab_type": "text"
      },
      "source": [
        "<a href=\"https://colab.research.google.com/github/JhonnyLimachi/Sigmoidal/blob/main/25_Dados_de_treino_e_teste.ipynb\" target=\"_parent\"><img src=\"https://colab.research.google.com/assets/colab-badge.svg\" alt=\"Open In Colab\"/></a>"
      ]
    },
    {
      "cell_type": "markdown",
      "source": [
        "<img alt=\"Colaboratory logo\" width=\"15%\" src=\"https://raw.githubusercontent.com/carlosfab/escola-data-science/master/img/novo_logo_bg_claro.png\">\n",
        "\n",
        "#### **Data Science na Prática 4.0**\n",
        "*by [sigmoidal.ai](https://sigmoidal.ai)*\n",
        "\n",
        "---"
      ],
      "metadata": {
        "id": "h8iyX_EpAeWG"
      }
    },
    {
      "cell_type": "markdown",
      "source": [
        "# Dados de treino e teste\n",
        "\n",
        "Parte vital de qualquer projeto de Ciência de Dados é fazer o split dos dados da forma e no momento certo.\n",
        "\n",
        "<center><img src=\"https://www.machinecurve.com/wp-content/uploads/2020/11/feed-3.jpg\" width=400px ></center>\n",
        "\n",
        "\n",
        "Isso acontece para que não haja vazamento de dados, que pode causar *overfitting*, o que significa, em termos simples, que o nosso modelo não aprendeu a resolver o problema, e sim, decorou as respostas.\n",
        "\n",
        "<center><img src=\"https://miro.medium.com/max/1396/1*lARssDbZVTvk4S-Dk1g-eA.png\" width=400px ></center>\n",
        "\n",
        "*Overfitting* é um grande problema em qualquer tipo de trabalho com Machine Learning, como podemos ver na imagem. Um bom modelo não precisa ser perfeito, com uma acurácia de 100%. Inclusive, uma acurácia de 100% seria um fortíssimo indicativo de *overfitting*, sendo motivo de preoucupação em um projeto, e não de celebração.\n",
        "\n",
        "Bons modelos são generalistas o suficiente para entender as nuances do poroblema e se adaptarem a novos dados de forma efetiva. Isso é o que buscamos.\n",
        "\n",
        "Mas como alcançar isso?\n",
        "\n",
        "É claro que precisamos nos atentar a diversos detalhes e passos no processo de Machine Learning, mas, por enquanto, vamos nos ater ao *split*, ou divisão do conjunto de dados.\n"
      ],
      "metadata": {
        "id": "2SgWNERZAi7N"
      }
    },
    {
      "cell_type": "markdown",
      "source": [
        "## Separando o Dataset\n",
        "\n",
        "Ao recebermos um conjunto de dados completo, o primeiro passo é serpará-lo, como demonstra a primeira figura. Entãom, dividiremos o conjunto inteiro entre `Treino` e `Teste`, e então separaremos o de `Treino` entre `Treino` e `Validação`.\n",
        "\n",
        "<center><img src=\"https://miro.medium.com/max/1400/1*RJS8yV5mBDqrRu7THooH-w.png\" width=400px ></center>\n",
        "\n",
        "### Treino\n",
        "\n",
        "O conjunto de treino será o maior, e será usado para a análise de dados, para criação do pipeline de processamento desses dados, e também para criar nossa *baseline*, que usaremos para selecionar o modelo a ser otimizado.\n",
        "\n",
        "### Validação\n",
        "\n",
        "Esse pedaço do conjunto de treino, será mais ou menos do mesmo tamanho do conjunto de teste, e será usado como um conjunto de teste. Isso significa que o modelo criado não pode ter visto esses dados na análise, assim como os de teste. Por isso esses conjuntos são comumente chamados de *\"holdout sets\"*, pois vamos \"segurá-los\" até o momento certo de usá-los.\n",
        "\n",
        "No caso do conjunto de validação, nós vamos ter construído e selecionado o modelo, ou modelos, a serem otimizados. Nessa parte, usaremos o conjunto para fazer o tuning de parâmetros, e selecionar o melhor modelo, que será usado em produção, entregue ao cliente, etc.\n",
        "\n",
        "### Teste\n",
        "\n",
        "Esse conjunto é utilizado apenas no final, com o seu modelo pronto, e otimizado, para testar o resultado do modelo pronto com dados novos, da mesma forma que ele receberá esses dados no mundo real. Aqui é onde saberemos a verdadeira performance do modelo, e avaliaremos a mesma baseado nas métricas de interesse para o problema.\n",
        "\n",
        "Parece confuso, mas na prática, é mais simples.\n"
      ],
      "metadata": {
        "id": "tkjnC4zPAnaP"
      }
    },
    {
      "cell_type": "code",
      "execution_count": null,
      "metadata": {
        "id": "CMImRXgfAdK8"
      },
      "outputs": [],
      "source": []
    }
  ]
}