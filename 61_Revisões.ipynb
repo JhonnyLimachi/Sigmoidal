{
  "nbformat": 4,
  "nbformat_minor": 0,
  "metadata": {
    "colab": {
      "provenance": [],
      "authorship_tag": "ABX9TyP65HtKfuusdUx4jEXWD4ro",
      "include_colab_link": true
    },
    "kernelspec": {
      "name": "python3",
      "display_name": "Python 3"
    },
    "language_info": {
      "name": "python"
    }
  },
  "cells": [
    {
      "cell_type": "markdown",
      "metadata": {
        "id": "view-in-github",
        "colab_type": "text"
      },
      "source": [
        "<a href=\"https://colab.research.google.com/github/JhonnyLimachi/Sigmoidal/blob/main/61_Revis%C3%B5es.ipynb\" target=\"_parent\"><img src=\"https://colab.research.google.com/assets/colab-badge.svg\" alt=\"Open In Colab\"/></a>"
      ]
    },
    {
      "cell_type": "markdown",
      "source": [
        "## **Aula 07 - AutoML**\n",
        "\n",
        "Chat da aula:\n",
        "\n",
        "20:01:22\t From Juliana Ganilho : Boa noite!\n",
        "\n",
        "20:04:45\t From Caroline Matos Sombrio : simm\n",
        "\n",
        "20:04:46\t From Juliana Ganilho  To  All Panelists : Sim!\n",
        "\n",
        "20:17:55\t From Carlos Melo : https://colab.research.google.com/drive/15sgEc7kmPlhJ9jerlcNrpDMbcsq6TBty?usp=sharing\n",
        "\n",
        "20:25:33\t From Daniel Gusmão : O pycaret analisa a necessidade de padronização ou normalização dos dados?\n",
        "\n",
        "20:28:10\t From KAUE : L = log\n",
        "\n",
        "20:39:07\t From Daniel Gusmão : essas variações são baseadas no conceito de entropia?\n",
        "\n",
        "20:44:09\t From Carlos Melo : https://pycaret.gitbook.io/docs/\n",
        "\n",
        "20:44:48\t From Carlos Melo : Moez Ali\n",
        "\n",
        "20:44:58\t From Carlos Melo : https://www.linkedin.com/in/profile-moez\n",
        "\n",
        "20:49:33\t From KAUE : Nesse caso é somente exemplificativo né, porque depois do finalize ele já usou esse conjunto de teste, certo?\n",
        "\n",
        "20:57:06\t From KAUE : Mas por enquanto está correndo bem, eu tive um erro no Classification.\n",
        "\n",
        "20:57:16\t From KAUE : Não\n",
        "\n",
        "20:57:57\t From KAUE : Erro no Pipeline do Classification, mas também vi há pouco e ainda não tentei verificar.\n",
        "\n",
        "20:58:00\t From Juliana Ganilho  To  All Panelists : Sobre o bootcamp de Python gratuito, eu indiquei para algumas pessoas e todas relataram não haver o redirecionamento do site ao tentar fazer a inscrição. Tem previsão de retorno?\n",
        "\n",
        "20:58:46\t From Juliana Ganilho  To  All Panelists : Obrigada!\n",
        "\n",
        "20:59:03\t From KAUE  To  All Panelists : A gente do DSNP vai ter os bônus que estão sendo oferecidos para o Visão Computacional?\n",
        "\n",
        "21:00:21\t From Rosemeri Borges : eu faço visão mas não está disponível tbem\n",
        "\n",
        "21:00:35\t From Rosemeri Borges : ahh bom kkk\n",
        "\n",
        "21:01:00\t From Rosemeri Borges : ontem ele falou 26, 27 e 28/09\n",
        "\n",
        "21:01:12\t From Caroline Matos Sombrio : visão computacional é online tbm?\n",
        "\n",
        "21:01:37\t From Caroline Matos Sombrio : ahhh beleza\n",
        "\n",
        "21:02:52\t From Carlos Melo : suporte@sigmoidal.ai\n",
        "\n",
        "21:03:21\t From Rafaela Valerio  To  All Panelists : Boa noite!!\n",
        "\n",
        "21:03:22\t From Juliana Ganilho  To  All Panelists : Muito obrigada! Boa noite."
      ],
      "metadata": {
        "id": "tppLRQXx0x-u"
      }
    },
    {
      "cell_type": "markdown",
      "source": [
        "## **Aula 08 - Projeto de Machine Learning**\n",
        "\n",
        "https://github.com/carlosfab/dsnp_projeto_ml"
      ],
      "metadata": {
        "id": "H6bETRtf06JU"
      }
    },
    {
      "cell_type": "markdown",
      "source": [
        "## **Plantão de Dúvidas 01/08**\n",
        "\n",
        "Transcrição do Chat:\n",
        "\n",
        "\n",
        "\n",
        "20:04:59\t From Carlos Melo : suporte@sigmoidal.ai\n",
        "\n",
        "20:34:53\t From Douglas Mazzi  To  All Panelists : seria mais legal pegar um caso mais recente\n",
        "\n",
        "20:34:54\t From Rosemeri Borges : Gostaria de saber onde publico esses projetos no linkedin. Na aba projetos ou nos destaques mesmo e com link para o GitHub?\n",
        "\n",
        "20:36:31\t From Douglas Mazzi  To  All Panelists : do covid\n",
        "\n",
        "20:36:44\t From Douglas Mazzi  To  All Panelists : ah po\n",
        "\n",
        "20:36:47\t From Douglas Mazzi  To  All Panelists : pode crer\n",
        "\n",
        "20:36:53\t From Douglas Mazzi  To  All Panelists : boa demais\n",
        "\n",
        "20:37:14\t From Douglas Mazzi  To  All Panelists : muito boa a ideia\n",
        "\n",
        "20:39:16\t From Douglas Mazzi  To  All Panelists : e na forma abnt?\n",
        "\n",
        "20:39:40\t From Douglas Mazzi  To  All Panelists : porque na graduação fiz um projeto de pesquisa e poste, agora to fazendo o da ic\n",
        "\n",
        "20:39:44\t From Douglas Mazzi  To  All Panelists : ahhhh\n",
        "\n",
        "20:39:47\t From Douglas Mazzi  To  All Panelists : pode crer\n",
        "\n",
        "20:40:23\t From Douglas Mazzi  To  All Panelists : certo\n",
        "\n",
        "20:42:47\t From Felipe Borges  To  All Panelists : O que você acha de posta os certificados como do alura no linkedin, porque sempre aparece vários projetos iguais com a mesma cara não sei se pega bem, o que você acha sobre?\n",
        "\n",
        "20:43:16\t From Felipe Borges  To  All Panelists : porque DSNP veio com uma metodologia diferente gostei disso\n",
        "\n",
        "20:57:57\t From Daniel Gusmão : Vamos ter alguma aula de como tratar os dados desbalanceados?\n",
        "\n",
        "21:07:21\t From Daniel Gusmão : uma dúvida.. pelo antigo cronograma entraríamos em ml\n",
        "\n",
        "21:07:31\t From Daniel Gusmão : agora vamos para storytelling\n",
        "\n",
        "21:07:50\t From Daniel Gusmão : a ultima foi sobre gráficos\n",
        "\n",
        "21:08:31\t From KAUE : Na última aula ele mencionou um curso de estatística…\n",
        "\n",
        "21:09:41\t From Carlos Melo : suporte@sigmoidal.ai\n",
        "\n",
        "21:10:08\t From Daniel Gusmão : sim, mas só para deixar claro... a próxima aula seguirá qual cronograma? Storytteling ou ML?\n",
        "\n",
        "21:11:10\t From Daniel Gusmão : ok.. eu tenho alguns materiais meus sobre estatística.. se alguém quiser fico a disposição.\n",
        "\n",
        "21:11:50\t From Carlos Melo : https://discord.gg/gbW8wvmpy\n",
        "\n",
        "21:12:22\t From Daniel Gusmão : livre....a grantia soy jo\n",
        "\n",
        "21:13:23\t From Daniel Gusmão : sendo chato...... oandas profiling é relevante ou não? não pergunto mais nada hj.\n",
        "\n",
        "21:13:26\t From Rosemeri Borges : Obbaaa\n",
        "\n",
        "21:13:33\t From Rafaela Valerio : Bah topp\n",
        "\n",
        "21:16:19\t From Daniel Gusmão : fechado.\n",
        "\n",
        "21:17:26\t From Juliana Ganilho  To  All Panelists : Excelente explicações. Obrigada!\n",
        "\n",
        "21:17:33\t From Douglas Mazzi  To  All Panelists : boa noite\n",
        "\n",
        "21:17:36\t From Douglas Mazzi  To  All Panelists : gostei do papo\n",
        "\n",
        "21:17:59\t From Rafaela Valerio : Boa noite pessoal"
      ],
      "metadata": {
        "id": "UcQYo5xR1TYs"
      }
    },
    {
      "cell_type": "code",
      "execution_count": null,
      "metadata": {
        "id": "rz2gxDKa0rtj"
      },
      "outputs": [],
      "source": []
    }
  ]
}