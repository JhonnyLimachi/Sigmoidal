{
  "nbformat": 4,
  "nbformat_minor": 0,
  "metadata": {
    "colab": {
      "provenance": [],
      "authorship_tag": "ABX9TyMSvMAV+4ss72Bt9P4ALT6k",
      "include_colab_link": true
    },
    "kernelspec": {
      "name": "python3",
      "display_name": "Python 3"
    },
    "language_info": {
      "name": "python"
    }
  },
  "cells": [
    {
      "cell_type": "markdown",
      "metadata": {
        "id": "view-in-github",
        "colab_type": "text"
      },
      "source": [
        "<a href=\"https://colab.research.google.com/github/JhonnyLimachi/Sigmoidal/blob/main/1_Google_Colab_e_Jupyter_Notebook.ipynb\" target=\"_parent\"><img src=\"https://colab.research.google.com/assets/colab-badge.svg\" alt=\"Open In Colab\"/></a>"
      ]
    },
    {
      "cell_type": "markdown",
      "source": [
        "<img alt=\"Colaboratory logo\" width=\"20%\" src=\"https://raw.githubusercontent.com/carlosfab/escola-data-science/master/img/novo_logo_bg_claro.png\">\n",
        "\n",
        "#### **Data Science na Prática**\n",
        "*by [sigmoidal.ai](https://sigmoidal.ai)*\n",
        "\n",
        "---\n",
        "\n",
        "<h1>Conhecendo o Jupyter Notebook</h1>\n",
        "\n",
        "Google Colab é um ambiente Jupyter notebook que roda inteiramente na nuvem. Ou seja, você consegue criar e rodar seus projetos de Data Science sem perder tempo configurando sua máquina local.\n",
        "\n",
        "<center><img src=\"https://miro.medium.com/max/2000/1*gl0OdcvY4lnkSB8WvOghvw.jpeg\" height=\"400px\"></center>"
      ],
      "metadata": {
        "id": "4SXolEw_2Mlt"
      }
    }
  ]
}