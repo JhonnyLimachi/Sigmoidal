{
  "nbformat": 4,
  "nbformat_minor": 0,
  "metadata": {
    "colab": {
      "provenance": [],
      "authorship_tag": "ABX9TyMMJvJ7usVido7nB8hiLhMR",
      "include_colab_link": true
    },
    "kernelspec": {
      "name": "python3",
      "display_name": "Python 3"
    },
    "language_info": {
      "name": "python"
    }
  },
  "cells": [
    {
      "cell_type": "markdown",
      "metadata": {
        "id": "view-in-github",
        "colab_type": "text"
      },
      "source": [
        "<a href=\"https://colab.research.google.com/github/JhonnyLimachi/Sigmoidal/blob/main/58_TensorFlow.ipynb\" target=\"_parent\"><img src=\"https://colab.research.google.com/assets/colab-badge.svg\" alt=\"Open In Colab\"/></a>"
      ]
    },
    {
      "cell_type": "markdown",
      "source": [
        "<p align=\"center\"><img src=\"https://raw.githubusercontent.com/carlosfab/escola-data-science/master/img/eds.png\" height=\"100px\"></p>\n",
        "\n",
        "# Aula 008: TensorFlow\n",
        "\n",
        "***Fashion MNIST*** é um *dataset* considerado o *Hello, World!* de **Deep Learning** aplicado a problemas de **Visão Computacional**.\n",
        "\n",
        "Contendo 60 mil imagens para treinamento e 10 mil para teste, é um *dataset* bem melhor que o antigo **MNIST** (que continha apenas digitos manuscritos).\n",
        "\n",
        "<p align=\"center\"><img src=\"https://raw.githubusercontent.com/carlosfab/escola-data-science/master/img/fashion-mnist-sprite.png\" height=\"400px\"></p>\n",
        "\n",
        "Ao total, as 70 mil imagens têm dimensões de 28 x 28 *pixels*, como mostra a imagem acima. Cada uma dessas imagens é classificada com um desses 10 *labels*:\n",
        "\n",
        "<table>\n",
        "  <tbody><tr>\n",
        "    <th>Label</th>\n",
        "    <th>Class</th>\n",
        "  </tr>\n",
        "  <tr>\n",
        "    <td>0</td>\n",
        "    <td>T-shirt/top</td>\n",
        "  </tr>\n",
        "  <tr>\n",
        "    <td>1</td>\n",
        "    <td>Trouser</td>\n",
        "  </tr>\n",
        "    <tr>\n",
        "    <td>2</td>\n",
        "    <td>Pullover</td>\n",
        "  </tr>\n",
        "    <tr>\n",
        "    <td>3</td>\n",
        "    <td>Dress</td>\n",
        "  </tr>\n",
        "    <tr>\n",
        "    <td>4</td>\n",
        "    <td>Coat</td>\n",
        "  </tr>\n",
        "    <tr>\n",
        "    <td>5</td>\n",
        "    <td>Sandal</td>\n",
        "  </tr>\n",
        "    <tr>\n",
        "    <td>6</td>\n",
        "    <td>Shirt</td>\n",
        "  </tr>\n",
        "    <tr>\n",
        "    <td>7</td>\n",
        "    <td>Sneaker</td>\n",
        "  </tr>\n",
        "    <tr>\n",
        "    <td>8</td>\n",
        "    <td>Bag</td>\n",
        "  </tr>\n",
        "    <tr>\n",
        "    <td>9</td>\n",
        "    <td>Ankle boot</td>\n",
        "  </tr>\n",
        "</tbody></table>"
      ],
      "metadata": {
        "id": "zOyUGoOUTzGV"
      }
    },
    {
      "cell_type": "markdown",
      "source": [
        "Nesta Aula 008, iremos implementar uma rede neural que usa apenas camadas Densas, seguindo o *intuition* dados nas últimas 3 aulas.\n",
        "\n",
        "No entanto, quando se trata de imagens, normalmente iremos procurar um tipo específico de rede neural: Redes Neurais Convolucionais (*Convolutional Neural Networks*).\n",
        "\n",
        "Por enquanto, vamos entender como resolver o *Fashion MNIST* usando o TensorFlow."
      ],
      "metadata": {
        "id": "VWYoAVjvT2vc"
      }
    },
    {
      "cell_type": "code",
      "execution_count": 1,
      "metadata": {
        "colab": {
          "base_uri": "https://localhost:8080/"
        },
        "id": "qou5sR5ZTyRs",
        "outputId": "c1a470a2-c8a0-42a7-941d-e7727827a8f4"
      },
      "outputs": [
        {
          "output_type": "stream",
          "name": "stdout",
          "text": [
            "Colab only includes TensorFlow 2.x; %tensorflow_version has no effect.\n"
          ]
        }
      ],
      "source": [
        "# importar as bibliotecas necessárias\n",
        "%tensorflow_version 2.x\n",
        "import tensorflow as tf\n",
        "from tensorflow import keras\n",
        "import matplotlib.pyplot as plt\n",
        "import pandas as pd\n",
        "import numpy as np"
      ]
    },
    {
      "cell_type": "code",
      "source": [
        "# carregar os dados do Fashion MNIST\n",
        "(X_train_orig, y_train), (X_test, y_test) = keras.datasets.fashion_mnist.load_data()"
      ],
      "metadata": {
        "colab": {
          "base_uri": "https://localhost:8080/"
        },
        "id": "2425-x9WUUn8",
        "outputId": "254e4b9a-ed05-4ac9-ee0f-c4a647f7d91c"
      },
      "execution_count": 2,
      "outputs": [
        {
          "output_type": "stream",
          "name": "stdout",
          "text": [
            "Downloading data from https://storage.googleapis.com/tensorflow/tf-keras-datasets/train-labels-idx1-ubyte.gz\n",
            "29515/29515 [==============================] - 0s 0us/step\n",
            "Downloading data from https://storage.googleapis.com/tensorflow/tf-keras-datasets/train-images-idx3-ubyte.gz\n",
            "26421880/26421880 [==============================] - 0s 0us/step\n",
            "Downloading data from https://storage.googleapis.com/tensorflow/tf-keras-datasets/t10k-labels-idx1-ubyte.gz\n",
            "5148/5148 [==============================] - 0s 0us/step\n",
            "Downloading data from https://storage.googleapis.com/tensorflow/tf-keras-datasets/t10k-images-idx3-ubyte.gz\n",
            "4422102/4422102 [==============================] - 0s 0us/step\n"
          ]
        }
      ]
    },
    {
      "cell_type": "code",
      "source": [
        "# ver dimensionalidade\n",
        "print(\"X_train:\\t\", X_train_orig.shape)\n",
        "print(\"y_train:\\t\", y_train.shape)\n",
        "print(\"X_test:\\t\\t\", X_test.shape)\n",
        "print(\"y_test:\\t\\t\", y_test.shape)"
      ],
      "metadata": {
        "colab": {
          "base_uri": "https://localhost:8080/"
        },
        "id": "nbZ6lB42UXZS",
        "outputId": "8a611949-2aad-46bd-91d7-b69fe1363193"
      },
      "execution_count": 3,
      "outputs": [
        {
          "output_type": "stream",
          "name": "stdout",
          "text": [
            "X_train:\t (60000, 28, 28)\n",
            "y_train:\t (60000,)\n",
            "X_test:\t\t (10000, 28, 28)\n",
            "y_test:\t\t (10000,)\n"
          ]
        }
      ]
    },
    {
      "cell_type": "markdown",
      "source": [
        "Como usaremos um algoritmo de otimização baseado em gradiente, é preciso padronizar os pixels, o que é feito diretamente ao se dividir por 255.0. Ressalta-se que tal operação já transforma os `int` em `float`.\n",
        "\n",
        "Como o *FASHION MNIST* não possui dados de validação, irei pegar 10% dos valores com essa finalidade."
      ],
      "metadata": {
        "id": "22sQ3wZ-UaPi"
      }
    },
    {
      "cell_type": "code",
      "source": [
        "# padronizar o dataset de treino e criar um de validação\n",
        "X_valid, X_train = X_train_orig[:6000] / 255.0, X_train_orig[6000:] / 255.0\n",
        "y_valid, y_train = y_train[:6000], y_train[6000:]"
      ],
      "metadata": {
        "id": "0Z362EaCUoCK"
      },
      "execution_count": 4,
      "outputs": []
    },
    {
      "cell_type": "code",
      "source": [
        "# De acordo com a documentação, os labels são:\n",
        "class_names = ['Camisetas/top', 'Calça', 'Suéter',\n",
        "               'Vestidos','Casaco', 'Sandálias',\n",
        "               'Camisas', 'Tênis', 'Bolsa', 'Botas']"
      ],
      "metadata": {
        "id": "aS-H9k21Utqq"
      },
      "execution_count": 5,
      "outputs": []
    },
    {
      "cell_type": "code",
      "source": [
        "# ver exemplo de uma imagem aleatória\n",
        "class_names[y_train[0]]"
      ],
      "metadata": {
        "colab": {
          "base_uri": "https://localhost:8080/",
          "height": 36
        },
        "id": "cwBQQsc7UvDU",
        "outputId": "cc888686-d771-4280-9df5-27223ee74a67"
      },
      "execution_count": 6,
      "outputs": [
        {
          "output_type": "execute_result",
          "data": {
            "text/plain": [
              "'Bolsa'"
            ],
            "application/vnd.google.colaboratory.intrinsic+json": {
              "type": "string"
            }
          },
          "metadata": {},
          "execution_count": 6
        }
      ]
    },
    {
      "cell_type": "code",
      "source": [
        "# plotar a imagem aleatória\n",
        "plt.imshow(X_train_orig[0], cmap=plt.cm.binary);"
      ],
      "metadata": {
        "id": "Q2W4xYDPUyRx",
        "outputId": "5481cf2d-1612-4db3-d47c-23e4f675e3d1",
        "colab": {
          "base_uri": "https://localhost:8080/",
          "height": 430
        }
      },
      "execution_count": 7,
      "outputs": [
        {
          "output_type": "display_data",
          "data": {
            "text/plain": [
              "<Figure size 640x480 with 1 Axes>"
            ],
            "image/png": "[encoded data removed]"
          },
          "metadata": {}
        }
      ]
    }
  ]
}