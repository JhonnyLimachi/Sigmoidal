{
  "nbformat": 4,
  "nbformat_minor": 0,
  "metadata": {
    "colab": {
      "provenance": [],
      "authorship_tag": "ABX9TyOUcZQZv1mDmYSEcWd1y/+5",
      "include_colab_link": true
    },
    "kernelspec": {
      "name": "python3",
      "display_name": "Python 3"
    },
    "language_info": {
      "name": "python"
    }
  },
  "cells": [
    {
      "cell_type": "markdown",
      "metadata": {
        "id": "view-in-github",
        "colab_type": "text"
      },
      "source": [
        "<a href=\"https://colab.research.google.com/github/JhonnyLimachi/Sigmoidal/blob/main/60_Conhecendo_o_Jupyter_Notebook.ipynb\" target=\"_parent\"><img src=\"https://colab.research.google.com/assets/colab-badge.svg\" alt=\"Open In Colab\"/></a>"
      ]
    },
    {
      "cell_type": "markdown",
      "source": [
        "<img alt=\"Colaboratory logo\" width=\"20%\" src=\"https://raw.githubusercontent.com/carlosfab/escola-data-science/master/img/novo_logo_bg_claro.png\">\n",
        "\n",
        "#### **Data Science na Prática**\n",
        "*by [sigmoidal.ai](https://sigmoidal.ai)*\n",
        "\n",
        "---\n",
        "\n",
        "<h1>Conhecendo o Jupyter Notebook</h1>\n",
        "\n",
        "Google Colab é um ambiente Jupyter notebook que roda inteiramente na nuvem. Ou seja, você consegue criar e rodar seus projetos de Data Science sem perder tempo configurando sua máquina local.\n",
        "\n",
        "<center><img src=\"https://miro.medium.com/max/2000/1*gl0OdcvY4lnkSB8WvOghvw.jpeg\" height=\"400px\"></center>"
      ],
      "metadata": {
        "id": "lguJs8wJzyD-"
      }
    },
    {
      "cell_type": "markdown",
      "source": [
        "## Ambiente Interativo\n",
        "\n",
        "Uma das principais vantagens de se usar Jupyter notebooks no lugar de IDE convencionais para criar seus projetos, é porque esta página não é estática. Quando você cria um arquivo aqui, qualquer pessoa vai conseguir rodar seu código e fazer suas próprias alterações.\n",
        "\n",
        "Isto é perfeito! Imagina uma situação onde você fez uma análise para a sua empresa, 6 meses atrás. Determinado dia, o Diretor de vendas pede para você calcular uma informação completamente nova em cima daquela análise.\n",
        "\n",
        "Se você tem apenas o relatório estático (ou mesmo um monte de arquivos .py, sem documentação), as chances são que você não vai ser capaz de entregrar a informação nova em tempo ábil.\n",
        "\n",
        "Agora, se você tem salvo todos os seus notebooks de maneira organizada, preferencialmente na nuvem, você pode executar todas as células novamente e apenas incluir mais essa análise extra.\n",
        "\n",
        "Veja como é fácil trabalhar com céulas interativas."
      ],
      "metadata": {
        "id": "SF9rhW6pz1Jt"
      }
    },
    {
      "cell_type": "code",
      "execution_count": 1,
      "metadata": {
        "colab": {
          "base_uri": "https://localhost:8080/"
        },
        "id": "G8ToloVUzmt2",
        "outputId": "d6eab847-68cd-498c-fc3a-a0ef0594aeeb"
      },
      "outputs": [
        {
          "output_type": "stream",
          "name": "stdout",
          "text": [
            "6700.0\n"
          ]
        }
      ],
      "source": [
        "# operações matemáticas com Python\n",
        "receita = 14800.90\n",
        "despesa_fixa = 4500\n",
        "despesa_variavel = 3600.90\n",
        "\n",
        "lucro = receita - (despesa_fixa + despesa_variavel)\n",
        "\n",
        "print(lucro)"
      ]
    },
    {
      "cell_type": "markdown",
      "source": [
        "A célula acima é nossa primeira contendo código. Todas as anteriores (incluindo este) eram texto puro.\n",
        "\n",
        "Dê dois cliques na célula acima para editar, altere o valor de alguma varíavel (receita, por exemplo) e aperte **SHIFT + ENTER** (ou clique no ícone \"Play\" na esquerda dela. Essa é a vantagem de se documentar um projeto pelo Jupyter notebook, você torna ele replicável."
      ],
      "metadata": {
        "id": "7DwwLClmz7Ml"
      }
    }
  ]
}