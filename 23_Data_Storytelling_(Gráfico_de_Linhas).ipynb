{
  "nbformat": 4,
  "nbformat_minor": 0,
  "metadata": {
    "colab": {
      "provenance": [],
      "authorship_tag": "ABX9TyNItYvnUpJLRM6CwxqZ8nRV",
      "include_colab_link": true
    },
    "kernelspec": {
      "name": "python3",
      "display_name": "Python 3"
    },
    "language_info": {
      "name": "python"
    }
  },
  "cells": [
    {
      "cell_type": "markdown",
      "metadata": {
        "id": "view-in-github",
        "colab_type": "text"
      },
      "source": [
        "<a href=\"https://colab.research.google.com/github/JhonnyLimachi/Sigmoidal/blob/main/23_Data_Storytelling_(Gr%C3%A1fico_de_Linhas).ipynb\" target=\"_parent\"><img src=\"https://colab.research.google.com/assets/colab-badge.svg\" alt=\"Open In Colab\"/></a>"
      ]
    },
    {
      "cell_type": "markdown",
      "source": [
        "<img alt=\"Colaboratory logo\" width=\"15%\" src=\"https://raw.githubusercontent.com/carlosfab/escola-data-science/master/img/novo_logo_bg_claro.png\">\n",
        "\n",
        "#### **Data Science na Prática 4.0**\n",
        "*by [sigmoidal.ai](https://sigmoidal.ai)*\n",
        "\n",
        "---\n",
        "\n",
        "# Data Storytelling na Prática\n",
        "\n",
        "Com todos os conceitos entendidos, é hora de ver, na prática, como tudo isso pode impactar seus projetos de Data Science e visualizações.\n",
        "\n",
        "<center><img src=\"https://images.unsplash.com/photo-1617575521317-d2974f3b56d2?ixid=MnwxMjA3fDB8MHxwaG90by1wYWdlfHx8fGVufDB8fHx8&ixlib=rb-1.2.1&auto=format&fit=crop&w=967&q=80\" width=\"80%\"></center>\n",
        "\n",
        "Abaixo, temos algumas referências para que você guarde em seus favoritos e tenha sempre à mão para os seus projetos. Entendo os conceitos e sabendo usar referências, você será capaz de realizar qualquer coisa para suas visualizações."
      ],
      "metadata": {
        "id": "AktX3yObxPeD"
      }
    },
    {
      "cell_type": "code",
      "execution_count": null,
      "metadata": {
        "id": "OjMrlkifxCgZ"
      },
      "outputs": [],
      "source": []
    }
  ]
}