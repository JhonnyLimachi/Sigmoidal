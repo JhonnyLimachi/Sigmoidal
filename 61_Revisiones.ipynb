{
  "nbformat": 4,
  "nbformat_minor": 0,
  "metadata": {
    "colab": {
      "provenance": [],
      "authorship_tag": "ABX9TyPJ9fqANI4+JH1s/xEesuaG",
      "include_colab_link": true
    },
    "kernelspec": {
      "name": "python3",
      "display_name": "Python 3"
    },
    "language_info": {
      "name": "python"
    }
  },
  "cells": [
    {
      "cell_type": "markdown",
      "metadata": {
        "id": "view-in-github",
        "colab_type": "text"
      },
      "source": [
        "<a href=\"https://colab.research.google.com/github/JhonnyLimachi/Sigmoidal/blob/main/61_Revisiones.ipynb\" target=\"_parent\"><img src=\"https://colab.research.google.com/assets/colab-badge.svg\" alt=\"Open In Colab\"/></a>"
      ]
    },
    {
      "cell_type": "markdown",
      "source": [
        "## **Aula 07 - AutoML**\n",
        "\n",
        "Chat da aula:\n",
        "\n",
        "20:01:22\t From Juliana Ganilho : Boa noite!\n",
        "\n",
        "20:04:45\t From Caroline Matos Sombrio : simm\n",
        "\n",
        "20:04:46\t From Juliana Ganilho  To  All Panelists : Sim!\n",
        "\n",
        "20:17:55\t From Carlos Melo : https://colab.research.google.com/drive/15sgEc7kmPlhJ9jerlcNrpDMbcsq6TBty?usp=sharing\n",
        "\n",
        "20:25:33\t From Daniel Gusmão : O pycaret analisa a necessidade de padronização ou normalização dos dados?\n",
        "\n",
        "20:28:10\t From KAUE : L = log\n",
        "\n",
        "20:39:07\t From Daniel Gusmão : essas variações são baseadas no conceito de entropia?\n",
        "\n",
        "20:44:09\t From Carlos Melo : https://pycaret.gitbook.io/docs/\n",
        "\n",
        "20:44:48\t From Carlos Melo : Moez Ali\n",
        "\n",
        "20:44:58\t From Carlos Melo : https://www.linkedin.com/in/profile-moez\n",
        "\n",
        "20:49:33\t From KAUE : Nesse caso é somente exemplificativo né, porque depois do finalize ele já usou esse conjunto de teste, certo?\n",
        "\n",
        "20:57:06\t From KAUE : Mas por enquanto está correndo bem, eu tive um erro no Classification.\n",
        "\n",
        "20:57:16\t From KAUE : Não\n",
        "\n",
        "20:57:57\t From KAUE : Erro no Pipeline do Classification, mas também vi há pouco e ainda não tentei verificar.\n",
        "\n",
        "20:58:00\t From Juliana Ganilho  To  All Panelists : Sobre o bootcamp de Python gratuito, eu indiquei para algumas pessoas e todas relataram não haver o redirecionamento do site ao tentar fazer a inscrição. Tem previsão de retorno?\n",
        "\n",
        "20:58:46\t From Juliana Ganilho  To  All Panelists : Obrigada!\n",
        "\n",
        "20:59:03\t From KAUE  To  All Panelists : A gente do DSNP vai ter os bônus que estão sendo oferecidos para o Visão Computacional?\n",
        "\n",
        "21:00:21\t From Rosemeri Borges : eu faço visão mas não está disponível tbem\n",
        "\n",
        "21:00:35\t From Rosemeri Borges : ahh bom kkk\n",
        "\n",
        "21:01:00\t From Rosemeri Borges : ontem ele falou 26, 27 e 28/09\n",
        "\n",
        "21:01:12\t From Caroline Matos Sombrio : visão computacional é online tbm?\n",
        "\n",
        "21:01:37\t From Caroline Matos Sombrio : ahhh beleza\n",
        "\n",
        "21:02:52\t From Carlos Melo : suporte@sigmoidal.ai\n",
        "\n",
        "21:03:21\t From Rafaela Valerio  To  All Panelists : Boa noite!!\n",
        "\n",
        "21:03:22\t From Juliana Ganilho  To  All Panelists : Muito obrigada! Boa noite."
      ],
      "metadata": {
        "id": "tppLRQXx0x-u"
      }
    },
    {
      "cell_type": "markdown",
      "source": [
        "## **Aula 08 - Projeto de Machine Learning**\n",
        "\n",
        "https://github.com/carlosfab/dsnp_projeto_ml"
      ],
      "metadata": {
        "id": "H6bETRtf06JU"
      }
    },
    {
      "cell_type": "code",
      "execution_count": null,
      "metadata": {
        "id": "rz2gxDKa0rtj"
      },
      "outputs": [],
      "source": []
    }
  ]
}