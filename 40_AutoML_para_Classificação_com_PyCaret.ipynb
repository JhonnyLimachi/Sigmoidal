{
  "nbformat": 4,
  "nbformat_minor": 0,
  "metadata": {
    "colab": {
      "provenance": [],
      "authorship_tag": "ABX9TyPvVp7kMt06X8foRuoSGRYz",
      "include_colab_link": true
    },
    "kernelspec": {
      "name": "python3",
      "display_name": "Python 3"
    },
    "language_info": {
      "name": "python"
    }
  },
  "cells": [
    {
      "cell_type": "markdown",
      "metadata": {
        "id": "view-in-github",
        "colab_type": "text"
      },
      "source": [
        "<a href=\"https://colab.research.google.com/github/JhonnyLimachi/Sigmoidal/blob/main/40_AutoML_para_Classifica%C3%A7%C3%A3o_com_PyCaret.ipynb\" target=\"_parent\"><img src=\"https://colab.research.google.com/assets/colab-badge.svg\" alt=\"Open In Colab\"/></a>"
      ]
    },
    {
      "cell_type": "markdown",
      "source": [
        "<img alt=\"Colaboratory logo\" width=\"15%\" src=\"https://raw.githubusercontent.com/carlosfab/escola-data-science/master/img/novo_logo_bg_claro.png\">\n",
        "\n",
        "#### **Data Science na Prática 3.0**\n",
        "\n",
        "\n",
        "---"
      ],
      "metadata": {
        "id": "7sTUNrxgLgFn"
      }
    },
    {
      "cell_type": "markdown",
      "source": [
        "# Classificação com PyCaret - Wine\n",
        "\n",
        "Agora que já conhecemos o PyCaret e todo o seu poder, vou focar mais nas partes dos diferentes tipos de problema que ele consegue resolver, do que simplesmente no próprio framework.\n",
        "\n",
        "<p align=\"center\"><img src=\"https://images.unsplash.com/photo-1539519532614-723937382b86?ixid=MnwxMjA3fDB8MHxwaG90by1wYWdlfHx8fGVufDB8fHx8&ixlib=rb-1.2.1&auto=format&fit=crop&w=634&q=80\" width=\"40%\"></p>\n",
        "\n",
        "Para ver, novamente, em mais detalhes, tudo sobre o PyCaret, volte para a aula de Regressão.\n",
        "\n",
        "Com isso em mente, utilizaremos aqui, novamente, o framework de Auto Machine Learning **PyCaret**.\n",
        "\n",
        "<p align=\"center\"><img src=\"https://pycaret.org/wp-content/uploads/2020/03/Divi93_43.png\" width=\"60%\"></p>\n",
        "\n",
        "PyCaret é uma biblioteca *open-source* e *low-code* de Python que tem como objetivo reduzir o templo entre o ciclo entre uma hipótese e insights em experimentos com Machine Learning.\n",
        "\n",
        "O PyCaret possibilita que Cientistas de Dados completem experimentos de ponta a ponta de forma rápida e eficiente. Em comparação com outras bibliotecas do tipo, o PyCaret traz o diferencial de ser *low-code*, isto é, demanda pouco código para que opere de forma robusta. Todas as operações realizadas com o PyCaret estão carregadas em um pipeline que está pronto para o deploy. Basicamente, o PyCaret é um pacote low-code que engloba diversas bibliotecas e frameworks de Machine Learning como scikit-learn, XGBoost, Microsoft LightGBM, spaCy e muito mais.\n"
      ],
      "metadata": {
        "id": "I7d4RNHEMVEu"
      }
    },
    {
      "cell_type": "markdown",
      "source": [
        "## Instalando o PyCaret\n",
        "\n",
        "Lembrando que, por padrão, o PyCaret não faz parte do conjunto de bibliotecas pré-instaladas do Google Colab. Por isso, é importante que sempre que formos trabalhar com ele por aqui, façamos a instalação da lib."
      ],
      "metadata": {
        "id": "cGhgimQWMbIm"
      }
    }
  ]
}