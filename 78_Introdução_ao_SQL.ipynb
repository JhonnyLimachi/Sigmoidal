{
  "nbformat": 4,
  "nbformat_minor": 0,
  "metadata": {
    "colab": {
      "provenance": [],
      "authorship_tag": "ABX9TyNxl9zFlwL2l9J8nUMiUrNm",
      "include_colab_link": true
    },
    "kernelspec": {
      "name": "python3",
      "display_name": "Python 3"
    },
    "language_info": {
      "name": "python"
    }
  },
  "cells": [
    {
      "cell_type": "markdown",
      "metadata": {
        "id": "view-in-github",
        "colab_type": "text"
      },
      "source": [
        "<a href=\"https://colab.research.google.com/github/JhonnyLimachi/Sigmoidal/blob/main/78_Introdu%C3%A7%C3%A3o_ao_SQL.ipynb\" target=\"_parent\"><img src=\"https://colab.research.google.com/assets/colab-badge.svg\" alt=\"Open In Colab\"/></a>"
      ]
    },
    {
      "cell_type": "markdown",
      "source": [
        "---\n",
        "<img alt=\"Colaboratory logo\" width=\"15%\" src=\"https://raw.githubusercontent.com/carlosfab/escola-data-science/master/img/novo_logo_bg_claro.png\">\n",
        "\n",
        "#### **Introdução ao SQL**\n",
        "*by [sigmoidal.ai](https://sigmoidal.ai)*  \n",
        "\n",
        "---"
      ],
      "metadata": {
        "id": "tzepYQv90JhM"
      }
    },
    {
      "cell_type": "markdown",
      "source": [
        "# Introdução ao SQL\n",
        "\n",
        "**SQL** significa ***Structured Query Language***. SQL é uma linguagem usada para se comunicar com bancos de dados. De acordo com a ANSI (*American National Standards Institute*), é a linguagem padrão para sistemas de gerenciamento de bancos de dados relacionais.\n",
        "\n",
        "Através de *statements*, SQL é utilizado para para realizar tarefas como atualizar, retirar ou ler dados em um banco de dados. Alguns Sistemas de Gerenciamento de Banco de Dados que usam SQL são: Oracle, Sybase, Microsoft SQL Server, Microsoft Access, Ingres, etc.\n",
        "\n",
        "Apesar da maioria dos sistemas de banco de dados usarem SQL, a maioria deles têm alguma extensão proprietária, que geralmente é usada apenas em seu sistema.De qualquer forma, os comandos padrão para SQL como `Select`, `Insert`, `Update`, `Delete`, `Create`, e `Drop`podem ser usados para fazer basicamente qualquer coisa com um banco de dados.\n",
        "\n",
        "<p align=center>\n",
        "<img src=\"https://www.syncfusion.com/blogs/wp-content/uploads/2020/07/Top-10-SQL-Query-Optimization-Techniques.jpg\" width=\"60%\"></p>\n",
        "\n",
        "Não reconheceu algumas das coisas mencionadas acima? Tudo bem! Para quem nunca mexeu com SQL, esse é o material correto! Vamos por partes..."
      ],
      "metadata": {
        "id": "_kUprPpM0MTT"
      }
    },
    {
      "cell_type": "markdown",
      "source": [
        "## Nomenclaturas\n",
        "\n",
        "A internet é, muitas vezes, uma excelente fonte de conhecimento. Mas, em alguns casos, podemos nos deparar com desinformação. Existe muita confusão em relação ao SQL, Bancos de Dados, etc. Por isso, antes de tudo, precisamos alinhar nossas nomenclaturas.\n",
        "\n",
        "<p align=center><img src=\"https://images.unsplash.com/photo-1529078155058-5d716f45d604?ixid=MnwxMjA3fDB8MHxwaG90by1wYWdlfHx8fGVufDB8fHx8&ixlib=rb-1.2.1&auto=format&fit=crop&w=1049&q=80\" width=\"60%\"></p>\n",
        "\n",
        "Abaixo, vão algumas das que mais causam confusão:\n",
        "\n",
        "* **SQL** - Em portugês, chamamos de \"Esse-quê-ele\", mas em inglês, podemos ver a pronúncia individual de cada letra em inglês, como se estivesse soletrando, ou então como se fosse a palavra em inglês *\"sequel\"*.\n",
        "* **Banco de Dados** - Um banco de dados é uma coleção organizada de informação ou dados estruturados armazenados eletronicamente em um computador.\n",
        "* **Sistema Gerenciador de Banco de Dados** - Um banco de dados normalmente é controlado por um Sistema Gerenciador de Banco de Dados (SGDB ou *DBMS*, em inglês). Juntos, os dados e o SGDB, além de todas as aplicações associadas a eles são referenciados como um sistema de banco de dados, o que é comumente simplificado para a apenas banco de dados.\n"
      ],
      "metadata": {
        "id": "e2BYt_Gt0c_q"
      }
    },
    {
      "cell_type": "markdown",
      "source": [
        "## Por Que SQL é tão utilizado?\n",
        "\n",
        "Se você está migrando para a área da tecnologia agora, ou mesmo se você costuma receber seus dados em um arquivo csv, pronto para você usar, talvez não esteja familiarizado com o que é, e a importância do SQL e dos Bancos de Dados e seus Sistemas Gerenciadores nas grandes empresas.\n",
        "\n",
        "<p align=center><img src=\"https://www.lifewire.com/thmb/m8HKZDKl4hUMc5BmPx6OaVNwsG8=/2553x1436/smart/filters:no_upscale()/Database-vs-Spreadsheet-6917a9628c7d4f419feefe65acdfb5c0.jpg\" width=\"60%\"></p>\n",
        "\n",
        "Todos nós em algum momento já tivemos que lidar com planilhas. Seja no Google Docs, MS Excel, Numbers, Calc, etc. Mas se esse é um formato muito mais simples e comum entre os \"mortais\" para armazenar dados, por que não podemos ficar apenas com esses formatos?\n",
        "\n",
        "Antes de nos aprofundarmos em queries de SQL, vamos dar uma olhada no que faz SQL e Bancos de Dados que utilizam SQL tão populares.\n",
        "\n",
        "É importante reforçar que SQL é uma linguagem, e até por isso a última palavrava que integra o acrônimo SQL é *Structured Query Language*.\n",
        "\n",
        "SQL é utilizado no mundo inteiro, e vai muito além do que veremos nesse curso. Com isso em mente, lembre-se que o SQL é reconhecido por causa de sua interaçõ com Bancos de Dados.\n",
        "\n",
        "Para nós, no momento, podemos pensar em um banco de dados como um conjunto de planilhas, por exemplo, todas armazenadas em um lugar. Entretanto, nem todos os bancos de dados funcionam dessa forma, mas para os propósitos desse curso, podemos entendê-los assim.\n",
        "\n",
        "Esse tipo de banco de dados onde armazenamos dados estruturados com relacionamento entre as tabelas, onde cada tabela pode ser entendida como uma planilha é o que compõe um Banco de Dados Relacional, com o qual podemos interagir com SQL.\n",
        "\n",
        "Existem algumas grandes vantagens em usar bancos de dados relacionais tradicionais, interagindo com eles com SQL. Algumas das vantagens são:\n",
        "\n",
        "* SQL é fácil de entender\n",
        "* Bancos de Dados Relacionais Tradicionais nos permitem acessar dados diretamente\n",
        "* Bancos de Dados Tradicionais nos permitem auditar e replicar nossos dados\n",
        "* SQL é uma excelente ferramenta para analisar várias tabelas de uma vez\n",
        "* SQL permite que analizemos questões mais complexas do que ferramentas de Dashboard como o Google Analytics\n"
      ],
      "metadata": {
        "id": "cMs717wJ0gLq"
      }
    },
    {
      "cell_type": "markdown",
      "source": [
        "## SQL vs. NoSQL\n",
        "\n",
        "<p align=center><img src=\"https://cdn-images-1.medium.com/fit/t/1600/480/0*xoC2DeugTHSh5yFV.jpg\" width=\"60%\"></p>\n",
        "\n",
        "Talvez você já tenha ouvido falar de NoSQL, que significa *Not Only SQL*, ou, em bom português, \"Não somente SQL\". Bancos de Dados usando NoSQL permitem que você escreva código que interage com os dados de uma forma diferente do SQL que iremos praticar nesse curso.\n",
        "\n",
        "Os ambientes NoSQL tendem a ser mais populares para dados baseados na web, mas menos popular para dados que vivem em planilhas, da mesma forma dos conjuntos de dados que temos analizados até agora.\n",
        "\n",
        "Bancos de Dados NoSQL têm *schemas* dinâmicos para dados não-estruturados, e os dados são armazenados em várias formas. Você pode usar abordagens orientadas a colunas, a documentos, a gráficos ou KeyValue. Essa flexibilidade significa que:\n",
        "\n",
        "* Podemos criar documentos sem ter que definir sua estrutura primeiro\n",
        "* Cada documento pode ter uma estrutura única e própria\n",
        "* A sintaxe pode variar a cada banco de dados\n",
        "* Podemos adicionar campos à medida que formos precisando deles.\n"
      ],
      "metadata": {
        "id": "tADzGVDr0vsE"
      }
    },
    {
      "cell_type": "markdown",
      "source": [
        "## Por Que Negócios Gostam de Bancos de Dados?\n",
        "\n",
        "<p align=center><img src=\"https://images.unsplash.com/photo-1427751840561-9852520f8ce8?ixid=MnwxMjA3fDB8MHxwaG90by1wYWdlfHx8fGVufDB8fHx8&ixlib=rb-1.2.1&auto=format&fit=crop&w=1355&q=80\" width=\"50%\"></p>\n",
        "\n",
        "Algumas das coisas que menciomaos anteriorermente ajudam a justificar a popularidade dos Bancos de Dados, e sua interação com SQL, mas vamos a alguns pontos interessantes que merecem destaque.\n",
        "\n",
        "* **Integridade dos Dados é Grantida** - Apenas os dados que são inseridos compõem o banco de dados, e apenas alguns usuários têm permissão para inserir dados.\n",
        "\n",
        "* **Os Dados Podem Ser Acessados Rapidamente** - SQL permite que os resultados sejam obtidos a partir do banco de dados de forma muito rápida. O código pode ser otimizado para ter resultados rápidos.\n",
        "\n",
        "* **Os Dados São Facilmente Compartilhados** - Vários indivíduos podem acessar os dados armazenados no banco de dados, e os dados são os mesmos para todos, permitindo resultados consistentes para todos que acessam o banco de dados.\n"
      ],
      "metadata": {
        "id": "7ToSmTXo01tK"
      }
    },
    {
      "cell_type": "markdown",
      "source": [
        "## Como um Banco Relacional Fucniona?\n",
        "\n",
        "<p align=center><img src=\"https://www.researchgate.net/profile/Radoslava-Kraleva/publication/323466947/figure/fig1/AS:599227063353344@1519878273386/Structure-of-the-relational-database-Mvsemdm-Each-box-on-the-figure-above-contains-one.png\" width=\"50%\"></p>\n",
        "\n",
        "Em bancos de dados relacionais os dados são armazenados em tabelas, que podem ser entendidas como planilhas de Excel, por exemplo.\n",
        "\n",
        "Na maior parte do tempo, podemos pensar em bancos de dados como um conjunto de planilhas de Excel, cada planilha com linhas e colunas, onde cada linha contém dados sobre uma transação, uma pessoa, uma empresa, etc. As colunas, contém dados sobre um aspecto de cada uma das linhas como nomes, local, número de identificação, etc.\n",
        "\n",
        "**Todos as entradas em uma mesma coluna devem ter o mesmo tipo de dado.** A coluna inteira é considerada quantitativa, discreta ou algum tipo de string. Isso significa que se você tiver uma string em uma linha de uma determinada coluna, a coluna inteira pode mudar para string. Isso pode ser muito complicado caso você deseje fazer operações matemáticas com essa coluna.\n",
        "\n",
        "Estruturas de dados consistentes entre as colunas é uma das principais razões pelas quais bancos de dados são tão rápidos. É muito comum que bancos de dados armazenem uma enorme quantidade de dados, e por isso, essa propriedade é muito importante, pois garante integridade dos dados e agilidade nas consultas e coletas."
      ],
      "metadata": {
        "id": "azSSoICm05OR"
      }
    },
    {
      "cell_type": "markdown",
      "source": [
        "## Entity Relationship Diagrams (Diagrama Entidade-Relacionamento)\n",
        "\n",
        "<p align=center><img src=\"https://www.impacttechnology.co.uk/media/images/Example-ERD-800px.png\" width=\"60%\"></p>\n",
        "\n",
        "\n",
        "\n",
        "Um ERD é uma forma comum de visualizar os dados em um banco de dados. Podemos visualizar, por exemplo:\n",
        "\n",
        "* Os nomes das tabelas.\n",
        "* As colunas em cada tabela.\n",
        "* A forma de interação dessas colunas.\n",
        "* Podemos entender cada uma das tabelas como uma \"planilha\".\n",
        "\n",
        "Abaixo, podemos ver um pouco mais sobre esse tipo de diagrama. A fonte do trecho abaixo que explica em detalhe esse relacionamento pode ser encontrado [aqui](https://www.lucidchart.com/pages/pt/o-que-e-diagrama-entidade-relacionamento).\n",
        "\n",
        "> Um diagrama entidade relacionamento (ER) é um tipo de fluxograma que ilustra como “entidades”, p. ex., pessoas, objetos ou conceitos, se relacionam entre si dentro de um sistema. Diagramas ER são mais utilizados para projetar ou depurar bancos de dados relacionais nas áreas de engenharia de software, sistemas de informações empresariais, educação e pesquisa. Também conhecidos como DERs, ou modelos ER, usam um conjunto definido de símbolos, tais como retângulos, diamantes, ovais e linhas de conexão para representar a interconectividade de entidades, relacionamentos e seus atributos. Eles espelham estruturas gramaticais, onde entidades são substantivos e relacionamentos são verbos.\n",
        ">\n",
        "> Diagramas ER estão relacionados com diagramas de estrutura de dados (DEDs), que incidem sobre as relações de elementos dentro de entidades em vez de relações entre as próprias entidades. Diagramas ER são também muitas vezes utilizados junto com diagramas de fluxo de dados (DFDs), que mapeiam o fluxo de informações para processos ou sistemas.\n",
        ">\n",
        "> ### Componentes e funcionalidades de um diagrama ER\n",
        ">\n",
        "> Diagramas ER são compostos de entidades, relacionamentos e atributos. Eles também descrevem a cardinalidade, que define as relações em termos de números. Veja um glossário:\n",
        ">\n",
        "> ### Entidade\n",
        ">\n",
        ">Algo que pode ser definido e que pode ter dados armazenados sobre ele — como uma pessoa, um objeto, conceito ou evento. Pense em entidades como substantivos. Exemplos: um cliente, estudante, carro ou produto. Normalmente representado como um retângulo.\n",
        ">\n",
        ">\n",
        ">**Tipo de entidade**: um grupo de coisas definíveis, como estudantes ou atletas, ao passo que a entidade seria um estudante ou atleta específico. Outros exemplos: clientes, carros ou produtos.\n",
        ">\n",
        ">**Conjunto de entidade**: assim como um tipo de entidade, mas definido em um determinado ponto no tempo, tal como estudantes matriculados em um curso no primeiro dia de aula. Outros exemplos: clientes que fizeram compras no mês passado, carros atualmente registrados na Flórida. Um termo relacionado é ‘instância’, em que a pessoa ou carro específico seria uma instância do conjunto de entidade.\n",
        ">\n",
        ">**Categorias de entidades**: entidades são categorizadas como forte, fraca ou associativa. Uma entidade forte pode ser definida unicamente pelos seus próprios atributos, enquanto uma entidade fraca não pode. Uma entidade associativa junta entidades (ou elementos) dentro de um conjunto de entidades.\n",
        ">\n",
        ">\n",
        ">**Chaves de entidades**: refere-se a um atributo que define exclusivamente uma entidade dentro de um conjunto de entidades. Chaves de entidades podem ser super, candidata ou primária. Superchave: um conjunto de atributos (um ou mais) que, juntos, definem uma entidade em um conjunto de entidades. Chave candidata: uma superchave mínima, o que significa que tem o menor número possível de atributos para ser uma superchave. Um conjunto de entidades pode ter mais de uma chave candidata. Chave primária: uma chave candidata escolhida pelo designer do banco de dados para identificar exclusivamente o conjunto de entidades. Chave estrangeira: identifica o relacionamento entre entidades.\n",
        ">\n",
        "> ### Relacionamento\n",
        ">\n",
        ">Como entidades atuam umas sobre as outras ou estão associadas uma com a outra. Pense em relacionamentos como verbos. Por exemplo, o estudante pode se inscrever em um curso. As duas entidades seriam o aluno e o curso, e o relacionamento descrito é o ato de matricular-se, assim conectando as duas entidades. Relacionamentos são tipicamente representados por diamantes ou etiquetas diretamente sobre as linhas de ligação.\n",
        ">\n",
        ">\n",
        ">**Relacionamento recursivo**: a mesma entidade participa mais de uma vez na relação.\n",
        ">\n",
        "> ### Atributo\n",
        ">\n",
        ">A propriedade ou característica de uma entidade, muitas vezes representada por um oval ou círculo.\n",
        ">\n",
        ">\n",
        ">**Atributo descritivo**: uma propriedade ou característica de uma relação (versus de uma entidade).\n",
        ">\n",
        ">**Categorias de atributos**: atributos são classificados como simples, composto, derivado, bem como de valor único ou multivalor. Simples: significa que o valor do atributo é atômico e não pode ser dividido, como um número de telefone. Composto: subatributos nascem de um atributo. Derivado: o atributo é calculado, ou derivado de outro atributo, tal como a idade a partir de uma data de nascimento.\n",
        ">\n",
        ">\n",
        ">**Multivalor**: mais de um valor de atributo é identificado, como vários números de telefone para uma única pessoa.\n",
        ">\n",
        ">\n",
        ">**Valor único**: apenas um valor de atributo. Os tipos podem ser combinados, tais como: atributos de valor único e simples ou atributos de multivalor compostos.\n",
        ">\n",
        ">### Cardinalidade\n",
        ">\n",
        ">Define os atributos numéricos da relação entre duas entidades ou conjuntos de entidades. Os três principais relacionamentos cardinais são um-para-um, um-para-muitos e muitos-para-muitos. Um exemplo de um-para-um seria um estudante associado a um endereço de correspondência. Um exemplo de um-para-muitos (ou muitos-para-um, dependendo do sentido da relação): um estudante se inscreve para vários cursos, mas todos esses cursos têm uma única linha que leva de volta ao aluno. Exemplo de muitos-para-muitos: estudantes como um grupo são associados a vários membros do corpo docente, e membros do corpo docente, por sua vez, são associados a vários alunos.\n",
        ">\n",
        ">**Visualizações de cardinalidade**: a cardinalidade pode ser representada por interpolação ou do mesmo lado, dependendo de onde os símbolos são mostrados.\n",
        ">\n",
        ">**Restrições de cardinalidade**: os números mínimos ou máximos que se aplicam a um relacionamento.\n",
        "\n"
      ],
      "metadata": {
        "id": "KEKKq0vK1G9J"
      }
    },
    {
      "cell_type": "code",
      "execution_count": null,
      "metadata": {
        "id": "nVS0rEbwzdLY"
      },
      "outputs": [],
      "source": []
    }
  ]
}