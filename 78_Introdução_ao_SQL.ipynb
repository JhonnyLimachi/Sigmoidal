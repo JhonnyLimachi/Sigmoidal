{
  "nbformat": 4,
  "nbformat_minor": 0,
  "metadata": {
    "colab": {
      "provenance": [],
      "authorship_tag": "ABX9TyPGBSYjEIZHHIfJ6NWvJ8f/",
      "include_colab_link": true
    },
    "kernelspec": {
      "name": "python3",
      "display_name": "Python 3"
    },
    "language_info": {
      "name": "python"
    }
  },
  "cells": [
    {
      "cell_type": "markdown",
      "metadata": {
        "id": "view-in-github",
        "colab_type": "text"
      },
      "source": [
        "<a href=\"https://colab.research.google.com/github/JhonnyLimachi/Sigmoidal/blob/main/78_Introdu%C3%A7%C3%A3o_ao_SQL.ipynb\" target=\"_parent\"><img src=\"https://colab.research.google.com/assets/colab-badge.svg\" alt=\"Open In Colab\"/></a>"
      ]
    },
    {
      "cell_type": "markdown",
      "source": [
        "---\n",
        "<img alt=\"Colaboratory logo\" width=\"15%\" src=\"https://raw.githubusercontent.com/carlosfab/escola-data-science/master/img/novo_logo_bg_claro.png\">\n",
        "\n",
        "#### **Introdução ao SQL**\n",
        "*by [sigmoidal.ai](https://sigmoidal.ai)*  \n",
        "\n",
        "---"
      ],
      "metadata": {
        "id": "tzepYQv90JhM"
      }
    },
    {
      "cell_type": "markdown",
      "source": [
        "# Introdução ao SQL\n",
        "\n",
        "**SQL** significa ***Structured Query Language***. SQL é uma linguagem usada para se comunicar com bancos de dados. De acordo com a ANSI (*American National Standards Institute*), é a linguagem padrão para sistemas de gerenciamento de bancos de dados relacionais.\n",
        "\n",
        "Através de *statements*, SQL é utilizado para para realizar tarefas como atualizar, retirar ou ler dados em um banco de dados. Alguns Sistemas de Gerenciamento de Banco de Dados que usam SQL são: Oracle, Sybase, Microsoft SQL Server, Microsoft Access, Ingres, etc.\n",
        "\n",
        "Apesar da maioria dos sistemas de banco de dados usarem SQL, a maioria deles têm alguma extensão proprietária, que geralmente é usada apenas em seu sistema.De qualquer forma, os comandos padrão para SQL como `Select`, `Insert`, `Update`, `Delete`, `Create`, e `Drop`podem ser usados para fazer basicamente qualquer coisa com um banco de dados.\n",
        "\n",
        "<p align=center>\n",
        "<img src=\"https://www.syncfusion.com/blogs/wp-content/uploads/2020/07/Top-10-SQL-Query-Optimization-Techniques.jpg\" width=\"60%\"></p>\n",
        "\n",
        "Não reconheceu algumas das coisas mencionadas acima? Tudo bem! Para quem nunca mexeu com SQL, esse é o material correto! Vamos por partes..."
      ],
      "metadata": {
        "id": "_kUprPpM0MTT"
      }
    },
    {
      "cell_type": "markdown",
      "source": [
        "## Nomenclaturas\n",
        "\n",
        "A internet é, muitas vezes, uma excelente fonte de conhecimento. Mas, em alguns casos, podemos nos deparar com desinformação. Existe muita confusão em relação ao SQL, Bancos de Dados, etc. Por isso, antes de tudo, precisamos alinhar nossas nomenclaturas.\n",
        "\n",
        "<p align=center><img src=\"https://images.unsplash.com/photo-1529078155058-5d716f45d604?ixid=MnwxMjA3fDB8MHxwaG90by1wYWdlfHx8fGVufDB8fHx8&ixlib=rb-1.2.1&auto=format&fit=crop&w=1049&q=80\" width=\"60%\"></p>\n",
        "\n",
        "Abaixo, vão algumas das que mais causam confusão:\n",
        "\n",
        "* **SQL** - Em portugês, chamamos de \"Esse-quê-ele\", mas em inglês, podemos ver a pronúncia individual de cada letra em inglês, como se estivesse soletrando, ou então como se fosse a palavra em inglês *\"sequel\"*.\n",
        "* **Banco de Dados** - Um banco de dados é uma coleção organizada de informação ou dados estruturados armazenados eletronicamente em um computador.\n",
        "* **Sistema Gerenciador de Banco de Dados** - Um banco de dados normalmente é controlado por um Sistema Gerenciador de Banco de Dados (SGDB ou *DBMS*, em inglês). Juntos, os dados e o SGDB, além de todas as aplicações associadas a eles são referenciados como um sistema de banco de dados, o que é comumente simplificado para a apenas banco de dados.\n"
      ],
      "metadata": {
        "id": "e2BYt_Gt0c_q"
      }
    },
    {
      "cell_type": "markdown",
      "source": [
        "## Por Que SQL é tão utilizado?\n",
        "\n",
        "Se você está migrando para a área da tecnologia agora, ou mesmo se você costuma receber seus dados em um arquivo csv, pronto para você usar, talvez não esteja familiarizado com o que é, e a importância do SQL e dos Bancos de Dados e seus Sistemas Gerenciadores nas grandes empresas.\n",
        "\n",
        "<p align=center><img src=\"https://www.lifewire.com/thmb/m8HKZDKl4hUMc5BmPx6OaVNwsG8=/2553x1436/smart/filters:no_upscale()/Database-vs-Spreadsheet-6917a9628c7d4f419feefe65acdfb5c0.jpg\" width=\"60%\"></p>\n",
        "\n",
        "Todos nós em algum momento já tivemos que lidar com planilhas. Seja no Google Docs, MS Excel, Numbers, Calc, etc. Mas se esse é um formato muito mais simples e comum entre os \"mortais\" para armazenar dados, por que não podemos ficar apenas com esses formatos?\n",
        "\n",
        "Antes de nos aprofundarmos em queries de SQL, vamos dar uma olhada no que faz SQL e Bancos de Dados que utilizam SQL tão populares.\n",
        "\n",
        "É importante reforçar que SQL é uma linguagem, e até por isso a última palavrava que integra o acrônimo SQL é *Structured Query Language*.\n",
        "\n",
        "SQL é utilizado no mundo inteiro, e vai muito além do que veremos nesse curso. Com isso em mente, lembre-se que o SQL é reconhecido por causa de sua interaçõ com Bancos de Dados.\n",
        "\n",
        "Para nós, no momento, podemos pensar em um banco de dados como um conjunto de planilhas, por exemplo, todas armazenadas em um lugar. Entretanto, nem todos os bancos de dados funcionam dessa forma, mas para os propósitos desse curso, podemos entendê-los assim.\n",
        "\n",
        "Esse tipo de banco de dados onde armazenamos dados estruturados com relacionamento entre as tabelas, onde cada tabela pode ser entendida como uma planilha é o que compõe um Banco de Dados Relacional, com o qual podemos interagir com SQL.\n",
        "\n",
        "Existem algumas grandes vantagens em usar bancos de dados relacionais tradicionais, interagindo com eles com SQL. Algumas das vantagens são:\n",
        "\n",
        "* SQL é fácil de entender\n",
        "* Bancos de Dados Relacionais Tradicionais nos permitem acessar dados diretamente\n",
        "* Bancos de Dados Tradicionais nos permitem auditar e replicar nossos dados\n",
        "* SQL é uma excelente ferramenta para analisar várias tabelas de uma vez\n",
        "* SQL permite que analizemos questões mais complexas do que ferramentas de Dashboard como o Google Analytics\n"
      ],
      "metadata": {
        "id": "cMs717wJ0gLq"
      }
    },
    {
      "cell_type": "code",
      "execution_count": null,
      "metadata": {
        "id": "nVS0rEbwzdLY"
      },
      "outputs": [],
      "source": []
    }
  ]
}