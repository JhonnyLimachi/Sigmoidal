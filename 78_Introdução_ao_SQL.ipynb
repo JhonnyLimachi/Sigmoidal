{
  "nbformat": 4,
  "nbformat_minor": 0,
  "metadata": {
    "colab": {
      "provenance": [],
      "authorship_tag": "ABX9TyPQs+ZQPO9bcA4jAtHhB/MD",
      "include_colab_link": true
    },
    "kernelspec": {
      "name": "python3",
      "display_name": "Python 3"
    },
    "language_info": {
      "name": "python"
    }
  },
  "cells": [
    {
      "cell_type": "markdown",
      "metadata": {
        "id": "view-in-github",
        "colab_type": "text"
      },
      "source": [
        "<a href=\"https://colab.research.google.com/github/JhonnyLimachi/Sigmoidal/blob/main/78_Introdu%C3%A7%C3%A3o_ao_SQL.ipynb\" target=\"_parent\"><img src=\"https://colab.research.google.com/assets/colab-badge.svg\" alt=\"Open In Colab\"/></a>"
      ]
    },
    {
      "cell_type": "markdown",
      "source": [
        "---\n",
        "<img alt=\"Colaboratory logo\" width=\"15%\" src=\"https://raw.githubusercontent.com/carlosfab/escola-data-science/master/img/novo_logo_bg_claro.png\">\n",
        "\n",
        "#### **Introdução ao SQL**\n",
        "*by [sigmoidal.ai](https://sigmoidal.ai)*  \n",
        "\n",
        "---"
      ],
      "metadata": {
        "id": "tzepYQv90JhM"
      }
    },
    {
      "cell_type": "markdown",
      "source": [
        "# Introdução ao SQL\n",
        "\n",
        "**SQL** significa ***Structured Query Language***. SQL é uma linguagem usada para se comunicar com bancos de dados. De acordo com a ANSI (*American National Standards Institute*), é a linguagem padrão para sistemas de gerenciamento de bancos de dados relacionais.\n",
        "\n",
        "Através de *statements*, SQL é utilizado para para realizar tarefas como atualizar, retirar ou ler dados em um banco de dados. Alguns Sistemas de Gerenciamento de Banco de Dados que usam SQL são: Oracle, Sybase, Microsoft SQL Server, Microsoft Access, Ingres, etc.\n",
        "\n",
        "Apesar da maioria dos sistemas de banco de dados usarem SQL, a maioria deles têm alguma extensão proprietária, que geralmente é usada apenas em seu sistema.De qualquer forma, os comandos padrão para SQL como `Select`, `Insert`, `Update`, `Delete`, `Create`, e `Drop`podem ser usados para fazer basicamente qualquer coisa com um banco de dados.\n",
        "\n",
        "<p align=center>\n",
        "<img src=\"https://www.syncfusion.com/blogs/wp-content/uploads/2020/07/Top-10-SQL-Query-Optimization-Techniques.jpg\" width=\"60%\"></p>\n",
        "\n",
        "Não reconheceu algumas das coisas mencionadas acima? Tudo bem! Para quem nunca mexeu com SQL, esse é o material correto! Vamos por partes..."
      ],
      "metadata": {
        "id": "_kUprPpM0MTT"
      }
    },
    {
      "cell_type": "code",
      "execution_count": null,
      "metadata": {
        "id": "nVS0rEbwzdLY"
      },
      "outputs": [],
      "source": []
    }
  ]
}