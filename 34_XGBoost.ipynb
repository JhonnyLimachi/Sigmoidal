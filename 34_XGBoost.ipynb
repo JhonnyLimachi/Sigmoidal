{
  "nbformat": 4,
  "nbformat_minor": 0,
  "metadata": {
    "colab": {
      "provenance": [],
      "authorship_tag": "ABX9TyNWrlMZNpFbcui5WdhH2ZuZ",
      "include_colab_link": true
    },
    "kernelspec": {
      "name": "python3",
      "display_name": "Python 3"
    },
    "language_info": {
      "name": "python"
    }
  },
  "cells": [
    {
      "cell_type": "markdown",
      "metadata": {
        "id": "view-in-github",
        "colab_type": "text"
      },
      "source": [
        "<a href=\"https://colab.research.google.com/github/JhonnyLimachi/Sigmoidal/blob/main/34_XGBoost.ipynb\" target=\"_parent\"><img src=\"https://colab.research.google.com/assets/colab-badge.svg\" alt=\"Open In Colab\"/></a>"
      ]
    },
    {
      "cell_type": "markdown",
      "source": [
        "<img alt=\"Colaboratory logo\" width=\"15%\" src=\"https://raw.githubusercontent.com/carlosfab/escola-data-science/master/img/novo_logo_bg_claro.png\">\n",
        "\n",
        "#### **Data Science na Prática 4.0**\n",
        "*by [sigmoidal.ai](https://sigmoidal.ai)*\n",
        "\n",
        "---"
      ],
      "metadata": {
        "id": "Meo3IAzcUA2g"
      }
    },
    {
      "cell_type": "markdown",
      "source": [
        "# XGBoost\n",
        "\n",
        "O nome XGBoost vem de e**X**treme **G**radient **Boost**ing e é pertencente à classe das árvores de decisão. Este algoritmo vem se destacado nas competições do Kaggle, sendo considerado como melhor opção para diversos tipos de problema.\n",
        "\n",
        "<p align=center><img src=\"https://media.licdn.com/dms/image/C4D12AQHIt2funjnANA/article-cover_image-shrink_600_2000/0/1623913883833?e=2147483647&v=beta&t=wWtAourz5Pm9CjjcvfXKovUJdBZEI-YbPlVU29NJZmM\" width=\"60%\"></p>\n",
        "\n",
        "O potencial do XGBoost é devido à técnica de *Gradient Boosting*, capaz de combinar resultados de diversos classificadores \"fracos\" (tipicamente árvores de decisão) que são combinados mediante um *comitê forte de decisão*.\n",
        "\n",
        "A única diferença de tudo que fizemos até agora é que o XGBoost precisa usar um biblioteca diferente da `sklearn`. Para usar o poder deste algoritmo, temos que usar o `xgboost` - que já vem instalado no Google Colab.\n",
        "\n",
        "<p align=center><img src=\"https://media.geeksforgeeks.org/wp-content/uploads/20210707140911/Boosting.png\" width=\"60%\"></p>\n"
      ],
      "metadata": {
        "id": "lDsHqiWlUJkf"
      }
    },
    {
      "cell_type": "markdown",
      "source": [
        "## Implementando o XGBoost"
      ],
      "metadata": {
        "id": "5iRdvOKNUQh_"
      }
    },
    {
      "cell_type": "code",
      "execution_count": null,
      "metadata": {
        "id": "j44nq2IoTrvt"
      },
      "outputs": [],
      "source": []
    }
  ]
}