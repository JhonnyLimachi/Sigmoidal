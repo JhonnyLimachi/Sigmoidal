{
  "nbformat": 4,
  "nbformat_minor": 0,
  "metadata": {
    "colab": {
      "provenance": [],
      "authorship_tag": "ABX9TyM6eYwIx2T7LrfweH9j+uvV",
      "include_colab_link": true
    },
    "kernelspec": {
      "name": "python3",
      "display_name": "Python 3"
    },
    "language_info": {
      "name": "python"
    }
  },
  "cells": [
    {
      "cell_type": "markdown",
      "metadata": {
        "id": "view-in-github",
        "colab_type": "text"
      },
      "source": [
        "<a href=\"https://colab.research.google.com/github/JhonnyLimachi/Sigmoidal/blob/main/62_Visualiza%C3%A7%C3%B5es_de_Dados_com_Python.ipynb\" target=\"_parent\"><img src=\"https://colab.research.google.com/assets/colab-badge.svg\" alt=\"Open In Colab\"/></a>"
      ]
    },
    {
      "cell_type": "markdown",
      "source": [
        "## **⚠️ Comece por aqui ⚠️**\n",
        "\n",
        "Seja bem-vindo ao nosso curso de visualizações de dados com Python!\n",
        "\n",
        "\n",
        "\n",
        "Aqui você vai aprender a criar visualizações impactantes, atraentes e impressionantes, que vão te ajudar a se destacar na sua área, e se tornar a referência no assunto na sua empresa.\n",
        "\n",
        "Mas antes de começar, precisamos esclarecer algumas coisas:\n",
        "\n",
        "Para esse curso, consideramos que você já tem uma noção de Python e consegue gerar algumas visualizações, mas quer ir além.\n",
        "Você entende que as visualizações são bem mais do que enfeites para o projeto, e são parte vital da comunicação do seu projeto.\n",
        "Você sabe que os gráficos contam uma história junto do seu projeto, e precisam estar alinhados com os insights que representam.\n",
        "Você também sabe que para alcançar os objetivos do curso é necessário muita PRÁTICA, e que só assistir as aulas não o fará um mestre das visualizações.\n",
        "Com isso em mente, assista as aulas na sequência, sempre praticando, reproduzindo o notebook, criando uma versão sua modificando algumas coisas, para fixar tudo o que foi apresentado!\n",
        "\n",
        "\n",
        "\n",
        "Já que você está produzindo material ao realizar sua prática, aproveite para compartilhar ele com a sua rede! Fortaleça o seu personal branding, e reforce a sua autoridade."
      ],
      "metadata": {
        "id": "6Kdg9cXDME2C"
      }
    },
    {
      "cell_type": "markdown",
      "source": [
        "## **Como consumir esse curso**\n",
        "\n",
        "Aqui no Sigmoidal temos uma filosofia bem definida que toma por princípio 3 Ps: Prática, Portfólio e Personal Branding.\n",
        "\n",
        "\n",
        "\n",
        "Nessa aula, estamos enfatizando o primeiro P, da Prática, e como fazê-la de forma efetiva com o material desse curso."
      ],
      "metadata": {
        "id": "dKTeJrZ6Nehn"
      }
    },
    {
      "cell_type": "markdown",
      "source": [
        "## **\"O Visual Vende\"**\n",
        "\n",
        "O belo é feito para ser admirado. Existe uma aura ao redor do que é belo que nos faz sentir mais conectados, nos chama mais atenção e fica gravado em nossa memória. Por isso, não se engane, belas visualizações não são perda de tempo ou firula. É um investimento de tempo que paga dividendos so\u0010bre o seu trabalho, pois o visual vende!\n",
        "\n",
        "\n",
        "\n",
        "Não só vende produtos, mas vende ideias e transmite conhecimentos. Tenha isso em mente ao criar suas visualizações."
      ],
      "metadata": {
        "id": "PZ8vWbhUNrmn"
      }
    },
    {
      "cell_type": "markdown",
      "source": [
        "## **Método Sigmoidal e Personal Branding**\n",
        "\n",
        "Aqui voltamos aos princípios do Sigmoidal: Prática, Portfólio e Personal Branding.\n",
        "\n",
        "\n",
        "Aproveite que está estudando e produzindo material e transforme esse material em artigos, tutoriais, posts em suas redes sociais. Não só o LinkedIn mas Instagram, Facebook, Tik Tok, qualquer rede que você utilize!\n",
        "\n",
        "\n",
        "Faça com que sua rede de contatos saiba com clareza que você não só é bom em visualizações, mas torne-se a referência deles no assunto!\n",
        "\n",
        "\n",
        "\n",
        "Quem não é visto não é lembrado!"
      ],
      "metadata": {
        "id": "-JJeyOl0N67Z"
      }
    },
    {
      "cell_type": "code",
      "execution_count": null,
      "metadata": {
        "id": "g7hidSaFL-F4"
      },
      "outputs": [],
      "source": []
    }
  ]
}