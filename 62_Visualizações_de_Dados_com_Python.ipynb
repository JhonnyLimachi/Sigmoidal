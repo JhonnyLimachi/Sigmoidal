{
  "nbformat": 4,
  "nbformat_minor": 0,
  "metadata": {
    "colab": {
      "provenance": [],
      "authorship_tag": "ABX9TyNopiV/ZQQ9HVIdM7hbeGWR",
      "include_colab_link": true
    },
    "kernelspec": {
      "name": "python3",
      "display_name": "Python 3"
    },
    "language_info": {
      "name": "python"
    }
  },
  "cells": [
    {
      "cell_type": "markdown",
      "metadata": {
        "id": "view-in-github",
        "colab_type": "text"
      },
      "source": [
        "<a href=\"https://colab.research.google.com/github/JhonnyLimachi/Sigmoidal/blob/main/62_Visualiza%C3%A7%C3%B5es_de_Dados_com_Python.ipynb\" target=\"_parent\"><img src=\"https://colab.research.google.com/assets/colab-badge.svg\" alt=\"Open In Colab\"/></a>"
      ]
    },
    {
      "cell_type": "markdown",
      "source": [
        "## **⚠️ Comece por aqui ⚠️**\n",
        "\n",
        "Seja bem-vindo ao nosso curso de visualizações de dados com Python!\n",
        "\n",
        "\n",
        "\n",
        "Aqui você vai aprender a criar visualizações impactantes, atraentes e impressionantes, que vão te ajudar a se destacar na sua área, e se tornar a referência no assunto na sua empresa.\n",
        "\n",
        "Mas antes de começar, precisamos esclarecer algumas coisas:\n",
        "\n",
        "Para esse curso, consideramos que você já tem uma noção de Python e consegue gerar algumas visualizações, mas quer ir além.\n",
        "Você entende que as visualizações são bem mais do que enfeites para o projeto, e são parte vital da comunicação do seu projeto.\n",
        "Você sabe que os gráficos contam uma história junto do seu projeto, e precisam estar alinhados com os insights que representam.\n",
        "Você também sabe que para alcançar os objetivos do curso é necessário muita PRÁTICA, e que só assistir as aulas não o fará um mestre das visualizações.\n",
        "Com isso em mente, assista as aulas na sequência, sempre praticando, reproduzindo o notebook, criando uma versão sua modificando algumas coisas, para fixar tudo o que foi apresentado!\n",
        "\n",
        "\n",
        "\n",
        "Já que você está produzindo material ao realizar sua prática, aproveite para compartilhar ele com a sua rede! Fortaleça o seu personal branding, e reforce a sua autoridade."
      ],
      "metadata": {
        "id": "6Kdg9cXDME2C"
      }
    },
    {
      "cell_type": "markdown",
      "source": [
        "## **Como consumir esse curso**\n",
        "\n",
        "Aqui no Sigmoidal temos uma filosofia bem definida que toma por princípio 3 Ps: Prática, Portfólio e Personal Branding.\n",
        "\n",
        "\n",
        "\n",
        "Nessa aula, estamos enfatizando o primeiro P, da Prática, e como fazê-la de forma efetiva com o material desse curso."
      ],
      "metadata": {
        "id": "dKTeJrZ6Nehn"
      }
    },
    {
      "cell_type": "markdown",
      "source": [
        "## **\"O Visual Vende\"**\n",
        "\n",
        "O belo é feito para ser admirado. Existe uma aura ao redor do que é belo que nos faz sentir mais conectados, nos chama mais atenção e fica gravado em nossa memória. Por isso, não se engane, belas visualizações não são perda de tempo ou firula. É um investimento de tempo que paga dividendos so\u0010bre o seu trabalho, pois o visual vende!\n",
        "\n",
        "\n",
        "\n",
        "Não só vende produtos, mas vende ideias e transmite conhecimentos. Tenha isso em mente ao criar suas visualizações."
      ],
      "metadata": {
        "id": "PZ8vWbhUNrmn"
      }
    },
    {
      "cell_type": "markdown",
      "source": [
        "## **Método Sigmoidal e Personal Branding**\n",
        "\n",
        "Aqui voltamos aos princípios do Sigmoidal: Prática, Portfólio e Personal Branding.\n",
        "\n",
        "\n",
        "Aproveite que está estudando e produzindo material e transforme esse material em artigos, tutoriais, posts em suas redes sociais. Não só o LinkedIn mas Instagram, Facebook, Tik Tok, qualquer rede que você utilize!\n",
        "\n",
        "\n",
        "Faça com que sua rede de contatos saiba com clareza que você não só é bom em visualizações, mas torne-se a referência deles no assunto!\n",
        "\n",
        "\n",
        "\n",
        "Quem não é visto não é lembrado!"
      ],
      "metadata": {
        "id": "-JJeyOl0N67Z"
      }
    },
    {
      "cell_type": "markdown",
      "source": [
        "## **05_colab.mp4**\n",
        "\n",
        "Ao longo do curso, iremos utilizar a plataforma Google Colab para fazer nossos projetos.\n",
        "\n",
        "\n",
        "\n",
        "O Google Colab é um ambiente Jupyter Notebook na nuvem, que traz muita robustez, versatilidade e alta reprodutibilidade aos nossos projetos, sem precisar de qualquer tipo de setup ou instalação. Basta acessar um link e começar a programar!\n",
        "\n",
        "\n",
        "\n",
        "Por esse motivo, ele já se tornou queridinho da comunidade, e é um grande aliado nosso, pois nos ajuda a ganhar tempo e focar no que realmente importa.\n",
        "\n",
        "# **Links úteis:**\n",
        "\n",
        "[Notebook usado nesta aula](https://colab.research.google.com/drive/1V7DDexJbJiv0q3nCO6iTDeDjm0p_XcS8)"
      ],
      "metadata": {
        "id": "RD8rUJF3ON82"
      }
    },
    {
      "cell_type": "markdown",
      "source": [
        "## **Recomendação de Material Extra**\n",
        "\n",
        "Sempre que algum material for citado ao longo das aulas, seu link estará aqui embaixo! Isso serve para notebooks utilizados nas aulas, assim como qualquer outro recurso!\n",
        "\n",
        "\n",
        "## **Links úteis:**\n",
        "\n",
        "[Livro \"Storytelling com Dados\"](https://www.amazon.com.br/Storytelling-com-Dados-Visualiza%C3%A7%C3%A3o-Profissionais/dp/8550804681)\n",
        "\n",
        "[Livro \"Como Mentir Com Estatística\"](https://www.amazon.com.br/Como-Mentir-Estat%C3%ADstica-Darrell-Huff/dp/858057952X/ref=asc_df_858057952X/?tag=googleshopp00-20&linkCode=df0&hvadid=379712528301&hvpos=&hvnetw=g&hvrand=13370910310319748986&hvpone=&hvptwo=&hvqmt=&hvdev=c&hvdvcmdl=&hvlocint=&hvlocphy=1001541&hvtargid=pla-786135653177&psc=1)\n",
        "\n",
        "[Dark Horse Analytics](https://www.darkhorseanalytics.com/)"
      ],
      "metadata": {
        "id": "9An1NAYlOm1G"
      }
    }
  ]
}