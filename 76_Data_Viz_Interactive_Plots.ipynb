{
  "nbformat": 4,
  "nbformat_minor": 0,
  "metadata": {
    "colab": {
      "provenance": [],
      "authorship_tag": "ABX9TyMHjGAoJ1iA9HwqiFVhRmYY",
      "include_colab_link": true
    },
    "kernelspec": {
      "name": "python3",
      "display_name": "Python 3"
    },
    "language_info": {
      "name": "python"
    }
  },
  "cells": [
    {
      "cell_type": "markdown",
      "metadata": {
        "id": "view-in-github",
        "colab_type": "text"
      },
      "source": [
        "<a href=\"https://colab.research.google.com/github/JhonnyLimachi/Sigmoidal/blob/main/76_Data_Viz_Interactive_Plots.ipynb\" target=\"_parent\"><img src=\"https://colab.research.google.com/assets/colab-badge.svg\" alt=\"Open In Colab\"/></a>"
      ]
    },
    {
      "cell_type": "markdown",
      "source": [
        "<img alt=\"Colaboratory logo\" width=\"15%\" src=\"https://raw.githubusercontent.com/carlosfab/escola-data-science/master/img/novo_logo_bg_claro.png\">\n",
        "\n",
        "#### **Visualizações de Dados com Python**\n",
        "*by [sigmoidal.ai](https://sigmoidal.ai)*\n",
        "\n",
        "---"
      ],
      "metadata": {
        "id": "7KJC17p2NWDB"
      }
    },
    {
      "cell_type": "markdown",
      "source": [
        "Uma coisa muito interessante que podemos trazer para os nossos plots é a interatividade. Em muitos casos, ela pode ser essencial, e pode trazer resultados impressionantes para nosso projeto.\n",
        "\n",
        "Para isso, utilizaremos a biblioteca [ipywidgets](https://ipywidgets.readthedocs.io/en/latest/).\n",
        "\n",
        "\n",
        "O framework dos widgets é construído no *Comm Framework* (abreviação para comunicação, em inglês). O *Comm Framework* é um framework que permite que o kernel envie e receba mensagens em JSON do front end.\n",
        "\n",
        "<center><img src=\"https://ipywidgets.readthedocs.io/en/latest/_images/WidgetArch.png\" height=\"400px\"></center>\n",
        "\n",
        "A função `interact` (ipywidgets.interact) automaticamente cria uma interface de usuário com controles para explorar o código e os dados interativamente. Esse é o jeito mais fácil de começar widgets do IPython.\n",
        "\n",
        "No nível mais básico, o `interact` cria automaticamente um interface de usuário que controla os argumentos de uma função, e então chama a função com aqueles argumentos que você selecionou\u0010 através da UI.\n",
        "\n",
        "Portanto, para usar o `interact` você precisa definir uma função que queira explorar.\n",
        "\n",
        "<center><img src=\"https://ipywidgets.readthedocs.io/en/stable/_images/WidgetModelView.png\" height=\"400px\"></center>\n",
        "\n",
        "Para cada tipo de argumento passado para função, um tipo apropriado de widget é criado para fazer a interação, podendo ser um checkbox, slider, dropdown menu, etc.\n",
        "\n",
        "Vamos ver como isso funciona na prática."
      ],
      "metadata": {
        "id": "WsHgL7SXNZPo"
      }
    },
    {
      "cell_type": "code",
      "execution_count": null,
      "metadata": {
        "id": "OMuzbKnINR0y"
      },
      "outputs": [],
      "source": []
    }
  ]
}