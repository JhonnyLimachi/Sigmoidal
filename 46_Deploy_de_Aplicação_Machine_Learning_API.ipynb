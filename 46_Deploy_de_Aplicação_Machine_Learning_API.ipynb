{
  "nbformat": 4,
  "nbformat_minor": 0,
  "metadata": {
    "colab": {
      "provenance": [],
      "authorship_tag": "ABX9TyOcag9F5hVUzUcU441KJjsm",
      "include_colab_link": true
    },
    "kernelspec": {
      "name": "python3",
      "display_name": "Python 3"
    },
    "language_info": {
      "name": "python"
    }
  },
  "cells": [
    {
      "cell_type": "markdown",
      "metadata": {
        "id": "view-in-github",
        "colab_type": "text"
      },
      "source": [
        "<a href=\"https://colab.research.google.com/github/JhonnyLimachi/Sigmoidal/blob/main/46_Deploy_de_Aplica%C3%A7%C3%A3o_Machine_Learning_API.ipynb\" target=\"_parent\"><img src=\"https://colab.research.google.com/assets/colab-badge.svg\" alt=\"Open In Colab\"/></a>"
      ]
    },
    {
      "cell_type": "markdown",
      "source": [
        "## **Criando uma API com FLASK**\n",
        "\n",
        "Com nosso modelo pronto e salvo, é hora de criarmos a API utilizando o framework Flask.\n",
        "\n",
        "\n",
        "\n",
        "## **Referências**\n",
        "\n",
        "[Documentação Flask​](https://flask.palletsprojects.com/en/1.1.x/quickstart/)\n",
        "\n",
        "[Python Web Applications with Flask - Real Python​](https://realpython.com/flask-project/)\n",
        "\n",
        "[Flask by example: Project Setup - Real Python](https://realpython.com/flask-by-example-part-1-project-setup/)"
      ],
      "metadata": {
        "id": "bo5fpy7_pIL7"
      }
    },
    {
      "cell_type": "markdown",
      "source": [
        "## **Previsões dentro da API**\n",
        "\n",
        "Agora que nosso modelo está treinado e salvo, e nossa API pronta, é hora de fazermos previsões dentro dela.\n",
        "\n",
        "## **Referências**\n",
        "\n",
        "[Making Predictions with a Flask API - Toptal](https://www.toptal.com/python/python-machine-learning-flask-example)"
      ],
      "metadata": {
        "id": "wvaf23v9qKBy"
      }
    },
    {
      "cell_type": "markdown",
      "source": [
        "## **Testando a API com Insomnia**\n",
        "\n",
        "Para testar as requisições da nossa API, vamos utilizar a ferramenta Insomnia, que vai nos ajudar a verificar tudo que está acontecendo por trás da nossa aplicação.\n",
        "\n",
        "## **Referências**\n",
        "\n",
        "[Usando Insomnia para testar requisições de uma API\n",
        "](https://hcode.com.br/blog/usando-insomnia-para-testar-as-requisicoes-de-nossas-apis)\n",
        "\n",
        "[Documentação Insomnia](https://insomnia.rest/)"
      ],
      "metadata": {
        "id": "zR8xAMQ3rACY"
      }
    },
    {
      "cell_type": "markdown",
      "source": [
        "## **[PROJETO] Deploy de uma Aplicação**\n",
        "\n",
        "Usaremos o framework Flask para fazer o deploy de uma API voltada para aplicações de Machine Learning.\n",
        "\n",
        "Pacotes para instalar\n",
        "pip install gunicorn\n",
        "pip install sklearn\n",
        "pip install numpy\n",
        "pip install flask\n",
        "pip install flask-restful\n",
        "Deploy no Heroku\n",
        "Criar um arquivo \"Procfile\"\n",
        "Atualizar o Procfile com web: gunicorn app:app\n",
        "pip3 freeze > requirements.txt\n",
        "git init\n",
        "heroku login\n",
        "heroku create nomedasuaapp\n",
        "git add .\n",
        "git commit -m \"Text do Commit\"\n",
        "heroku git:remote -a nomedasuaapp\n",
        "git push heroku master\n",
        "\n",
        "## **Referências:**\n",
        "\n",
        "[Site do Insomnia](https://insomnia.rest/)\n",
        "\n",
        "[Heroku CLI](https://devcenter.heroku.com/articles/heroku-cli)\n",
        "\n",
        "[Git](https://git-scm.com/)\n"
      ],
      "metadata": {
        "id": "S-5HubnetrcG"
      }
    },
    {
      "cell_type": "code",
      "execution_count": null,
      "metadata": {
        "id": "V91zLyaZnvjY"
      },
      "outputs": [],
      "source": []
    }
  ]
}