{
  "nbformat": 4,
  "nbformat_minor": 0,
  "metadata": {
    "colab": {
      "provenance": [],
      "authorship_tag": "ABX9TyP/2klYff/+suBFKFOVkMB/",
      "include_colab_link": true
    },
    "kernelspec": {
      "name": "python3",
      "display_name": "Python 3"
    },
    "language_info": {
      "name": "python"
    }
  },
  "cells": [
    {
      "cell_type": "markdown",
      "metadata": {
        "id": "view-in-github",
        "colab_type": "text"
      },
      "source": [
        "<a href=\"https://colab.research.google.com/github/JhonnyLimachi/Sigmoidal/blob/main/46_Deploy_de_Aplica%C3%A7%C3%A3o_Machine_Learning_API.ipynb\" target=\"_parent\"><img src=\"https://colab.research.google.com/assets/colab-badge.svg\" alt=\"Open In Colab\"/></a>"
      ]
    },
    {
      "cell_type": "markdown",
      "source": [
        "## **Criando uma API com FLASK**\n",
        "\n",
        "Com nosso modelo pronto e salvo, é hora de criarmos a API utilizando o framework Flask.\n",
        "\n",
        "\n",
        "\n",
        "## **Referências**\n",
        "\n",
        "[Documentação Flask​](https://flask.palletsprojects.com/en/1.1.x/quickstart/)\n",
        "\n",
        "[Python Web Applications with Flask - Real Python​](https://realpython.com/flask-project/)\n",
        "\n",
        "[Flask by example: Project Setup - Real Python](https://realpython.com/flask-by-example-part-1-project-setup/)"
      ],
      "metadata": {
        "id": "bo5fpy7_pIL7"
      }
    },
    {
      "cell_type": "markdown",
      "source": [
        "## **Previsões dentro da API**\n",
        "\n",
        "Agora que nosso modelo está treinado e salvo, e nossa API pronta, é hora de fazermos previsões dentro dela.\n",
        "\n",
        "## **Referências**\n",
        "\n",
        "[Making Predictions with a Flask API - Toptal](https://www.toptal.com/python/python-machine-learning-flask-example)"
      ],
      "metadata": {
        "id": "wvaf23v9qKBy"
      }
    },
    {
      "cell_type": "code",
      "execution_count": null,
      "metadata": {
        "id": "V91zLyaZnvjY"
      },
      "outputs": [],
      "source": []
    }
  ]
}