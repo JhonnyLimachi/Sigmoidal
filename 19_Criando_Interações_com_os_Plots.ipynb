{
  "nbformat": 4,
  "nbformat_minor": 0,
  "metadata": {
    "colab": {
      "provenance": [],
      "authorship_tag": "ABX9TyN7K8Wjt7p/YVCxZxB0mU90",
      "include_colab_link": true
    },
    "kernelspec": {
      "name": "python3",
      "display_name": "Python 3"
    },
    "language_info": {
      "name": "python"
    },
    "widgets": {
      "application/vnd.jupyter.widget-state+json": {
        "110438dbd94e41cbacf5757ee15ca3df": {
          "model_module": "@jupyter-widgets/controls",
          "model_name": "VBoxModel",
          "model_module_version": "1.5.0",
          "state": {
            "_dom_classes": [
              "widget-interact"
            ],
            "_model_module": "@jupyter-widgets/controls",
            "_model_module_version": "1.5.0",
            "_model_name": "VBoxModel",
            "_view_count": null,
            "_view_module": "@jupyter-widgets/controls",
            "_view_module_version": "1.5.0",
            "_view_name": "VBoxView",
            "box_style": "",
            "children": [
              "IPY_MODEL_404b84238493473394eb4b720d668a66",
              "IPY_MODEL_e7540c5a49ed48ad8f883a77e0f86ca3"
            ],
            "layout": "IPY_MODEL_88410e69925245d9b188bfdca306e56e"
          }
        },
        "404b84238493473394eb4b720d668a66": {
          "model_module": "@jupyter-widgets/controls",
          "model_name": "IntSliderModel",
          "model_module_version": "1.5.0",
          "state": {
            "_dom_classes": [],
            "_model_module": "@jupyter-widgets/controls",
            "_model_module_version": "1.5.0",
            "_model_name": "IntSliderModel",
            "_view_count": null,
            "_view_module": "@jupyter-widgets/controls",
            "_view_module_version": "1.5.0",
            "_view_name": "IntSliderView",
            "continuous_update": true,
            "description": "x",
            "description_tooltip": null,
            "disabled": false,
            "layout": "IPY_MODEL_db158f37d833492f9112eddab5aed036",
            "max": 10,
            "min": -5,
            "orientation": "horizontal",
            "readout": true,
            "readout_format": "d",
            "step": 1,
            "style": "IPY_MODEL_df2202c15147484db0f852dbdc3167aa",
            "value": 2
          }
        },
        "e7540c5a49ed48ad8f883a77e0f86ca3": {
          "model_module": "@jupyter-widgets/output",
          "model_name": "OutputModel",
          "model_module_version": "1.0.0",
          "state": {
            "_dom_classes": [],
            "_model_module": "@jupyter-widgets/output",
            "_model_module_version": "1.0.0",
            "_model_name": "OutputModel",
            "_view_count": null,
            "_view_module": "@jupyter-widgets/output",
            "_view_module_version": "1.0.0",
            "_view_name": "OutputView",
            "layout": "IPY_MODEL_6cb1894c18c040d7b9c32fef9e6ce299",
            "msg_id": "",
            "outputs": [
              {
                "output_type": "display_data",
                "data": {
                  "text/plain": "<Figure size 640x480 with 1 Axes>",
                  "image/png": "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\n"
                },
                "metadata": {}
              }
            ]
          }
        },
        "88410e69925245d9b188bfdca306e56e": {
          "model_module": "@jupyter-widgets/base",
          "model_name": "LayoutModel",
          "model_module_version": "1.2.0",
          "state": {
            "_model_module": "@jupyter-widgets/base",
            "_model_module_version": "1.2.0",
            "_model_name": "LayoutModel",
            "_view_count": null,
            "_view_module": "@jupyter-widgets/base",
            "_view_module_version": "1.2.0",
            "_view_name": "LayoutView",
            "align_content": null,
            "align_items": null,
            "align_self": null,
            "border": null,
            "bottom": null,
            "display": null,
            "flex": null,
            "flex_flow": null,
            "grid_area": null,
            "grid_auto_columns": null,
            "grid_auto_flow": null,
            "grid_auto_rows": null,
            "grid_column": null,
            "grid_gap": null,
            "grid_row": null,
            "grid_template_areas": null,
            "grid_template_columns": null,
            "grid_template_rows": null,
            "height": null,
            "justify_content": null,
            "justify_items": null,
            "left": null,
            "margin": null,
            "max_height": null,
            "max_width": null,
            "min_height": null,
            "min_width": null,
            "object_fit": null,
            "object_position": null,
            "order": null,
            "overflow": null,
            "overflow_x": null,
            "overflow_y": null,
            "padding": null,
            "right": null,
            "top": null,
            "visibility": null,
            "width": null
          }
        },
        "db158f37d833492f9112eddab5aed036": {
          "model_module": "@jupyter-widgets/base",
          "model_name": "LayoutModel",
          "model_module_version": "1.2.0",
          "state": {
            "_model_module": "@jupyter-widgets/base",
            "_model_module_version": "1.2.0",
            "_model_name": "LayoutModel",
            "_view_count": null,
            "_view_module": "@jupyter-widgets/base",
            "_view_module_version": "1.2.0",
            "_view_name": "LayoutView",
            "align_content": null,
            "align_items": null,
            "align_self": null,
            "border": null,
            "bottom": null,
            "display": null,
            "flex": null,
            "flex_flow": null,
            "grid_area": null,
            "grid_auto_columns": null,
            "grid_auto_flow": null,
            "grid_auto_rows": null,
            "grid_column": null,
            "grid_gap": null,
            "grid_row": null,
            "grid_template_areas": null,
            "grid_template_columns": null,
            "grid_template_rows": null,
            "height": null,
            "justify_content": null,
            "justify_items": null,
            "left": null,
            "margin": null,
            "max_height": null,
            "max_width": null,
            "min_height": null,
            "min_width": null,
            "object_fit": null,
            "object_position": null,
            "order": null,
            "overflow": null,
            "overflow_x": null,
            "overflow_y": null,
            "padding": null,
            "right": null,
            "top": null,
            "visibility": null,
            "width": null
          }
        },
        "df2202c15147484db0f852dbdc3167aa": {
          "model_module": "@jupyter-widgets/controls",
          "model_name": "SliderStyleModel",
          "model_module_version": "1.5.0",
          "state": {
            "_model_module": "@jupyter-widgets/controls",
            "_model_module_version": "1.5.0",
            "_model_name": "SliderStyleModel",
            "_view_count": null,
            "_view_module": "@jupyter-widgets/base",
            "_view_module_version": "1.2.0",
            "_view_name": "StyleView",
            "description_width": "",
            "handle_color": null
          }
        },
        "6cb1894c18c040d7b9c32fef9e6ce299": {
          "model_module": "@jupyter-widgets/base",
          "model_name": "LayoutModel",
          "model_module_version": "1.2.0",
          "state": {
            "_model_module": "@jupyter-widgets/base",
            "_model_module_version": "1.2.0",
            "_model_name": "LayoutModel",
            "_view_count": null,
            "_view_module": "@jupyter-widgets/base",
            "_view_module_version": "1.2.0",
            "_view_name": "LayoutView",
            "align_content": null,
            "align_items": null,
            "align_self": null,
            "border": null,
            "bottom": null,
            "display": null,
            "flex": null,
            "flex_flow": null,
            "grid_area": null,
            "grid_auto_columns": null,
            "grid_auto_flow": null,
            "grid_auto_rows": null,
            "grid_column": null,
            "grid_gap": null,
            "grid_row": null,
            "grid_template_areas": null,
            "grid_template_columns": null,
            "grid_template_rows": null,
            "height": null,
            "justify_content": null,
            "justify_items": null,
            "left": null,
            "margin": null,
            "max_height": null,
            "max_width": null,
            "min_height": null,
            "min_width": null,
            "object_fit": null,
            "object_position": null,
            "order": null,
            "overflow": null,
            "overflow_x": null,
            "overflow_y": null,
            "padding": null,
            "right": null,
            "top": null,
            "visibility": null,
            "width": null
          }
        },
        "96d830fc7d9245adb5770768f6e872ba": {
          "model_module": "@jupyter-widgets/controls",
          "model_name": "VBoxModel",
          "model_module_version": "1.5.0",
          "state": {
            "_dom_classes": [
              "widget-interact"
            ],
            "_model_module": "@jupyter-widgets/controls",
            "_model_module_version": "1.5.0",
            "_model_name": "VBoxModel",
            "_view_count": null,
            "_view_module": "@jupyter-widgets/controls",
            "_view_module_version": "1.5.0",
            "_view_name": "VBoxView",
            "box_style": "",
            "children": [
              "IPY_MODEL_3e4e4d0032a94bdd83de7bae18e681ad",
              "IPY_MODEL_f3f46d8e52504ca0ad47438076c8ec60"
            ],
            "layout": "IPY_MODEL_329ab577cea348a5baa93881bfb28445"
          }
        },
        "3e4e4d0032a94bdd83de7bae18e681ad": {
          "model_module": "@jupyter-widgets/controls",
          "model_name": "CheckboxModel",
          "model_module_version": "1.5.0",
          "state": {
            "_dom_classes": [],
            "_model_module": "@jupyter-widgets/controls",
            "_model_module_version": "1.5.0",
            "_model_name": "CheckboxModel",
            "_view_count": null,
            "_view_module": "@jupyter-widgets/controls",
            "_view_module_version": "1.5.0",
            "_view_name": "CheckboxView",
            "description": "x",
            "description_tooltip": null,
            "disabled": false,
            "indent": true,
            "layout": "IPY_MODEL_6807d8abcbed4254bed26062bcdb7231",
            "style": "IPY_MODEL_c3818635e381435eaa6aa362cbf9abb8",
            "value": true
          }
        },
        "f3f46d8e52504ca0ad47438076c8ec60": {
          "model_module": "@jupyter-widgets/output",
          "model_name": "OutputModel",
          "model_module_version": "1.0.0",
          "state": {
            "_dom_classes": [],
            "_model_module": "@jupyter-widgets/output",
            "_model_module_version": "1.0.0",
            "_model_name": "OutputModel",
            "_view_count": null,
            "_view_module": "@jupyter-widgets/output",
            "_view_module_version": "1.0.0",
            "_view_name": "OutputView",
            "layout": "IPY_MODEL_8d5bd3fc7de24128b41c930aa1b23802",
            "msg_id": "",
            "outputs": [
              {
                "output_type": "display_data",
                "data": {
                  "text/plain": "<Figure size 640x480 with 1 Axes>",
                  "image/png": "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\n"
                },
                "metadata": {}
              }
            ]
          }
        },
        "329ab577cea348a5baa93881bfb28445": {
          "model_module": "@jupyter-widgets/base",
          "model_name": "LayoutModel",
          "model_module_version": "1.2.0",
          "state": {
            "_model_module": "@jupyter-widgets/base",
            "_model_module_version": "1.2.0",
            "_model_name": "LayoutModel",
            "_view_count": null,
            "_view_module": "@jupyter-widgets/base",
            "_view_module_version": "1.2.0",
            "_view_name": "LayoutView",
            "align_content": null,
            "align_items": null,
            "align_self": null,
            "border": null,
            "bottom": null,
            "display": null,
            "flex": null,
            "flex_flow": null,
            "grid_area": null,
            "grid_auto_columns": null,
            "grid_auto_flow": null,
            "grid_auto_rows": null,
            "grid_column": null,
            "grid_gap": null,
            "grid_row": null,
            "grid_template_areas": null,
            "grid_template_columns": null,
            "grid_template_rows": null,
            "height": null,
            "justify_content": null,
            "justify_items": null,
            "left": null,
            "margin": null,
            "max_height": null,
            "max_width": null,
            "min_height": null,
            "min_width": null,
            "object_fit": null,
            "object_position": null,
            "order": null,
            "overflow": null,
            "overflow_x": null,
            "overflow_y": null,
            "padding": null,
            "right": null,
            "top": null,
            "visibility": null,
            "width": null
          }
        },
        "6807d8abcbed4254bed26062bcdb7231": {
          "model_module": "@jupyter-widgets/base",
          "model_name": "LayoutModel",
          "model_module_version": "1.2.0",
          "state": {
            "_model_module": "@jupyter-widgets/base",
            "_model_module_version": "1.2.0",
            "_model_name": "LayoutModel",
            "_view_count": null,
            "_view_module": "@jupyter-widgets/base",
            "_view_module_version": "1.2.0",
            "_view_name": "LayoutView",
            "align_content": null,
            "align_items": null,
            "align_self": null,
            "border": null,
            "bottom": null,
            "display": null,
            "flex": null,
            "flex_flow": null,
            "grid_area": null,
            "grid_auto_columns": null,
            "grid_auto_flow": null,
            "grid_auto_rows": null,
            "grid_column": null,
            "grid_gap": null,
            "grid_row": null,
            "grid_template_areas": null,
            "grid_template_columns": null,
            "grid_template_rows": null,
            "height": null,
            "justify_content": null,
            "justify_items": null,
            "left": null,
            "margin": null,
            "max_height": null,
            "max_width": null,
            "min_height": null,
            "min_width": null,
            "object_fit": null,
            "object_position": null,
            "order": null,
            "overflow": null,
            "overflow_x": null,
            "overflow_y": null,
            "padding": null,
            "right": null,
            "top": null,
            "visibility": null,
            "width": null
          }
        },
        "c3818635e381435eaa6aa362cbf9abb8": {
          "model_module": "@jupyter-widgets/controls",
          "model_name": "DescriptionStyleModel",
          "model_module_version": "1.5.0",
          "state": {
            "_model_module": "@jupyter-widgets/controls",
            "_model_module_version": "1.5.0",
            "_model_name": "DescriptionStyleModel",
            "_view_count": null,
            "_view_module": "@jupyter-widgets/base",
            "_view_module_version": "1.2.0",
            "_view_name": "StyleView",
            "description_width": ""
          }
        },
        "8d5bd3fc7de24128b41c930aa1b23802": {
          "model_module": "@jupyter-widgets/base",
          "model_name": "LayoutModel",
          "model_module_version": "1.2.0",
          "state": {
            "_model_module": "@jupyter-widgets/base",
            "_model_module_version": "1.2.0",
            "_model_name": "LayoutModel",
            "_view_count": null,
            "_view_module": "@jupyter-widgets/base",
            "_view_module_version": "1.2.0",
            "_view_name": "LayoutView",
            "align_content": null,
            "align_items": null,
            "align_self": null,
            "border": null,
            "bottom": null,
            "display": null,
            "flex": null,
            "flex_flow": null,
            "grid_area": null,
            "grid_auto_columns": null,
            "grid_auto_flow": null,
            "grid_auto_rows": null,
            "grid_column": null,
            "grid_gap": null,
            "grid_row": null,
            "grid_template_areas": null,
            "grid_template_columns": null,
            "grid_template_rows": null,
            "height": null,
            "justify_content": null,
            "justify_items": null,
            "left": null,
            "margin": null,
            "max_height": null,
            "max_width": null,
            "min_height": null,
            "min_width": null,
            "object_fit": null,
            "object_position": null,
            "order": null,
            "overflow": null,
            "overflow_x": null,
            "overflow_y": null,
            "padding": null,
            "right": null,
            "top": null,
            "visibility": null,
            "width": null
          }
        },
        "8ce5439819024072a599ee524253c1c8": {
          "model_module": "@jupyter-widgets/controls",
          "model_name": "VBoxModel",
          "model_module_version": "1.5.0",
          "state": {
            "_dom_classes": [
              "widget-interact"
            ],
            "_model_module": "@jupyter-widgets/controls",
            "_model_module_version": "1.5.0",
            "_model_name": "VBoxModel",
            "_view_count": null,
            "_view_module": "@jupyter-widgets/controls",
            "_view_module_version": "1.5.0",
            "_view_name": "VBoxView",
            "box_style": "",
            "children": [
              "IPY_MODEL_dd241e8bbfbc41719a07c0a4fe28597d",
              "IPY_MODEL_7dbbe786841a498d9931f3c4964e0870"
            ],
            "layout": "IPY_MODEL_0681d8d41368420e8ca3299fde60c4c0"
          }
        },
        "dd241e8bbfbc41719a07c0a4fe28597d": {
          "model_module": "@jupyter-widgets/controls",
          "model_name": "TextModel",
          "model_module_version": "1.5.0",
          "state": {
            "_dom_classes": [],
            "_model_module": "@jupyter-widgets/controls",
            "_model_module_version": "1.5.0",
            "_model_name": "TextModel",
            "_view_count": null,
            "_view_module": "@jupyter-widgets/controls",
            "_view_module_version": "1.5.0",
            "_view_name": "TextView",
            "continuous_update": true,
            "description": "x",
            "description_tooltip": null,
            "disabled": false,
            "layout": "IPY_MODEL_9b8ebdcbd3ef49c9ad1772cd72218529",
            "placeholder": "​",
            "style": "IPY_MODEL_98b4b7ff6ff44f76a75983b36acfe653",
            "value": "Sigmoidal"
          }
        },
        "7dbbe786841a498d9931f3c4964e0870": {
          "model_module": "@jupyter-widgets/output",
          "model_name": "OutputModel",
          "model_module_version": "1.0.0",
          "state": {
            "_dom_classes": [],
            "_model_module": "@jupyter-widgets/output",
            "_model_module_version": "1.0.0",
            "_model_name": "OutputModel",
            "_view_count": null,
            "_view_module": "@jupyter-widgets/output",
            "_view_module_version": "1.0.0",
            "_view_name": "OutputView",
            "layout": "IPY_MODEL_236f9334c5374f9ab7329accd60fb111",
            "msg_id": "",
            "outputs": [
              {
                "output_type": "display_data",
                "data": {
                  "text/plain": "<Figure size 640x480 with 1 Axes>",
                  "image/png": "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\n"
                },
                "metadata": {}
              }
            ]
          }
        },
        "0681d8d41368420e8ca3299fde60c4c0": {
          "model_module": "@jupyter-widgets/base",
          "model_name": "LayoutModel",
          "model_module_version": "1.2.0",
          "state": {
            "_model_module": "@jupyter-widgets/base",
            "_model_module_version": "1.2.0",
            "_model_name": "LayoutModel",
            "_view_count": null,
            "_view_module": "@jupyter-widgets/base",
            "_view_module_version": "1.2.0",
            "_view_name": "LayoutView",
            "align_content": null,
            "align_items": null,
            "align_self": null,
            "border": null,
            "bottom": null,
            "display": null,
            "flex": null,
            "flex_flow": null,
            "grid_area": null,
            "grid_auto_columns": null,
            "grid_auto_flow": null,
            "grid_auto_rows": null,
            "grid_column": null,
            "grid_gap": null,
            "grid_row": null,
            "grid_template_areas": null,
            "grid_template_columns": null,
            "grid_template_rows": null,
            "height": null,
            "justify_content": null,
            "justify_items": null,
            "left": null,
            "margin": null,
            "max_height": null,
            "max_width": null,
            "min_height": null,
            "min_width": null,
            "object_fit": null,
            "object_position": null,
            "order": null,
            "overflow": null,
            "overflow_x": null,
            "overflow_y": null,
            "padding": null,
            "right": null,
            "top": null,
            "visibility": null,
            "width": null
          }
        },
        "9b8ebdcbd3ef49c9ad1772cd72218529": {
          "model_module": "@jupyter-widgets/base",
          "model_name": "LayoutModel",
          "model_module_version": "1.2.0",
          "state": {
            "_model_module": "@jupyter-widgets/base",
            "_model_module_version": "1.2.0",
            "_model_name": "LayoutModel",
            "_view_count": null,
            "_view_module": "@jupyter-widgets/base",
            "_view_module_version": "1.2.0",
            "_view_name": "LayoutView",
            "align_content": null,
            "align_items": null,
            "align_self": null,
            "border": null,
            "bottom": null,
            "display": null,
            "flex": null,
            "flex_flow": null,
            "grid_area": null,
            "grid_auto_columns": null,
            "grid_auto_flow": null,
            "grid_auto_rows": null,
            "grid_column": null,
            "grid_gap": null,
            "grid_row": null,
            "grid_template_areas": null,
            "grid_template_columns": null,
            "grid_template_rows": null,
            "height": null,
            "justify_content": null,
            "justify_items": null,
            "left": null,
            "margin": null,
            "max_height": null,
            "max_width": null,
            "min_height": null,
            "min_width": null,
            "object_fit": null,
            "object_position": null,
            "order": null,
            "overflow": null,
            "overflow_x": null,
            "overflow_y": null,
            "padding": null,
            "right": null,
            "top": null,
            "visibility": null,
            "width": null
          }
        },
        "98b4b7ff6ff44f76a75983b36acfe653": {
          "model_module": "@jupyter-widgets/controls",
          "model_name": "DescriptionStyleModel",
          "model_module_version": "1.5.0",
          "state": {
            "_model_module": "@jupyter-widgets/controls",
            "_model_module_version": "1.5.0",
            "_model_name": "DescriptionStyleModel",
            "_view_count": null,
            "_view_module": "@jupyter-widgets/base",
            "_view_module_version": "1.2.0",
            "_view_name": "StyleView",
            "description_width": ""
          }
        },
        "236f9334c5374f9ab7329accd60fb111": {
          "model_module": "@jupyter-widgets/base",
          "model_name": "LayoutModel",
          "model_module_version": "1.2.0",
          "state": {
            "_model_module": "@jupyter-widgets/base",
            "_model_module_version": "1.2.0",
            "_model_name": "LayoutModel",
            "_view_count": null,
            "_view_module": "@jupyter-widgets/base",
            "_view_module_version": "1.2.0",
            "_view_name": "LayoutView",
            "align_content": null,
            "align_items": null,
            "align_self": null,
            "border": null,
            "bottom": null,
            "display": null,
            "flex": null,
            "flex_flow": null,
            "grid_area": null,
            "grid_auto_columns": null,
            "grid_auto_flow": null,
            "grid_auto_rows": null,
            "grid_column": null,
            "grid_gap": null,
            "grid_row": null,
            "grid_template_areas": null,
            "grid_template_columns": null,
            "grid_template_rows": null,
            "height": null,
            "justify_content": null,
            "justify_items": null,
            "left": null,
            "margin": null,
            "max_height": null,
            "max_width": null,
            "min_height": null,
            "min_width": null,
            "object_fit": null,
            "object_position": null,
            "order": null,
            "overflow": null,
            "overflow_x": null,
            "overflow_y": null,
            "padding": null,
            "right": null,
            "top": null,
            "visibility": null,
            "width": null
          }
        },
        "f75e22a13e0146c1bf407408637d9fb2": {
          "model_module": "@jupyter-widgets/controls",
          "model_name": "VBoxModel",
          "model_module_version": "1.5.0",
          "state": {
            "_dom_classes": [
              "widget-interact"
            ],
            "_model_module": "@jupyter-widgets/controls",
            "_model_module_version": "1.5.0",
            "_model_name": "VBoxModel",
            "_view_count": null,
            "_view_module": "@jupyter-widgets/controls",
            "_view_module_version": "1.5.0",
            "_view_name": "VBoxView",
            "box_style": "",
            "children": [
              "IPY_MODEL_89c9b234fc7c4adb8be05a2e674eff7e",
              "IPY_MODEL_d8f3c20b0fe44b3fabc05f78361de0b3",
              "IPY_MODEL_6d07de2421c044a398b28aca5d4e4106"
            ],
            "layout": "IPY_MODEL_f0cd5700316347729799567599ff557d"
          }
        },
        "89c9b234fc7c4adb8be05a2e674eff7e": {
          "model_module": "@jupyter-widgets/controls",
          "model_name": "IntSliderModel",
          "model_module_version": "1.5.0",
          "state": {
            "_dom_classes": [],
            "_model_module": "@jupyter-widgets/controls",
            "_model_module_version": "1.5.0",
            "_model_name": "IntSliderModel",
            "_view_count": null,
            "_view_module": "@jupyter-widgets/controls",
            "_view_module_version": "1.5.0",
            "_view_name": "IntSliderView",
            "continuous_update": true,
            "description": "a",
            "description_tooltip": null,
            "disabled": false,
            "layout": "IPY_MODEL_56593b01d9104c0f9cb79e0222bcde50",
            "max": 3,
            "min": -1,
            "orientation": "horizontal",
            "readout": true,
            "readout_format": "d",
            "step": 1,
            "style": "IPY_MODEL_010c388e28ed4e4580a0a8216d8dabef",
            "value": 1
          }
        },
        "d8f3c20b0fe44b3fabc05f78361de0b3": {
          "model_module": "@jupyter-widgets/controls",
          "model_name": "IntSliderModel",
          "model_module_version": "1.5.0",
          "state": {
            "_dom_classes": [],
            "_model_module": "@jupyter-widgets/controls",
            "_model_module_version": "1.5.0",
            "_model_name": "IntSliderModel",
            "_view_count": null,
            "_view_module": "@jupyter-widgets/controls",
            "_view_module_version": "1.5.0",
            "_view_name": "IntSliderView",
            "continuous_update": true,
            "description": "b",
            "description_tooltip": null,
            "disabled": false,
            "layout": "IPY_MODEL_6ae812ccae6246b5b2ca75aca48cbb8e",
            "max": 9,
            "min": -3,
            "orientation": "horizontal",
            "readout": true,
            "readout_format": "d",
            "step": 1,
            "style": "IPY_MODEL_ffc2c77b5c0640daa30bcfb0411c5a34",
            "value": 3
          }
        },
        "6d07de2421c044a398b28aca5d4e4106": {
          "model_module": "@jupyter-widgets/output",
          "model_name": "OutputModel",
          "model_module_version": "1.0.0",
          "state": {
            "_dom_classes": [],
            "_model_module": "@jupyter-widgets/output",
            "_model_module_version": "1.0.0",
            "_model_name": "OutputModel",
            "_view_count": null,
            "_view_module": "@jupyter-widgets/output",
            "_view_module_version": "1.0.0",
            "_view_name": "OutputView",
            "layout": "IPY_MODEL_e4050bb33385459ea70e82045fcf4b09",
            "msg_id": "",
            "outputs": [
              {
                "output_type": "display_data",
                "data": {
                  "text/plain": "<Figure size 640x480 with 1 Axes>",
                  "image/png": "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\n"
                },
                "metadata": {}
              }
            ]
          }
        },
        "f0cd5700316347729799567599ff557d": {
          "model_module": "@jupyter-widgets/base",
          "model_name": "LayoutModel",
          "model_module_version": "1.2.0",
          "state": {
            "_model_module": "@jupyter-widgets/base",
            "_model_module_version": "1.2.0",
            "_model_name": "LayoutModel",
            "_view_count": null,
            "_view_module": "@jupyter-widgets/base",
            "_view_module_version": "1.2.0",
            "_view_name": "LayoutView",
            "align_content": null,
            "align_items": null,
            "align_self": null,
            "border": null,
            "bottom": null,
            "display": null,
            "flex": null,
            "flex_flow": null,
            "grid_area": null,
            "grid_auto_columns": null,
            "grid_auto_flow": null,
            "grid_auto_rows": null,
            "grid_column": null,
            "grid_gap": null,
            "grid_row": null,
            "grid_template_areas": null,
            "grid_template_columns": null,
            "grid_template_rows": null,
            "height": null,
            "justify_content": null,
            "justify_items": null,
            "left": null,
            "margin": null,
            "max_height": null,
            "max_width": null,
            "min_height": null,
            "min_width": null,
            "object_fit": null,
            "object_position": null,
            "order": null,
            "overflow": null,
            "overflow_x": null,
            "overflow_y": null,
            "padding": null,
            "right": null,
            "top": null,
            "visibility": null,
            "width": null
          }
        },
        "56593b01d9104c0f9cb79e0222bcde50": {
          "model_module": "@jupyter-widgets/base",
          "model_name": "LayoutModel",
          "model_module_version": "1.2.0",
          "state": {
            "_model_module": "@jupyter-widgets/base",
            "_model_module_version": "1.2.0",
            "_model_name": "LayoutModel",
            "_view_count": null,
            "_view_module": "@jupyter-widgets/base",
            "_view_module_version": "1.2.0",
            "_view_name": "LayoutView",
            "align_content": null,
            "align_items": null,
            "align_self": null,
            "border": null,
            "bottom": null,
            "display": null,
            "flex": null,
            "flex_flow": null,
            "grid_area": null,
            "grid_auto_columns": null,
            "grid_auto_flow": null,
            "grid_auto_rows": null,
            "grid_column": null,
            "grid_gap": null,
            "grid_row": null,
            "grid_template_areas": null,
            "grid_template_columns": null,
            "grid_template_rows": null,
            "height": null,
            "justify_content": null,
            "justify_items": null,
            "left": null,
            "margin": null,
            "max_height": null,
            "max_width": null,
            "min_height": null,
            "min_width": null,
            "object_fit": null,
            "object_position": null,
            "order": null,
            "overflow": null,
            "overflow_x": null,
            "overflow_y": null,
            "padding": null,
            "right": null,
            "top": null,
            "visibility": null,
            "width": null
          }
        },
        "010c388e28ed4e4580a0a8216d8dabef": {
          "model_module": "@jupyter-widgets/controls",
          "model_name": "SliderStyleModel",
          "model_module_version": "1.5.0",
          "state": {
            "_model_module": "@jupyter-widgets/controls",
            "_model_module_version": "1.5.0",
            "_model_name": "SliderStyleModel",
            "_view_count": null,
            "_view_module": "@jupyter-widgets/base",
            "_view_module_version": "1.2.0",
            "_view_name": "StyleView",
            "description_width": "",
            "handle_color": null
          }
        },
        "6ae812ccae6246b5b2ca75aca48cbb8e": {
          "model_module": "@jupyter-widgets/base",
          "model_name": "LayoutModel",
          "model_module_version": "1.2.0",
          "state": {
            "_model_module": "@jupyter-widgets/base",
            "_model_module_version": "1.2.0",
            "_model_name": "LayoutModel",
            "_view_count": null,
            "_view_module": "@jupyter-widgets/base",
            "_view_module_version": "1.2.0",
            "_view_name": "LayoutView",
            "align_content": null,
            "align_items": null,
            "align_self": null,
            "border": null,
            "bottom": null,
            "display": null,
            "flex": null,
            "flex_flow": null,
            "grid_area": null,
            "grid_auto_columns": null,
            "grid_auto_flow": null,
            "grid_auto_rows": null,
            "grid_column": null,
            "grid_gap": null,
            "grid_row": null,
            "grid_template_areas": null,
            "grid_template_columns": null,
            "grid_template_rows": null,
            "height": null,
            "justify_content": null,
            "justify_items": null,
            "left": null,
            "margin": null,
            "max_height": null,
            "max_width": null,
            "min_height": null,
            "min_width": null,
            "object_fit": null,
            "object_position": null,
            "order": null,
            "overflow": null,
            "overflow_x": null,
            "overflow_y": null,
            "padding": null,
            "right": null,
            "top": null,
            "visibility": null,
            "width": null
          }
        },
        "ffc2c77b5c0640daa30bcfb0411c5a34": {
          "model_module": "@jupyter-widgets/controls",
          "model_name": "SliderStyleModel",
          "model_module_version": "1.5.0",
          "state": {
            "_model_module": "@jupyter-widgets/controls",
            "_model_module_version": "1.5.0",
            "_model_name": "SliderStyleModel",
            "_view_count": null,
            "_view_module": "@jupyter-widgets/base",
            "_view_module_version": "1.2.0",
            "_view_name": "StyleView",
            "description_width": "",
            "handle_color": null
          }
        },
        "e4050bb33385459ea70e82045fcf4b09": {
          "model_module": "@jupyter-widgets/base",
          "model_name": "LayoutModel",
          "model_module_version": "1.2.0",
          "state": {
            "_model_module": "@jupyter-widgets/base",
            "_model_module_version": "1.2.0",
            "_model_name": "LayoutModel",
            "_view_count": null,
            "_view_module": "@jupyter-widgets/base",
            "_view_module_version": "1.2.0",
            "_view_name": "LayoutView",
            "align_content": null,
            "align_items": null,
            "align_self": null,
            "border": null,
            "bottom": null,
            "display": null,
            "flex": null,
            "flex_flow": null,
            "grid_area": null,
            "grid_auto_columns": null,
            "grid_auto_flow": null,
            "grid_auto_rows": null,
            "grid_column": null,
            "grid_gap": null,
            "grid_row": null,
            "grid_template_areas": null,
            "grid_template_columns": null,
            "grid_template_rows": null,
            "height": null,
            "justify_content": null,
            "justify_items": null,
            "left": null,
            "margin": null,
            "max_height": null,
            "max_width": null,
            "min_height": null,
            "min_width": null,
            "object_fit": null,
            "object_position": null,
            "order": null,
            "overflow": null,
            "overflow_x": null,
            "overflow_y": null,
            "padding": null,
            "right": null,
            "top": null,
            "visibility": null,
            "width": null
          }
        },
        "c92338564e9b46dbb5b00ee04267eaff": {
          "model_module": "@jupyter-widgets/controls",
          "model_name": "VBoxModel",
          "model_module_version": "1.5.0",
          "state": {
            "_dom_classes": [
              "widget-interact"
            ],
            "_model_module": "@jupyter-widgets/controls",
            "_model_module_version": "1.5.0",
            "_model_name": "VBoxModel",
            "_view_count": null,
            "_view_module": "@jupyter-widgets/controls",
            "_view_module_version": "1.5.0",
            "_view_name": "VBoxView",
            "box_style": "",
            "children": [
              "IPY_MODEL_784d11875f574b1db5381f137965f8e0",
              "IPY_MODEL_4d116d7c935a41b7bbc0da5997775c65"
            ],
            "layout": "IPY_MODEL_23103afec1784bd98eb0e8ba65146187"
          }
        },
        "784d11875f574b1db5381f137965f8e0": {
          "model_module": "@jupyter-widgets/controls",
          "model_name": "IntSliderModel",
          "model_module_version": "1.5.0",
          "state": {
            "_dom_classes": [],
            "_model_module": "@jupyter-widgets/controls",
            "_model_module_version": "1.5.0",
            "_model_name": "IntSliderModel",
            "_view_count": null,
            "_view_module": "@jupyter-widgets/controls",
            "_view_module_version": "1.5.0",
            "_view_name": "IntSliderView",
            "continuous_update": true,
            "description": "a",
            "description_tooltip": null,
            "disabled": false,
            "layout": "IPY_MODEL_a899bf1aa82a4f378de4597fa2a6ec79",
            "max": 3,
            "min": -1,
            "orientation": "horizontal",
            "readout": true,
            "readout_format": "d",
            "step": 1,
            "style": "IPY_MODEL_b555531a99984af2874bb8485d29ec12",
            "value": 1
          }
        },
        "4d116d7c935a41b7bbc0da5997775c65": {
          "model_module": "@jupyter-widgets/output",
          "model_name": "OutputModel",
          "model_module_version": "1.0.0",
          "state": {
            "_dom_classes": [],
            "_model_module": "@jupyter-widgets/output",
            "_model_module_version": "1.0.0",
            "_model_name": "OutputModel",
            "_view_count": null,
            "_view_module": "@jupyter-widgets/output",
            "_view_module_version": "1.0.0",
            "_view_name": "OutputView",
            "layout": "IPY_MODEL_2b11d6e836a04b4784ca0cd0d3bb09bf",
            "msg_id": "",
            "outputs": [
              {
                "output_type": "display_data",
                "data": {
                  "text/plain": "<Figure size 640x480 with 1 Axes>",
                  "image/png": "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\n"
                },
                "metadata": {}
              }
            ]
          }
        },
        "23103afec1784bd98eb0e8ba65146187": {
          "model_module": "@jupyter-widgets/base",
          "model_name": "LayoutModel",
          "model_module_version": "1.2.0",
          "state": {
            "_model_module": "@jupyter-widgets/base",
            "_model_module_version": "1.2.0",
            "_model_name": "LayoutModel",
            "_view_count": null,
            "_view_module": "@jupyter-widgets/base",
            "_view_module_version": "1.2.0",
            "_view_name": "LayoutView",
            "align_content": null,
            "align_items": null,
            "align_self": null,
            "border": null,
            "bottom": null,
            "display": null,
            "flex": null,
            "flex_flow": null,
            "grid_area": null,
            "grid_auto_columns": null,
            "grid_auto_flow": null,
            "grid_auto_rows": null,
            "grid_column": null,
            "grid_gap": null,
            "grid_row": null,
            "grid_template_areas": null,
            "grid_template_columns": null,
            "grid_template_rows": null,
            "height": null,
            "justify_content": null,
            "justify_items": null,
            "left": null,
            "margin": null,
            "max_height": null,
            "max_width": null,
            "min_height": null,
            "min_width": null,
            "object_fit": null,
            "object_position": null,
            "order": null,
            "overflow": null,
            "overflow_x": null,
            "overflow_y": null,
            "padding": null,
            "right": null,
            "top": null,
            "visibility": null,
            "width": null
          }
        },
        "a899bf1aa82a4f378de4597fa2a6ec79": {
          "model_module": "@jupyter-widgets/base",
          "model_name": "LayoutModel",
          "model_module_version": "1.2.0",
          "state": {
            "_model_module": "@jupyter-widgets/base",
            "_model_module_version": "1.2.0",
            "_model_name": "LayoutModel",
            "_view_count": null,
            "_view_module": "@jupyter-widgets/base",
            "_view_module_version": "1.2.0",
            "_view_name": "LayoutView",
            "align_content": null,
            "align_items": null,
            "align_self": null,
            "border": null,
            "bottom": null,
            "display": null,
            "flex": null,
            "flex_flow": null,
            "grid_area": null,
            "grid_auto_columns": null,
            "grid_auto_flow": null,
            "grid_auto_rows": null,
            "grid_column": null,
            "grid_gap": null,
            "grid_row": null,
            "grid_template_areas": null,
            "grid_template_columns": null,
            "grid_template_rows": null,
            "height": null,
            "justify_content": null,
            "justify_items": null,
            "left": null,
            "margin": null,
            "max_height": null,
            "max_width": null,
            "min_height": null,
            "min_width": null,
            "object_fit": null,
            "object_position": null,
            "order": null,
            "overflow": null,
            "overflow_x": null,
            "overflow_y": null,
            "padding": null,
            "right": null,
            "top": null,
            "visibility": null,
            "width": null
          }
        },
        "b555531a99984af2874bb8485d29ec12": {
          "model_module": "@jupyter-widgets/controls",
          "model_name": "SliderStyleModel",
          "model_module_version": "1.5.0",
          "state": {
            "_model_module": "@jupyter-widgets/controls",
            "_model_module_version": "1.5.0",
            "_model_name": "SliderStyleModel",
            "_view_count": null,
            "_view_module": "@jupyter-widgets/base",
            "_view_module_version": "1.2.0",
            "_view_name": "StyleView",
            "description_width": "",
            "handle_color": null
          }
        },
        "2b11d6e836a04b4784ca0cd0d3bb09bf": {
          "model_module": "@jupyter-widgets/base",
          "model_name": "LayoutModel",
          "model_module_version": "1.2.0",
          "state": {
            "_model_module": "@jupyter-widgets/base",
            "_model_module_version": "1.2.0",
            "_model_name": "LayoutModel",
            "_view_count": null,
            "_view_module": "@jupyter-widgets/base",
            "_view_module_version": "1.2.0",
            "_view_name": "LayoutView",
            "align_content": null,
            "align_items": null,
            "align_self": null,
            "border": null,
            "bottom": null,
            "display": null,
            "flex": null,
            "flex_flow": null,
            "grid_area": null,
            "grid_auto_columns": null,
            "grid_auto_flow": null,
            "grid_auto_rows": null,
            "grid_column": null,
            "grid_gap": null,
            "grid_row": null,
            "grid_template_areas": null,
            "grid_template_columns": null,
            "grid_template_rows": null,
            "height": null,
            "justify_content": null,
            "justify_items": null,
            "left": null,
            "margin": null,
            "max_height": null,
            "max_width": null,
            "min_height": null,
            "min_width": null,
            "object_fit": null,
            "object_position": null,
            "order": null,
            "overflow": null,
            "overflow_x": null,
            "overflow_y": null,
            "padding": null,
            "right": null,
            "top": null,
            "visibility": null,
            "width": null
          }
        },
        "c754114211b9488fa438f6ebaf693a59": {
          "model_module": "@jupyter-widgets/controls",
          "model_name": "VBoxModel",
          "model_module_version": "1.5.0",
          "state": {
            "_dom_classes": [
              "widget-interact"
            ],
            "_model_module": "@jupyter-widgets/controls",
            "_model_module_version": "1.5.0",
            "_model_name": "VBoxModel",
            "_view_count": null,
            "_view_module": "@jupyter-widgets/controls",
            "_view_module_version": "1.5.0",
            "_view_name": "VBoxView",
            "box_style": "",
            "children": [
              "IPY_MODEL_f707ab5f86c24ca9bd2e028bb3dd7c88",
              "IPY_MODEL_5050c15e5bb64b5fb4c8a41c3ee787ca"
            ],
            "layout": "IPY_MODEL_23e2b229b88249f4862b27dca9f72a77"
          }
        },
        "f707ab5f86c24ca9bd2e028bb3dd7c88": {
          "model_module": "@jupyter-widgets/controls",
          "model_name": "IntSliderModel",
          "model_module_version": "1.5.0",
          "state": {
            "_dom_classes": [],
            "_model_module": "@jupyter-widgets/controls",
            "_model_module_version": "1.5.0",
            "_model_name": "IntSliderModel",
            "_view_count": null,
            "_view_module": "@jupyter-widgets/controls",
            "_view_module_version": "1.5.0",
            "_view_name": "IntSliderView",
            "continuous_update": true,
            "description": "a",
            "description_tooltip": null,
            "disabled": false,
            "layout": "IPY_MODEL_5e8f2d1ff2d541e7bd34900a10a39e37",
            "max": 3,
            "min": -1,
            "orientation": "horizontal",
            "readout": true,
            "readout_format": "d",
            "step": 1,
            "style": "IPY_MODEL_4a9c8bac8caf450880d146441b44af17",
            "value": 1
          }
        },
        "5050c15e5bb64b5fb4c8a41c3ee787ca": {
          "model_module": "@jupyter-widgets/output",
          "model_name": "OutputModel",
          "model_module_version": "1.0.0",
          "state": {
            "_dom_classes": [],
            "_model_module": "@jupyter-widgets/output",
            "_model_module_version": "1.0.0",
            "_model_name": "OutputModel",
            "_view_count": null,
            "_view_module": "@jupyter-widgets/output",
            "_view_module_version": "1.0.0",
            "_view_name": "OutputView",
            "layout": "IPY_MODEL_3946fc47aef0473b9f18fdc7728300bd",
            "msg_id": "",
            "outputs": [
              {
                "output_type": "display_data",
                "data": {
                  "text/plain": "<Figure size 640x480 with 1 Axes>",
                  "image/png": "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\n"
                },
                "metadata": {}
              }
            ]
          }
        },
        "23e2b229b88249f4862b27dca9f72a77": {
          "model_module": "@jupyter-widgets/base",
          "model_name": "LayoutModel",
          "model_module_version": "1.2.0",
          "state": {
            "_model_module": "@jupyter-widgets/base",
            "_model_module_version": "1.2.0",
            "_model_name": "LayoutModel",
            "_view_count": null,
            "_view_module": "@jupyter-widgets/base",
            "_view_module_version": "1.2.0",
            "_view_name": "LayoutView",
            "align_content": null,
            "align_items": null,
            "align_self": null,
            "border": null,
            "bottom": null,
            "display": null,
            "flex": null,
            "flex_flow": null,
            "grid_area": null,
            "grid_auto_columns": null,
            "grid_auto_flow": null,
            "grid_auto_rows": null,
            "grid_column": null,
            "grid_gap": null,
            "grid_row": null,
            "grid_template_areas": null,
            "grid_template_columns": null,
            "grid_template_rows": null,
            "height": null,
            "justify_content": null,
            "justify_items": null,
            "left": null,
            "margin": null,
            "max_height": null,
            "max_width": null,
            "min_height": null,
            "min_width": null,
            "object_fit": null,
            "object_position": null,
            "order": null,
            "overflow": null,
            "overflow_x": null,
            "overflow_y": null,
            "padding": null,
            "right": null,
            "top": null,
            "visibility": null,
            "width": null
          }
        },
        "5e8f2d1ff2d541e7bd34900a10a39e37": {
          "model_module": "@jupyter-widgets/base",
          "model_name": "LayoutModel",
          "model_module_version": "1.2.0",
          "state": {
            "_model_module": "@jupyter-widgets/base",
            "_model_module_version": "1.2.0",
            "_model_name": "LayoutModel",
            "_view_count": null,
            "_view_module": "@jupyter-widgets/base",
            "_view_module_version": "1.2.0",
            "_view_name": "LayoutView",
            "align_content": null,
            "align_items": null,
            "align_self": null,
            "border": null,
            "bottom": null,
            "display": null,
            "flex": null,
            "flex_flow": null,
            "grid_area": null,
            "grid_auto_columns": null,
            "grid_auto_flow": null,
            "grid_auto_rows": null,
            "grid_column": null,
            "grid_gap": null,
            "grid_row": null,
            "grid_template_areas": null,
            "grid_template_columns": null,
            "grid_template_rows": null,
            "height": null,
            "justify_content": null,
            "justify_items": null,
            "left": null,
            "margin": null,
            "max_height": null,
            "max_width": null,
            "min_height": null,
            "min_width": null,
            "object_fit": null,
            "object_position": null,
            "order": null,
            "overflow": null,
            "overflow_x": null,
            "overflow_y": null,
            "padding": null,
            "right": null,
            "top": null,
            "visibility": null,
            "width": null
          }
        },
        "4a9c8bac8caf450880d146441b44af17": {
          "model_module": "@jupyter-widgets/controls",
          "model_name": "SliderStyleModel",
          "model_module_version": "1.5.0",
          "state": {
            "_model_module": "@jupyter-widgets/controls",
            "_model_module_version": "1.5.0",
            "_model_name": "SliderStyleModel",
            "_view_count": null,
            "_view_module": "@jupyter-widgets/base",
            "_view_module_version": "1.2.0",
            "_view_name": "StyleView",
            "description_width": "",
            "handle_color": null
          }
        },
        "3946fc47aef0473b9f18fdc7728300bd": {
          "model_module": "@jupyter-widgets/base",
          "model_name": "LayoutModel",
          "model_module_version": "1.2.0",
          "state": {
            "_model_module": "@jupyter-widgets/base",
            "_model_module_version": "1.2.0",
            "_model_name": "LayoutModel",
            "_view_count": null,
            "_view_module": "@jupyter-widgets/base",
            "_view_module_version": "1.2.0",
            "_view_name": "LayoutView",
            "align_content": null,
            "align_items": null,
            "align_self": null,
            "border": null,
            "bottom": null,
            "display": null,
            "flex": null,
            "flex_flow": null,
            "grid_area": null,
            "grid_auto_columns": null,
            "grid_auto_flow": null,
            "grid_auto_rows": null,
            "grid_column": null,
            "grid_gap": null,
            "grid_row": null,
            "grid_template_areas": null,
            "grid_template_columns": null,
            "grid_template_rows": null,
            "height": null,
            "justify_content": null,
            "justify_items": null,
            "left": null,
            "margin": null,
            "max_height": null,
            "max_width": null,
            "min_height": null,
            "min_width": null,
            "object_fit": null,
            "object_position": null,
            "order": null,
            "overflow": null,
            "overflow_x": null,
            "overflow_y": null,
            "padding": null,
            "right": null,
            "top": null,
            "visibility": null,
            "width": null
          }
        },
        "75afb66f7cfd4d859a2d14056466b22f": {
          "model_module": "@jupyter-widgets/controls",
          "model_name": "VBoxModel",
          "model_module_version": "1.5.0",
          "state": {
            "_dom_classes": [
              "widget-interact"
            ],
            "_model_module": "@jupyter-widgets/controls",
            "_model_module_version": "1.5.0",
            "_model_name": "VBoxModel",
            "_view_count": null,
            "_view_module": "@jupyter-widgets/controls",
            "_view_module_version": "1.5.0",
            "_view_name": "VBoxView",
            "box_style": "",
            "children": [
              "IPY_MODEL_883f19930a8f4b93a05a43a69e65431d",
              "IPY_MODEL_c576e7cb73e941e981fa1e35ba0cd367"
            ],
            "layout": "IPY_MODEL_a6e5faec87fc496097f50a5ecd0a8523"
          }
        },
        "883f19930a8f4b93a05a43a69e65431d": {
          "model_module": "@jupyter-widgets/controls",
          "model_name": "DropdownModel",
          "model_module_version": "1.5.0",
          "state": {
            "_dom_classes": [],
            "_model_module": "@jupyter-widgets/controls",
            "_model_module_version": "1.5.0",
            "_model_name": "DropdownModel",
            "_options_labels": [
              "Red",
              "Blue",
              "Green"
            ],
            "_view_count": null,
            "_view_module": "@jupyter-widgets/controls",
            "_view_module_version": "1.5.0",
            "_view_name": "DropdownView",
            "description": "color",
            "description_tooltip": null,
            "disabled": false,
            "index": 0,
            "layout": "IPY_MODEL_9f0aeb04c4a04602a9783b109df3c2b2",
            "style": "IPY_MODEL_9daeed1e32fd4b24b0dc538ac38aad0f"
          }
        },
        "c576e7cb73e941e981fa1e35ba0cd367": {
          "model_module": "@jupyter-widgets/output",
          "model_name": "OutputModel",
          "model_module_version": "1.0.0",
          "state": {
            "_dom_classes": [],
            "_model_module": "@jupyter-widgets/output",
            "_model_module_version": "1.0.0",
            "_model_name": "OutputModel",
            "_view_count": null,
            "_view_module": "@jupyter-widgets/output",
            "_view_module_version": "1.0.0",
            "_view_name": "OutputView",
            "layout": "IPY_MODEL_c52f210a2f4044c5830887b091774fd9",
            "msg_id": "",
            "outputs": [
              {
                "output_type": "display_data",
                "data": {
                  "text/plain": "<Figure size 640x480 with 1 Axes>",
                  "image/png": "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\n"
                },
                "metadata": {}
              }
            ]
          }
        },
        "a6e5faec87fc496097f50a5ecd0a8523": {
          "model_module": "@jupyter-widgets/base",
          "model_name": "LayoutModel",
          "model_module_version": "1.2.0",
          "state": {
            "_model_module": "@jupyter-widgets/base",
            "_model_module_version": "1.2.0",
            "_model_name": "LayoutModel",
            "_view_count": null,
            "_view_module": "@jupyter-widgets/base",
            "_view_module_version": "1.2.0",
            "_view_name": "LayoutView",
            "align_content": null,
            "align_items": null,
            "align_self": null,
            "border": null,
            "bottom": null,
            "display": null,
            "flex": null,
            "flex_flow": null,
            "grid_area": null,
            "grid_auto_columns": null,
            "grid_auto_flow": null,
            "grid_auto_rows": null,
            "grid_column": null,
            "grid_gap": null,
            "grid_row": null,
            "grid_template_areas": null,
            "grid_template_columns": null,
            "grid_template_rows": null,
            "height": null,
            "justify_content": null,
            "justify_items": null,
            "left": null,
            "margin": null,
            "max_height": null,
            "max_width": null,
            "min_height": null,
            "min_width": null,
            "object_fit": null,
            "object_position": null,
            "order": null,
            "overflow": null,
            "overflow_x": null,
            "overflow_y": null,
            "padding": null,
            "right": null,
            "top": null,
            "visibility": null,
            "width": null
          }
        },
        "9f0aeb04c4a04602a9783b109df3c2b2": {
          "model_module": "@jupyter-widgets/base",
          "model_name": "LayoutModel",
          "model_module_version": "1.2.0",
          "state": {
            "_model_module": "@jupyter-widgets/base",
            "_model_module_version": "1.2.0",
            "_model_name": "LayoutModel",
            "_view_count": null,
            "_view_module": "@jupyter-widgets/base",
            "_view_module_version": "1.2.0",
            "_view_name": "LayoutView",
            "align_content": null,
            "align_items": null,
            "align_self": null,
            "border": null,
            "bottom": null,
            "display": null,
            "flex": null,
            "flex_flow": null,
            "grid_area": null,
            "grid_auto_columns": null,
            "grid_auto_flow": null,
            "grid_auto_rows": null,
            "grid_column": null,
            "grid_gap": null,
            "grid_row": null,
            "grid_template_areas": null,
            "grid_template_columns": null,
            "grid_template_rows": null,
            "height": null,
            "justify_content": null,
            "justify_items": null,
            "left": null,
            "margin": null,
            "max_height": null,
            "max_width": null,
            "min_height": null,
            "min_width": null,
            "object_fit": null,
            "object_position": null,
            "order": null,
            "overflow": null,
            "overflow_x": null,
            "overflow_y": null,
            "padding": null,
            "right": null,
            "top": null,
            "visibility": null,
            "width": null
          }
        },
        "9daeed1e32fd4b24b0dc538ac38aad0f": {
          "model_module": "@jupyter-widgets/controls",
          "model_name": "DescriptionStyleModel",
          "model_module_version": "1.5.0",
          "state": {
            "_model_module": "@jupyter-widgets/controls",
            "_model_module_version": "1.5.0",
            "_model_name": "DescriptionStyleModel",
            "_view_count": null,
            "_view_module": "@jupyter-widgets/base",
            "_view_module_version": "1.2.0",
            "_view_name": "StyleView",
            "description_width": ""
          }
        },
        "c52f210a2f4044c5830887b091774fd9": {
          "model_module": "@jupyter-widgets/base",
          "model_name": "LayoutModel",
          "model_module_version": "1.2.0",
          "state": {
            "_model_module": "@jupyter-widgets/base",
            "_model_module_version": "1.2.0",
            "_model_name": "LayoutModel",
            "_view_count": null,
            "_view_module": "@jupyter-widgets/base",
            "_view_module_version": "1.2.0",
            "_view_name": "LayoutView",
            "align_content": null,
            "align_items": null,
            "align_self": null,
            "border": null,
            "bottom": null,
            "display": null,
            "flex": null,
            "flex_flow": null,
            "grid_area": null,
            "grid_auto_columns": null,
            "grid_auto_flow": null,
            "grid_auto_rows": null,
            "grid_column": null,
            "grid_gap": null,
            "grid_row": null,
            "grid_template_areas": null,
            "grid_template_columns": null,
            "grid_template_rows": null,
            "height": null,
            "justify_content": null,
            "justify_items": null,
            "left": null,
            "margin": null,
            "max_height": null,
            "max_width": null,
            "min_height": null,
            "min_width": null,
            "object_fit": null,
            "object_position": null,
            "order": null,
            "overflow": null,
            "overflow_x": null,
            "overflow_y": null,
            "padding": null,
            "right": null,
            "top": null,
            "visibility": null,
            "width": null
          }
        },
        "fa0ea6f544a14e5080a36bf5b725dea4": {
          "model_module": "@jupyter-widgets/controls",
          "model_name": "VBoxModel",
          "model_module_version": "1.5.0",
          "state": {
            "_dom_classes": [
              "widget-interact"
            ],
            "_model_module": "@jupyter-widgets/controls",
            "_model_module_version": "1.5.0",
            "_model_name": "VBoxModel",
            "_view_count": null,
            "_view_module": "@jupyter-widgets/controls",
            "_view_module_version": "1.5.0",
            "_view_name": "VBoxView",
            "box_style": "",
            "children": [
              "IPY_MODEL_25ca36c344ff421b822958345c6c9e58",
              "IPY_MODEL_14f57dc5d4f24198849163c765c10998"
            ],
            "layout": "IPY_MODEL_6420fc8bc15e40979866a51d97790977"
          }
        },
        "25ca36c344ff421b822958345c6c9e58": {
          "model_module": "@jupyter-widgets/controls",
          "model_name": "DropdownModel",
          "model_module_version": "1.5.0",
          "state": {
            "_dom_classes": [],
            "_model_module": "@jupyter-widgets/controls",
            "_model_module_version": "1.5.0",
            "_model_name": "DropdownModel",
            "_options_labels": [
              "One",
              "Two",
              "Three"
            ],
            "_view_count": null,
            "_view_module": "@jupyter-widgets/controls",
            "_view_module_version": "1.5.0",
            "_view_name": "DropdownView",
            "description": "b",
            "description_tooltip": null,
            "disabled": false,
            "index": 0,
            "layout": "IPY_MODEL_adb260978add400c9ff1fdcd6deb11c7",
            "style": "IPY_MODEL_506d7edafc6e4201b29545e2ab9f6592"
          }
        },
        "14f57dc5d4f24198849163c765c10998": {
          "model_module": "@jupyter-widgets/output",
          "model_name": "OutputModel",
          "model_module_version": "1.0.0",
          "state": {
            "_dom_classes": [],
            "_model_module": "@jupyter-widgets/output",
            "_model_module_version": "1.0.0",
            "_model_name": "OutputModel",
            "_view_count": null,
            "_view_module": "@jupyter-widgets/output",
            "_view_module_version": "1.0.0",
            "_view_name": "OutputView",
            "layout": "IPY_MODEL_da20f9752b2e4154941c92242fe163ed",
            "msg_id": "",
            "outputs": [
              {
                "output_type": "display_data",
                "data": {
                  "text/plain": "<Figure size 640x480 with 1 Axes>",
                  "image/png": "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\n"
                },
                "metadata": {}
              }
            ]
          }
        },
        "6420fc8bc15e40979866a51d97790977": {
          "model_module": "@jupyter-widgets/base",
          "model_name": "LayoutModel",
          "model_module_version": "1.2.0",
          "state": {
            "_model_module": "@jupyter-widgets/base",
            "_model_module_version": "1.2.0",
            "_model_name": "LayoutModel",
            "_view_count": null,
            "_view_module": "@jupyter-widgets/base",
            "_view_module_version": "1.2.0",
            "_view_name": "LayoutView",
            "align_content": null,
            "align_items": null,
            "align_self": null,
            "border": null,
            "bottom": null,
            "display": null,
            "flex": null,
            "flex_flow": null,
            "grid_area": null,
            "grid_auto_columns": null,
            "grid_auto_flow": null,
            "grid_auto_rows": null,
            "grid_column": null,
            "grid_gap": null,
            "grid_row": null,
            "grid_template_areas": null,
            "grid_template_columns": null,
            "grid_template_rows": null,
            "height": null,
            "justify_content": null,
            "justify_items": null,
            "left": null,
            "margin": null,
            "max_height": null,
            "max_width": null,
            "min_height": null,
            "min_width": null,
            "object_fit": null,
            "object_position": null,
            "order": null,
            "overflow": null,
            "overflow_x": null,
            "overflow_y": null,
            "padding": null,
            "right": null,
            "top": null,
            "visibility": null,
            "width": null
          }
        },
        "adb260978add400c9ff1fdcd6deb11c7": {
          "model_module": "@jupyter-widgets/base",
          "model_name": "LayoutModel",
          "model_module_version": "1.2.0",
          "state": {
            "_model_module": "@jupyter-widgets/base",
            "_model_module_version": "1.2.0",
            "_model_name": "LayoutModel",
            "_view_count": null,
            "_view_module": "@jupyter-widgets/base",
            "_view_module_version": "1.2.0",
            "_view_name": "LayoutView",
            "align_content": null,
            "align_items": null,
            "align_self": null,
            "border": null,
            "bottom": null,
            "display": null,
            "flex": null,
            "flex_flow": null,
            "grid_area": null,
            "grid_auto_columns": null,
            "grid_auto_flow": null,
            "grid_auto_rows": null,
            "grid_column": null,
            "grid_gap": null,
            "grid_row": null,
            "grid_template_areas": null,
            "grid_template_columns": null,
            "grid_template_rows": null,
            "height": null,
            "justify_content": null,
            "justify_items": null,
            "left": null,
            "margin": null,
            "max_height": null,
            "max_width": null,
            "min_height": null,
            "min_width": null,
            "object_fit": null,
            "object_position": null,
            "order": null,
            "overflow": null,
            "overflow_x": null,
            "overflow_y": null,
            "padding": null,
            "right": null,
            "top": null,
            "visibility": null,
            "width": null
          }
        },
        "506d7edafc6e4201b29545e2ab9f6592": {
          "model_module": "@jupyter-widgets/controls",
          "model_name": "DescriptionStyleModel",
          "model_module_version": "1.5.0",
          "state": {
            "_model_module": "@jupyter-widgets/controls",
            "_model_module_version": "1.5.0",
            "_model_name": "DescriptionStyleModel",
            "_view_count": null,
            "_view_module": "@jupyter-widgets/base",
            "_view_module_version": "1.2.0",
            "_view_name": "StyleView",
            "description_width": ""
          }
        },
        "da20f9752b2e4154941c92242fe163ed": {
          "model_module": "@jupyter-widgets/base",
          "model_name": "LayoutModel",
          "model_module_version": "1.2.0",
          "state": {
            "_model_module": "@jupyter-widgets/base",
            "_model_module_version": "1.2.0",
            "_model_name": "LayoutModel",
            "_view_count": null,
            "_view_module": "@jupyter-widgets/base",
            "_view_module_version": "1.2.0",
            "_view_name": "LayoutView",
            "align_content": null,
            "align_items": null,
            "align_self": null,
            "border": null,
            "bottom": null,
            "display": null,
            "flex": null,
            "flex_flow": null,
            "grid_area": null,
            "grid_auto_columns": null,
            "grid_auto_flow": null,
            "grid_auto_rows": null,
            "grid_column": null,
            "grid_gap": null,
            "grid_row": null,
            "grid_template_areas": null,
            "grid_template_columns": null,
            "grid_template_rows": null,
            "height": null,
            "justify_content": null,
            "justify_items": null,
            "left": null,
            "margin": null,
            "max_height": null,
            "max_width": null,
            "min_height": null,
            "min_width": null,
            "object_fit": null,
            "object_position": null,
            "order": null,
            "overflow": null,
            "overflow_x": null,
            "overflow_y": null,
            "padding": null,
            "right": null,
            "top": null,
            "visibility": null,
            "width": null
          }
        },
        "1c427697b6fa45f1b1802686d6e5ddd8": {
          "model_module": "@jupyter-widgets/controls",
          "model_name": "VBoxModel",
          "model_module_version": "1.5.0",
          "state": {
            "_dom_classes": [
              "widget-interact"
            ],
            "_model_module": "@jupyter-widgets/controls",
            "_model_module_version": "1.5.0",
            "_model_name": "VBoxModel",
            "_view_count": null,
            "_view_module": "@jupyter-widgets/controls",
            "_view_module_version": "1.5.0",
            "_view_name": "VBoxView",
            "box_style": "",
            "children": [
              "IPY_MODEL_f2516f7d048f4889a26184e217e44365",
              "IPY_MODEL_5814eac254ce44f98922d8c7cd490ad6"
            ],
            "layout": "IPY_MODEL_46af9915ed11497b9f4cd0c0d2ff75dd"
          }
        },
        "f2516f7d048f4889a26184e217e44365": {
          "model_module": "@jupyter-widgets/controls",
          "model_name": "DropdownModel",
          "model_module_version": "1.5.0",
          "state": {
            "_dom_classes": [],
            "_model_module": "@jupyter-widgets/controls",
            "_model_module_version": "1.5.0",
            "_model_name": "DropdownModel",
            "_options_labels": [
              "Vermelho",
              "Azul",
              "Verde"
            ],
            "_view_count": null,
            "_view_module": "@jupyter-widgets/controls",
            "_view_module_version": "1.5.0",
            "_view_name": "DropdownView",
            "description": "color",
            "description_tooltip": null,
            "disabled": false,
            "index": 0,
            "layout": "IPY_MODEL_de0ff13451294d439972784db95e7822",
            "style": "IPY_MODEL_d009058b8d0b4348a9610d05c9958dfb"
          }
        },
        "5814eac254ce44f98922d8c7cd490ad6": {
          "model_module": "@jupyter-widgets/output",
          "model_name": "OutputModel",
          "model_module_version": "1.0.0",
          "state": {
            "_dom_classes": [],
            "_model_module": "@jupyter-widgets/output",
            "_model_module_version": "1.0.0",
            "_model_name": "OutputModel",
            "_view_count": null,
            "_view_module": "@jupyter-widgets/output",
            "_view_module_version": "1.0.0",
            "_view_name": "OutputView",
            "layout": "IPY_MODEL_c2f17325421f4491960ea66141cd2fdf",
            "msg_id": "",
            "outputs": [
              {
                "output_type": "display_data",
                "data": {
                  "text/plain": "<Figure size 640x480 with 1 Axes>",
                  "image/png": "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\n"
                },
                "metadata": {}
              }
            ]
          }
        },
        "46af9915ed11497b9f4cd0c0d2ff75dd": {
          "model_module": "@jupyter-widgets/base",
          "model_name": "LayoutModel",
          "model_module_version": "1.2.0",
          "state": {
            "_model_module": "@jupyter-widgets/base",
            "_model_module_version": "1.2.0",
            "_model_name": "LayoutModel",
            "_view_count": null,
            "_view_module": "@jupyter-widgets/base",
            "_view_module_version": "1.2.0",
            "_view_name": "LayoutView",
            "align_content": null,
            "align_items": null,
            "align_self": null,
            "border": null,
            "bottom": null,
            "display": null,
            "flex": null,
            "flex_flow": null,
            "grid_area": null,
            "grid_auto_columns": null,
            "grid_auto_flow": null,
            "grid_auto_rows": null,
            "grid_column": null,
            "grid_gap": null,
            "grid_row": null,
            "grid_template_areas": null,
            "grid_template_columns": null,
            "grid_template_rows": null,
            "height": null,
            "justify_content": null,
            "justify_items": null,
            "left": null,
            "margin": null,
            "max_height": null,
            "max_width": null,
            "min_height": null,
            "min_width": null,
            "object_fit": null,
            "object_position": null,
            "order": null,
            "overflow": null,
            "overflow_x": null,
            "overflow_y": null,
            "padding": null,
            "right": null,
            "top": null,
            "visibility": null,
            "width": null
          }
        },
        "de0ff13451294d439972784db95e7822": {
          "model_module": "@jupyter-widgets/base",
          "model_name": "LayoutModel",
          "model_module_version": "1.2.0",
          "state": {
            "_model_module": "@jupyter-widgets/base",
            "_model_module_version": "1.2.0",
            "_model_name": "LayoutModel",
            "_view_count": null,
            "_view_module": "@jupyter-widgets/base",
            "_view_module_version": "1.2.0",
            "_view_name": "LayoutView",
            "align_content": null,
            "align_items": null,
            "align_self": null,
            "border": null,
            "bottom": null,
            "display": null,
            "flex": null,
            "flex_flow": null,
            "grid_area": null,
            "grid_auto_columns": null,
            "grid_auto_flow": null,
            "grid_auto_rows": null,
            "grid_column": null,
            "grid_gap": null,
            "grid_row": null,
            "grid_template_areas": null,
            "grid_template_columns": null,
            "grid_template_rows": null,
            "height": null,
            "justify_content": null,
            "justify_items": null,
            "left": null,
            "margin": null,
            "max_height": null,
            "max_width": null,
            "min_height": null,
            "min_width": null,
            "object_fit": null,
            "object_position": null,
            "order": null,
            "overflow": null,
            "overflow_x": null,
            "overflow_y": null,
            "padding": null,
            "right": null,
            "top": null,
            "visibility": null,
            "width": null
          }
        },
        "d009058b8d0b4348a9610d05c9958dfb": {
          "model_module": "@jupyter-widgets/controls",
          "model_name": "DescriptionStyleModel",
          "model_module_version": "1.5.0",
          "state": {
            "_model_module": "@jupyter-widgets/controls",
            "_model_module_version": "1.5.0",
            "_model_name": "DescriptionStyleModel",
            "_view_count": null,
            "_view_module": "@jupyter-widgets/base",
            "_view_module_version": "1.2.0",
            "_view_name": "StyleView",
            "description_width": ""
          }
        },
        "c2f17325421f4491960ea66141cd2fdf": {
          "model_module": "@jupyter-widgets/base",
          "model_name": "LayoutModel",
          "model_module_version": "1.2.0",
          "state": {
            "_model_module": "@jupyter-widgets/base",
            "_model_module_version": "1.2.0",
            "_model_name": "LayoutModel",
            "_view_count": null,
            "_view_module": "@jupyter-widgets/base",
            "_view_module_version": "1.2.0",
            "_view_name": "LayoutView",
            "align_content": null,
            "align_items": null,
            "align_self": null,
            "border": null,
            "bottom": null,
            "display": null,
            "flex": null,
            "flex_flow": null,
            "grid_area": null,
            "grid_auto_columns": null,
            "grid_auto_flow": null,
            "grid_auto_rows": null,
            "grid_column": null,
            "grid_gap": null,
            "grid_row": null,
            "grid_template_areas": null,
            "grid_template_columns": null,
            "grid_template_rows": null,
            "height": null,
            "justify_content": null,
            "justify_items": null,
            "left": null,
            "margin": null,
            "max_height": null,
            "max_width": null,
            "min_height": null,
            "min_width": null,
            "object_fit": null,
            "object_position": null,
            "order": null,
            "overflow": null,
            "overflow_x": null,
            "overflow_y": null,
            "padding": null,
            "right": null,
            "top": null,
            "visibility": null,
            "width": null
          }
        }
      }
    }
  },
  "cells": [
    {
      "cell_type": "markdown",
      "metadata": {
        "id": "view-in-github",
        "colab_type": "text"
      },
      "source": [
        "<a href=\"https://colab.research.google.com/github/JhonnyLimachi/Sigmoidal/blob/main/19_Criando_Intera%C3%A7%C3%B5es_com_os_Plots.ipynb\" target=\"_parent\"><img src=\"https://colab.research.google.com/assets/colab-badge.svg\" alt=\"Open In Colab\"/></a>"
      ]
    },
    {
      "cell_type": "markdown",
      "source": [
        "<img alt=\"Colaboratory logo\" width=\"15%\" src=\"https://raw.githubusercontent.com/carlosfab/escola-data-science/master/img/novo_logo_bg_claro.png\">\n",
        "\n",
        "#### **Data Science na Prática 4.0**\n",
        "*by [sigmoidal.ai](https://sigmoidal.ai)*\n",
        "\n",
        "---"
      ],
      "metadata": {
        "id": "SrHe6o3ggszJ"
      }
    },
    {
      "cell_type": "markdown",
      "source": [
        "Uma coisa muito interessante que podemos trazer para os nossos plots é a interatividade. Em muitos casos, ela pode ser essencial, e pode trazer resultados impressionantes para nosso projeto.\n",
        "\n",
        "Para isso, utilizaremos a biblioteca [ipywidgets](https://ipywidgets.readthedocs.io/en/latest/).\n",
        "\n",
        "\n",
        "O framework dos widgets é construído no *Comm Framework* (abreviação para comunicação, em inglês). O *Comm Framework* é um framework que permite que o kernel envie e receba mensagens em JSON do front end.\n",
        "\n",
        "<center><img src=\"https://ipywidgets.readthedocs.io/en/latest/_images/WidgetArch.png\" height=\"400px\"></center>\n",
        "\n",
        "A função `interact` (ipywidgets.interact) automaticamente cria uma interface de usuário com controles para explorar o código e os dados interativamente. Esse é o jeito mais fácil de começar widgets do IPython.\n",
        "\n",
        "No nível mais básico, o `interact` cria automaticamente um interface de usuário que controla os argumentos de uma função, e então chama a função com aqueles argumentos que você selecionou\u0010 através da UI.\n",
        "\n",
        "Portanto, para usar o `interact` você precisa definir uma função que queira explorar.\n",
        "\n",
        "<center><img src=\"https://ipywidgets.readthedocs.io/en/stable/_images/WidgetModelView.png\" height=\"400px\"></center>\n",
        "\n",
        "Para cada tipo de argumento passado para função, um tipo apropriado de widget é criado para fazer a interação, podendo ser um checkbox, slider, dropdown menu, etc.\n",
        "\n",
        "Vamos ver como isso funciona na prática."
      ],
      "metadata": {
        "id": "9ioRBjRCgwRT"
      }
    },
    {
      "cell_type": "code",
      "execution_count": 1,
      "metadata": {
        "colab": {
          "base_uri": "https://localhost:8080/"
        },
        "id": "WTdhLUfhfaDG",
        "outputId": "13c31675-3ded-4a7a-82ff-c326bf6d2099"
      },
      "outputs": [
        {
          "output_type": "stream",
          "name": "stdout",
          "text": [
            "\u001b[?25l     \u001b[90m━━━━━━━━━━━━━━━━━━━━━━━━━━━━━━━━━━━━━━━━\u001b[0m \u001b[32m0.0/1.6 MB\u001b[0m \u001b[31m?\u001b[0m eta \u001b[36m-:--:--\u001b[0m\r\u001b[2K     \u001b[91m━━\u001b[0m\u001b[90m╺\u001b[0m\u001b[90m━━━━━━━━━━━━━━━━━━━━━━━━━━━━━━━━━━━━━\u001b[0m \u001b[32m0.1/1.6 MB\u001b[0m \u001b[31m2.3 MB/s\u001b[0m eta \u001b[36m0:00:01\u001b[0m\r\u001b[2K     \u001b[91m━━━━━━━━━━━━━━━\u001b[0m\u001b[91m╸\u001b[0m\u001b[90m━━━━━━━━━━━━━━━━━━━━━━━━\u001b[0m \u001b[32m0.6/1.6 MB\u001b[0m \u001b[31m8.8 MB/s\u001b[0m eta \u001b[36m0:00:01\u001b[0m\r\u001b[2K     \u001b[91m━━━━━━━━━━━━━━━━━━━━━━━━━━━━━━━━\u001b[0m\u001b[90m╺\u001b[0m\u001b[90m━━━━━━━\u001b[0m \u001b[32m1.3/1.6 MB\u001b[0m \u001b[31m12.0 MB/s\u001b[0m eta \u001b[36m0:00:01\u001b[0m\r\u001b[2K     \u001b[91m━━━━━━━━━━━━━━━━━━━━━━━━━━━━━━━━━━━━━━━\u001b[0m\u001b[91m╸\u001b[0m \u001b[32m1.6/1.6 MB\u001b[0m \u001b[31m13.0 MB/s\u001b[0m eta \u001b[36m0:00:01\u001b[0m\r\u001b[2K     \u001b[90m━━━━━━━━━━━━━━━━━━━━━━━━━━━━━━━━━━━━━━━━\u001b[0m \u001b[32m1.6/1.6 MB\u001b[0m \u001b[31m10.7 MB/s\u001b[0m eta \u001b[36m0:00:00\u001b[0m\n",
            "\u001b[?25h"
          ]
        }
      ],
      "source": [
        "# instalando o pacote\n",
        "!pip install ipywidgets -q"
      ]
    },
    {
      "cell_type": "markdown",
      "source": [
        "A documentação instrui que o código abaixo seja utilizado para que essas interações estejam disponíveis em Jupyter Notebooks. Entretanto, no Colab isso não é necessário. Caso você vá realizar esse tipo de plot em um Noteb\u0010ook local, utilize a função abaixo, e tome por referência a documentação, em tudo que diferir de lá nesse notebook."
      ],
      "metadata": {
        "id": "bpC6h3gZg2a3"
      }
    },
    {
      "cell_type": "code",
      "source": [
        "# jupyter nbextension enable --py widgetsnbextension"
      ],
      "metadata": {
        "id": "T_rCPZNzg4qW"
      },
      "execution_count": 2,
      "outputs": []
    },
    {
      "cell_type": "markdown",
      "source": [
        "Uma vez instalados, precisamos importar os pacotes. Aqui, importaremos algumas funções específicas do pacote, e o pacote inteiro, para facilitar nosso código."
      ],
      "metadata": {
        "id": "XP_eZNCWh3DO"
      }
    },
    {
      "cell_type": "code",
      "source": [
        "# importando os pacotes necessários\n",
        "import numpy as np\n",
        "import pandas as pd\n",
        "import matplotlib.pyplot as plt\n",
        "from ipywidgets import interact, fixed, interact_manual\n",
        "import ipywidgets as widgets"
      ],
      "metadata": {
        "id": "DXNMn2MBh49_"
      },
      "execution_count": 3,
      "outputs": []
    },
    {
      "cell_type": "markdown",
      "source": [
        "Abaixo, vamos criar uma função normal. Aqui, podemos ver que ao chamar a função, passamos um parâmetro, que tomará o lugar de x. Podemos alterar esse valor, e rodar a função novamente, modificando o plot.\n",
        "\n",
        "Mas, com o `ipywidgets` nós conseguimos tornar esse processo mais fácil, por meio de uma UI interativa."
      ],
      "metadata": {
        "id": "U-aALufFh7IY"
      }
    },
    {
      "cell_type": "code",
      "source": [
        "# criando uma função\n",
        "def f(x):\n",
        "  plt.plot(np.arange(0,10), x*np.arange(0,10))\n",
        "  plt.ylim(-30,30)\n",
        "f(0)"
      ],
      "metadata": {
        "colab": {
          "base_uri": "https://localhost:8080/",
          "height": 435
        },
        "id": "1NKxrNN7h9hn",
        "outputId": "c44c62e7-b422-4b52-ffe4-c240d71f78ce"
      },
      "execution_count": 4,
      "outputs": [
        {
          "output_type": "display_data",
          "data": {
            "text/plain": [
              "<Figure size 640x480 with 1 Axes>"
            ],
            "image/png": "[encoded data removed]"
          },
          "metadata": {}
        }
      ]
    },
    {
      "cell_type": "markdown",
      "source": [
        "Para isso, vamos chamar a função que definimos anteriormente dentro da função interact do `ipywidget`.\n",
        "\n",
        "Vamos passar como argumento a função, e o range de parâmetros que x pode assumir. O primeiro valor será o mínimo, o segundo o máximo, e o terceiro seria nosso step.\n",
        "\n",
        "Com tudo definido, basta rodar e utilizar o slider criado. A biblioteca usar um slider, pois vê que estamos utilizando um `int`, então, entende que essa seria a melhor UI para o caso."
      ],
      "metadata": {
        "id": "Vdfvw41EiDZQ"
      }
    },
    {
      "cell_type": "code",
      "source": [
        "# muda o slope, sabendo que é um integer, ele sabe que é slider\n",
        "def f(x):\n",
        "  plt.clf()\n",
        "  plt.plot(np.arange(0,10), x*np.arange(0,10))\n",
        "  plt.ylim(-30,30)\n",
        "  plt.show()\n",
        "interact(f, x=(-5,10,1))\n"
      ],
      "metadata": {
        "colab": {
          "base_uri": "https://localhost:8080/",
          "height": 553,
          "referenced_widgets": [
            "110438dbd94e41cbacf5757ee15ca3df",
            "404b84238493473394eb4b720d668a66",
            "e7540c5a49ed48ad8f883a77e0f86ca3",
            "88410e69925245d9b188bfdca306e56e",
            "db158f37d833492f9112eddab5aed036",
            "df2202c15147484db0f852dbdc3167aa",
            "6cb1894c18c040d7b9c32fef9e6ce299"
          ]
        },
        "id": "Uzp7gXiwiN6e",
        "outputId": "12ee48a8-45ce-4185-8835-8edf6f269f3d"
      },
      "execution_count": 7,
      "outputs": [
        {
          "output_type": "display_data",
          "data": {
            "text/plain": [
              "interactive(children=(IntSlider(value=2, description='x', max=10, min=-5), Output()), _dom_classes=('widget-in…"
            ],
            "application/vnd.jupyter.widget-view+json": {
              "version_major": 2,
              "version_minor": 0,
              "model_id": "110438dbd94e41cbacf5757ee15ca3df"
            }
          },
          "metadata": {}
        },
        {
          "output_type": "execute_result",
          "data": {
            "text/plain": [
              "<function __main__.f(x)>"
            ],
            "text/html": [
              "<div style=\"max-width:800px; border: 1px solid var(--colab-border-color);\"><style>\n",
              "      pre.function-repr-contents {\n",
              "        overflow-x: auto;\n",
              "        padding: 8px 12px;\n",
              "        max-height: 500px;\n",
              "      }\n",
              "\n",
              "      pre.function-repr-contents.function-repr-contents-collapsed {\n",
              "        cursor: pointer;\n",
              "        max-height: 100px;\n",
              "      }\n",
              "    </style>\n",
              "    <pre style=\"white-space: initial; background:\n",
              "         var(--colab-secondary-surface-color); padding: 8px 12px;\n",
              "         border-bottom: 1px solid var(--colab-border-color);\"><b>f</b><br/>def f(x)</pre><pre class=\"function-repr-contents function-repr-contents-collapsed\" style=\"\"><a class=\"filepath\" style=\"display:none\" href=\"#\">/content/&lt;ipython-input-7-86080ba0b7d6&gt;</a>&lt;no docstring&gt;</pre></div>"
            ]
          },
          "metadata": {},
          "execution_count": 7
        }
      ]
    },
    {
      "cell_type": "markdown",
      "source": [
        "Se passarmos um `bool` como parâmetro para x, dentro do interact, ao invés de um slider, teremos um checkbox, onde a caixa preenchida seria True, e não preenchida, False."
      ],
      "metadata": {
        "id": "Xwv5e4h9iQRx"
      }
    },
    {
      "cell_type": "code",
      "source": [
        "# checkbox para booleanos#\n",
        "rands = np.random.rand(100)\n",
        "def f(x):\n",
        "  plt.clf()\n",
        "  if x:\n",
        "    plt.plot(rands, 'b')\n",
        "  else:\n",
        "    plt.plot(rands, 'r')\n",
        "  plt.show()\n",
        "interact(f, x=True)"
      ],
      "metadata": {
        "colab": {
          "base_uri": "https://localhost:8080/",
          "height": 548,
          "referenced_widgets": [
            "96d830fc7d9245adb5770768f6e872ba",
            "3e4e4d0032a94bdd83de7bae18e681ad",
            "f3f46d8e52504ca0ad47438076c8ec60",
            "329ab577cea348a5baa93881bfb28445",
            "6807d8abcbed4254bed26062bcdb7231",
            "c3818635e381435eaa6aa362cbf9abb8",
            "8d5bd3fc7de24128b41c930aa1b23802"
          ]
        },
        "id": "KFyTJaioiSOq",
        "outputId": "35ca4301-6968-4355-85ee-c455709292c1"
      },
      "execution_count": 6,
      "outputs": [
        {
          "output_type": "display_data",
          "data": {
            "text/plain": [
              "interactive(children=(Checkbox(value=True, description='x'), Output()), _dom_classes=('widget-interact',))"
            ],
            "application/vnd.jupyter.widget-view+json": {
              "version_major": 2,
              "version_minor": 0,
              "model_id": "96d830fc7d9245adb5770768f6e872ba"
            }
          },
          "metadata": {}
        },
        {
          "output_type": "execute_result",
          "data": {
            "text/plain": [
              "<function __main__.f(x)>"
            ],
            "text/html": [
              "<div style=\"max-width:800px; border: 1px solid var(--colab-border-color);\"><style>\n",
              "      pre.function-repr-contents {\n",
              "        overflow-x: auto;\n",
              "        padding: 8px 12px;\n",
              "        max-height: 500px;\n",
              "      }\n",
              "\n",
              "      pre.function-repr-contents.function-repr-contents-collapsed {\n",
              "        cursor: pointer;\n",
              "        max-height: 100px;\n",
              "      }\n",
              "    </style>\n",
              "    <pre style=\"white-space: initial; background:\n",
              "         var(--colab-secondary-surface-color); padding: 8px 12px;\n",
              "         border-bottom: 1px solid var(--colab-border-color);\"><b>f</b><br/>def f(x)</pre><pre class=\"function-repr-contents function-repr-contents-collapsed\" style=\"\"><a class=\"filepath\" style=\"display:none\" href=\"#\">/content/&lt;ipython-input-6-be657fb256a1&gt;</a>&lt;no docstring&gt;</pre></div>"
            ]
          },
          "metadata": {},
          "execution_count": 6
        }
      ]
    },
    {
      "cell_type": "markdown",
      "source": [
        "Pordemos também passar um `decorator`, algo que vai servir como decorador para o nosso plot. Nesse caso, queremos modificar o nome do título do plot, por exemplo."
      ],
      "metadata": {
        "id": "fagrrOrwiUrR"
      }
    },
    {
      "cell_type": "code",
      "source": [
        "# decorator. Identifica a string e entrega um text box\n",
        "\n",
        "@interact(x='Sigmoidal')\n",
        "def f(x):\n",
        "  plt.clf()\n",
        "  plt.title(x)\n",
        "  plt.show()"
      ],
      "metadata": {
        "colab": {
          "base_uri": "https://localhost:8080/",
          "height": 484,
          "referenced_widgets": [
            "8ce5439819024072a599ee524253c1c8",
            "dd241e8bbfbc41719a07c0a4fe28597d",
            "7dbbe786841a498d9931f3c4964e0870",
            "0681d8d41368420e8ca3299fde60c4c0",
            "9b8ebdcbd3ef49c9ad1772cd72218529",
            "98b4b7ff6ff44f76a75983b36acfe653",
            "236f9334c5374f9ab7329accd60fb111"
          ]
        },
        "id": "XlY-agIxiYFQ",
        "outputId": "3f7cf9f9-b4e4-4861-d54d-03e14785d586"
      },
      "execution_count": 5,
      "outputs": [
        {
          "output_type": "display_data",
          "data": {
            "text/plain": [
              "interactive(children=(Text(value='Sigmoidal', description='x'), Output()), _dom_classes=('widget-interact',))"
            ],
            "application/vnd.jupyter.widget-view+json": {
              "version_major": 2,
              "version_minor": 0,
              "model_id": "8ce5439819024072a599ee524253c1c8"
            }
          },
          "metadata": {}
        }
      ]
    },
    {
      "cell_type": "markdown",
      "source": [
        "Também é importante ressaltar que não estamos presos a apenas um widget por plot. Basta fazer as mudanças na função, e passar os parâmetros no interact.\n",
        "\n",
        "Aqui mostramos também que ele define um range e um step automaticamente, mas você também pode escolher passar como mostramos nos exemplos anteriores."
      ],
      "metadata": {
        "id": "T55RpNUDilIP"
      }
    },
    {
      "cell_type": "code",
      "source": [
        "# multiplos widgets\n",
        "def f(a,b):\n",
        "  plt.clf()\n",
        "  plt.plot(np.arange(0,10), a*np.power(np.arange(0,10), b))\n",
        "  plt.title(\"Lei de Potência: $x=ay^b$\")\n",
        "  plt.show()\n",
        "interact(f, a=1, b=3)"
      ],
      "metadata": {
        "colab": {
          "base_uri": "https://localhost:8080/",
          "height": 607,
          "referenced_widgets": [
            "f75e22a13e0146c1bf407408637d9fb2",
            "89c9b234fc7c4adb8be05a2e674eff7e",
            "d8f3c20b0fe44b3fabc05f78361de0b3",
            "6d07de2421c044a398b28aca5d4e4106",
            "f0cd5700316347729799567599ff557d",
            "56593b01d9104c0f9cb79e0222bcde50",
            "010c388e28ed4e4580a0a8216d8dabef",
            "6ae812ccae6246b5b2ca75aca48cbb8e",
            "ffc2c77b5c0640daa30bcfb0411c5a34",
            "e4050bb33385459ea70e82045fcf4b09"
          ]
        },
        "id": "UwgdLpf5inXj",
        "outputId": "10a2b140-d8a5-4a7d-bf49-4a0cd6df4911"
      },
      "execution_count": 9,
      "outputs": [
        {
          "output_type": "display_data",
          "data": {
            "text/plain": [
              "interactive(children=(IntSlider(value=1, description='a', max=3, min=-1), IntSlider(value=3, description='b', …"
            ],
            "application/vnd.jupyter.widget-view+json": {
              "version_major": 2,
              "version_minor": 0,
              "model_id": "f75e22a13e0146c1bf407408637d9fb2"
            }
          },
          "metadata": {}
        },
        {
          "output_type": "execute_result",
          "data": {
            "text/plain": [
              "<function __main__.f(a, b)>"
            ],
            "text/html": [
              "<div style=\"max-width:800px; border: 1px solid var(--colab-border-color);\"><style>\n",
              "      pre.function-repr-contents {\n",
              "        overflow-x: auto;\n",
              "        padding: 8px 12px;\n",
              "        max-height: 500px;\n",
              "      }\n",
              "\n",
              "      pre.function-repr-contents.function-repr-contents-collapsed {\n",
              "        cursor: pointer;\n",
              "        max-height: 100px;\n",
              "      }\n",
              "    </style>\n",
              "    <pre style=\"white-space: initial; background:\n",
              "         var(--colab-secondary-surface-color); padding: 8px 12px;\n",
              "         border-bottom: 1px solid var(--colab-border-color);\"><b>f</b><br/>def f(a, b)</pre><pre class=\"function-repr-contents function-repr-contents-collapsed\" style=\"\"><a class=\"filepath\" style=\"display:none\" href=\"#\">/content/&lt;ipython-input-9-cadda2afe871&gt;</a>&lt;no docstring&gt;</pre></div>"
            ]
          },
          "metadata": {},
          "execution_count": 9
        }
      ]
    },
    {
      "cell_type": "markdown",
      "source": [
        "Se a personalização é importante, ter valores fixos também pode ser."
      ],
      "metadata": {
        "id": "7rave0P7iqF5"
      }
    },
    {
      "cell_type": "code",
      "source": [
        "# valores fixos\n",
        "def f(a,b):\n",
        "  plt.clf()\n",
        "  plt.plot(np.arange(0,10), a*np.power(np.arange(0,10), b))\n",
        "  plt.title(\"Lei da Potência: $x=ay^b$\")\n",
        "  plt.show()\n",
        "interact(f, a=1, b=fixed(2))"
      ],
      "metadata": {
        "colab": {
          "base_uri": "https://localhost:8080/",
          "height": 575,
          "referenced_widgets": [
            "c92338564e9b46dbb5b00ee04267eaff",
            "784d11875f574b1db5381f137965f8e0",
            "4d116d7c935a41b7bbc0da5997775c65",
            "23103afec1784bd98eb0e8ba65146187",
            "a899bf1aa82a4f378de4597fa2a6ec79",
            "b555531a99984af2874bb8485d29ec12",
            "2b11d6e836a04b4784ca0cd0d3bb09bf"
          ]
        },
        "id": "XMcd_0AAisOf",
        "outputId": "46761c47-c72e-4057-b4d7-da3f58761bbc"
      },
      "execution_count": 8,
      "outputs": [
        {
          "output_type": "display_data",
          "data": {
            "text/plain": [
              "interactive(children=(IntSlider(value=1, description='a', max=3, min=-1), Output()), _dom_classes=('widget-int…"
            ],
            "application/vnd.jupyter.widget-view+json": {
              "version_major": 2,
              "version_minor": 0,
              "model_id": "c92338564e9b46dbb5b00ee04267eaff"
            }
          },
          "metadata": {}
        },
        {
          "output_type": "execute_result",
          "data": {
            "text/plain": [
              "<function __main__.f(a, b)>"
            ],
            "text/html": [
              "<div style=\"max-width:800px; border: 1px solid var(--colab-border-color);\"><style>\n",
              "      pre.function-repr-contents {\n",
              "        overflow-x: auto;\n",
              "        padding: 8px 12px;\n",
              "        max-height: 500px;\n",
              "      }\n",
              "\n",
              "      pre.function-repr-contents.function-repr-contents-collapsed {\n",
              "        cursor: pointer;\n",
              "        max-height: 100px;\n",
              "      }\n",
              "    </style>\n",
              "    <pre style=\"white-space: initial; background:\n",
              "         var(--colab-secondary-surface-color); padding: 8px 12px;\n",
              "         border-bottom: 1px solid var(--colab-border-color);\"><b>f</b><br/>def f(a, b)</pre><pre class=\"function-repr-contents function-repr-contents-collapsed\" style=\"\"><a class=\"filepath\" style=\"display:none\" href=\"#\">/content/&lt;ipython-input-8-d5ca9f94ccf3&gt;</a>&lt;no docstring&gt;</pre></div>"
            ]
          },
          "metadata": {},
          "execution_count": 8
        }
      ]
    },
    {
      "cell_type": "code",
      "source": [
        "# valores fixos, mas com o b definido\n",
        "def f(a):\n",
        "  plt.clf()\n",
        "  plt.plot(np.arange(0,10), a*np.power(np.arange(0,10), 2))\n",
        "  plt.title(\"Lei da Potência: $x=ay^b$\")\n",
        "  plt.show()\n",
        "interact(f, a=1)"
      ],
      "metadata": {
        "colab": {
          "base_uri": "https://localhost:8080/",
          "height": 575,
          "referenced_widgets": [
            "c754114211b9488fa438f6ebaf693a59",
            "f707ab5f86c24ca9bd2e028bb3dd7c88",
            "5050c15e5bb64b5fb4c8a41c3ee787ca",
            "23e2b229b88249f4862b27dca9f72a77",
            "5e8f2d1ff2d541e7bd34900a10a39e37",
            "4a9c8bac8caf450880d146441b44af17",
            "3946fc47aef0473b9f18fdc7728300bd"
          ]
        },
        "id": "Q1MkSlmSiuhg",
        "outputId": "42890e41-33ef-4383-e220-14b157a20d5f"
      },
      "execution_count": 10,
      "outputs": [
        {
          "output_type": "display_data",
          "data": {
            "text/plain": [
              "interactive(children=(IntSlider(value=1, description='a', max=3, min=-1), Output()), _dom_classes=('widget-int…"
            ],
            "application/vnd.jupyter.widget-view+json": {
              "version_major": 2,
              "version_minor": 0,
              "model_id": "c754114211b9488fa438f6ebaf693a59"
            }
          },
          "metadata": {}
        },
        {
          "output_type": "execute_result",
          "data": {
            "text/plain": [
              "<function __main__.f(a)>"
            ],
            "text/html": [
              "<div style=\"max-width:800px; border: 1px solid var(--colab-border-color);\"><style>\n",
              "      pre.function-repr-contents {\n",
              "        overflow-x: auto;\n",
              "        padding: 8px 12px;\n",
              "        max-height: 500px;\n",
              "      }\n",
              "\n",
              "      pre.function-repr-contents.function-repr-contents-collapsed {\n",
              "        cursor: pointer;\n",
              "        max-height: 100px;\n",
              "      }\n",
              "    </style>\n",
              "    <pre style=\"white-space: initial; background:\n",
              "         var(--colab-secondary-surface-color); padding: 8px 12px;\n",
              "         border-bottom: 1px solid var(--colab-border-color);\"><b>f</b><br/>def f(a)</pre><pre class=\"function-repr-contents function-repr-contents-collapsed\" style=\"\"><a class=\"filepath\" style=\"display:none\" href=\"#\">/content/&lt;ipython-input-10-adeb73d54d40&gt;</a>&lt;no docstring&gt;</pre></div>"
            ]
          },
          "metadata": {},
          "execution_count": 10
        }
      ]
    },
    {
      "cell_type": "markdown",
      "source": [
        "Para criar um menu dropdown para as interações, basta passar uma lista como parâmetro.\n",
        "\n",
        "Aqui, a nossa função vai receber o parâmetro cor através do interact.\n",
        "\n",
        "A cor vai fazer parte de uma lista de cores, que vamos passar como parâmetro dentro da função do interact."
      ],
      "metadata": {
        "id": "AwDCDvyki8eI"
      }
    },
    {
      "cell_type": "code",
      "source": [
        "# dropdown de listas\n",
        "\n",
        "def f(color):\n",
        "  plt.clf()\n",
        "  plt.plot(np.arange(0,10), np.power(np.arange(0,10), 5), c=color)\n",
        "  plt.title(\"Lei da Potência: $x=ay^b$\")\n",
        "  plt.show()\n",
        "colors=['Red', 'Blue', 'Green']\n",
        "\n",
        "interact(f, color=colors)"
      ],
      "metadata": {
        "colab": {
          "base_uri": "https://localhost:8080/",
          "height": 575,
          "referenced_widgets": [
            "75afb66f7cfd4d859a2d14056466b22f",
            "883f19930a8f4b93a05a43a69e65431d",
            "c576e7cb73e941e981fa1e35ba0cd367",
            "a6e5faec87fc496097f50a5ecd0a8523",
            "9f0aeb04c4a04602a9783b109df3c2b2",
            "9daeed1e32fd4b24b0dc538ac38aad0f",
            "c52f210a2f4044c5830887b091774fd9"
          ]
        },
        "id": "Tsz3lZf8i-R8",
        "outputId": "bebbd140-debd-4021-d2d8-9125ea3c14f9"
      },
      "execution_count": 11,
      "outputs": [
        {
          "output_type": "display_data",
          "data": {
            "text/plain": [
              "interactive(children=(Dropdown(description='color', options=('Red', 'Blue', 'Green'), value='Red'), Output()),…"
            ],
            "application/vnd.jupyter.widget-view+json": {
              "version_major": 2,
              "version_minor": 0,
              "model_id": "75afb66f7cfd4d859a2d14056466b22f"
            }
          },
          "metadata": {}
        },
        {
          "output_type": "execute_result",
          "data": {
            "text/plain": [
              "<function __main__.f(color)>"
            ],
            "text/html": [
              "<div style=\"max-width:800px; border: 1px solid var(--colab-border-color);\"><style>\n",
              "      pre.function-repr-contents {\n",
              "        overflow-x: auto;\n",
              "        padding: 8px 12px;\n",
              "        max-height: 500px;\n",
              "      }\n",
              "\n",
              "      pre.function-repr-contents.function-repr-contents-collapsed {\n",
              "        cursor: pointer;\n",
              "        max-height: 100px;\n",
              "      }\n",
              "    </style>\n",
              "    <pre style=\"white-space: initial; background:\n",
              "         var(--colab-secondary-surface-color); padding: 8px 12px;\n",
              "         border-bottom: 1px solid var(--colab-border-color);\"><b>f</b><br/>def f(color)</pre><pre class=\"function-repr-contents function-repr-contents-collapsed\" style=\"\"><a class=\"filepath\" style=\"display:none\" href=\"#\">/content/&lt;ipython-input-11-bb6b52ff939c&gt;</a>&lt;no docstring&gt;</pre></div>"
            ]
          },
          "metadata": {},
          "execution_count": 11
        }
      ]
    },
    {
      "cell_type": "markdown",
      "source": [
        "Também é possível criar um dropdown com dicionários. Poderíamos, por exemplo, ter passado uam lista de ints, e modificaríamos o plot a partir de um dropdown, da mesma forma que faríamos com um slider.\n",
        "\n",
        "Mas e se quiséssimos escrever o nome do número e fazer com que a função receba o número como int? Dicionários!\n",
        "\n",
        "Passamos as opções do dropdown como chaves e os valores que a função irá receber como valores.\n",
        "\n",
        "Então é só passar o dicionário como parâmetro dentro do interact."
      ],
      "metadata": {
        "id": "h5lwqLuDjAl9"
      }
    },
    {
      "cell_type": "code",
      "source": [
        "# dropdown de dicionários\n",
        "\n",
        "def f(b):\n",
        "  plt.clf()\n",
        "  plt.plot(np.arange(0,10), np.power(np.arange(0,10), b))\n",
        "  plt.title(\"Power Law: $x=ay^b$\")\n",
        "  plt.show()\n",
        "powers = {'One':1, 'Two':2, 'Three':3}\n",
        "interact(f, b=powers)"
      ],
      "metadata": {
        "colab": {
          "base_uri": "https://localhost:8080/",
          "height": 575,
          "referenced_widgets": [
            "fa0ea6f544a14e5080a36bf5b725dea4",
            "25ca36c344ff421b822958345c6c9e58",
            "14f57dc5d4f24198849163c765c10998",
            "6420fc8bc15e40979866a51d97790977",
            "adb260978add400c9ff1fdcd6deb11c7",
            "506d7edafc6e4201b29545e2ab9f6592",
            "da20f9752b2e4154941c92242fe163ed"
          ]
        },
        "id": "EX6zmXfgjCqe",
        "outputId": "258d437e-b5a4-4030-8b7d-ad94b2e1cd65"
      },
      "execution_count": 12,
      "outputs": [
        {
          "output_type": "display_data",
          "data": {
            "text/plain": [
              "interactive(children=(Dropdown(description='b', options={'One': 1, 'Two': 2, 'Three': 3}, value=1), Output()),…"
            ],
            "application/vnd.jupyter.widget-view+json": {
              "version_major": 2,
              "version_minor": 0,
              "model_id": "fa0ea6f544a14e5080a36bf5b725dea4"
            }
          },
          "metadata": {}
        },
        {
          "output_type": "execute_result",
          "data": {
            "text/plain": [
              "<function __main__.f(b)>"
            ],
            "text/html": [
              "<div style=\"max-width:800px; border: 1px solid var(--colab-border-color);\"><style>\n",
              "      pre.function-repr-contents {\n",
              "        overflow-x: auto;\n",
              "        padding: 8px 12px;\n",
              "        max-height: 500px;\n",
              "      }\n",
              "\n",
              "      pre.function-repr-contents.function-repr-contents-collapsed {\n",
              "        cursor: pointer;\n",
              "        max-height: 100px;\n",
              "      }\n",
              "    </style>\n",
              "    <pre style=\"white-space: initial; background:\n",
              "         var(--colab-secondary-surface-color); padding: 8px 12px;\n",
              "         border-bottom: 1px solid var(--colab-border-color);\"><b>f</b><br/>def f(b)</pre><pre class=\"function-repr-contents function-repr-contents-collapsed\" style=\"\"><a class=\"filepath\" style=\"display:none\" href=\"#\">/content/&lt;ipython-input-12-cdd29e33325b&gt;</a>&lt;no docstring&gt;</pre></div>"
            ]
          },
          "metadata": {},
          "execution_count": 12
        }
      ]
    },
    {
      "cell_type": "code",
      "source": [
        "# dropdown de dicionários\n",
        "\n",
        "def f(color):\n",
        "  plt.clf()\n",
        "  plt.plot(np.arange(0,10), np.power(np.arange(0,10), 5), c=color)\n",
        "  plt.title(\"Lei da Potência: $x=ay^b$\")\n",
        "  plt.show()\n",
        "colors={'Vermelho':'Red', 'Azul':'Blue', 'Verde':'Green'}\n",
        "interact(f, color=colors)"
      ],
      "metadata": {
        "colab": {
          "base_uri": "https://localhost:8080/",
          "height": 575,
          "referenced_widgets": [
            "1c427697b6fa45f1b1802686d6e5ddd8",
            "f2516f7d048f4889a26184e217e44365",
            "5814eac254ce44f98922d8c7cd490ad6",
            "46af9915ed11497b9f4cd0c0d2ff75dd",
            "de0ff13451294d439972784db95e7822",
            "d009058b8d0b4348a9610d05c9958dfb",
            "c2f17325421f4491960ea66141cd2fdf"
          ]
        },
        "id": "Njq3BmSUjEp8",
        "outputId": "aaacb9b8-7d16-433f-91b2-1fcf88015344"
      },
      "execution_count": 13,
      "outputs": [
        {
          "output_type": "display_data",
          "data": {
            "text/plain": [
              "interactive(children=(Dropdown(description='color', options={'Vermelho': 'Red', 'Azul': 'Blue', 'Verde': 'Gree…"
            ],
            "application/vnd.jupyter.widget-view+json": {
              "version_major": 2,
              "version_minor": 0,
              "model_id": "1c427697b6fa45f1b1802686d6e5ddd8"
            }
          },
          "metadata": {}
        },
        {
          "output_type": "execute_result",
          "data": {
            "text/plain": [
              "<function __main__.f(color)>"
            ],
            "text/html": [
              "<div style=\"max-width:800px; border: 1px solid var(--colab-border-color);\"><style>\n",
              "      pre.function-repr-contents {\n",
              "        overflow-x: auto;\n",
              "        padding: 8px 12px;\n",
              "        max-height: 500px;\n",
              "      }\n",
              "\n",
              "      pre.function-repr-contents.function-repr-contents-collapsed {\n",
              "        cursor: pointer;\n",
              "        max-height: 100px;\n",
              "      }\n",
              "    </style>\n",
              "    <pre style=\"white-space: initial; background:\n",
              "         var(--colab-secondary-surface-color); padding: 8px 12px;\n",
              "         border-bottom: 1px solid var(--colab-border-color);\"><b>f</b><br/>def f(color)</pre><pre class=\"function-repr-contents function-repr-contents-collapsed\" style=\"\"><a class=\"filepath\" style=\"display:none\" href=\"#\">/content/&lt;ipython-input-13-f043094ad86a&gt;</a>&lt;no docstring&gt;</pre></div>"
            ]
          },
          "metadata": {},
          "execution_count": 13
        }
      ]
    },
    {
      "cell_type": "markdown",
      "source": [],
      "metadata": {
        "id": "bN7ZVuMXiW4O"
      }
    }
  ]
}