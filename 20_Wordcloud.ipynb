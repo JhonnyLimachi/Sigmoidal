{
  "nbformat": 4,
  "nbformat_minor": 0,
  "metadata": {
    "colab": {
      "provenance": [],
      "authorship_tag": "ABX9TyMYTlNzDSwB7MlnJ5DFcTK2",
      "include_colab_link": true
    },
    "kernelspec": {
      "name": "python3",
      "display_name": "Python 3"
    },
    "language_info": {
      "name": "python"
    }
  },
  "cells": [
    {
      "cell_type": "markdown",
      "metadata": {
        "id": "view-in-github",
        "colab_type": "text"
      },
      "source": [
        "<a href=\"https://colab.research.google.com/github/JhonnyLimachi/Sigmoidal/blob/main/20_Wordcloud.ipynb\" target=\"_parent\"><img src=\"https://colab.research.google.com/assets/colab-badge.svg\" alt=\"Open In Colab\"/></a>"
      ]
    },
    {
      "cell_type": "markdown",
      "source": [
        "<img alt=\"Colaboratory logo\" width=\"15%\" src=\"https://raw.githubusercontent.com/carlosfab/escola-data-science/master/img/novo_logo_bg_claro.png\">\n",
        "\n",
        "#### **Data Science na Prática 4.0**\n",
        "*by [sigmoidal.ai](https://sigmoidal.ai)*\n",
        "\n",
        "---"
      ],
      "metadata": {
        "id": "9SoOPuEyj2lF"
      }
    },
    {
      "cell_type": "markdown",
      "source": [
        "# Wordcloud\n",
        "\n",
        "Wordcloud é também um tipo de visualização de dados muito poderosa, principalmente quando estamos trabalhando com textos, documentos, pesquisas, entre outras.\n",
        "\n",
        "<center><img src=\"https://theappassembly.com/wp-content/uploads/2016/11/BigDataWordMap-1264x736.jpg\" height=\"400px\"></center>\n",
        "\n",
        "Uma dificuldade que temos é excluir palavras como artigos e pronomes da nossa análise. Uma vez que eles aparecem com frequência, podem tirar o protagonismo de palavras que de fato deveriam aparecer maiores.\n",
        "\n",
        "Para conseguir desenhar uma wordcloud em Python, temos que instalar a biblioteca `wordcloud` na máquina. Vamos fazer isso e usar o *dataset* completo do Airbnb para o Rio de Janeiro (não aquele resumido, que baixamos no Módulo 1)."
      ],
      "metadata": {
        "id": "YZUQQbkEkAa8"
      }
    },
    {
      "cell_type": "markdown",
      "source": [
        "## Importando dados do Airbnb\n",
        "\n",
        "Você pode acessar diretamente no [Portal do Airbnb](http://insideairbnb.com/get-the-data.html) e fazer o download do arquivo. Se você preferir, você pode baixar os dados diretamente [neste link](http://data.insideairbnb.com/brazil/rj/rio-de-janeiro/2020-05-24/data/listings.csv.gz).\n",
        "\n",
        "<center><img src=\"https://raw.githubusercontent.com/carlosfab/dsnp2/master/img/airbnbprint.png\" height=\"300px\"></center>\n",
        "\n",
        "Este *dataset* é muito maior que a sua versão resumida. Descompactado, tem mais de 100Mb, 35.793 entradas e 106 atributos! Vamos importar ele todo, mas só vou usar a coluna `description`, que contém o resumo que o anfitrião escreveu sobre sua propriedade.\n",
        "\n",
        "Vamos ver em uma nuvem de palavras quais as palavras mais frequentes que aparecem :)"
      ],
      "metadata": {
        "id": "axBzTxr6kGqL"
      }
    },
    {
      "cell_type": "code",
      "execution_count": 1,
      "metadata": {
        "id": "T3f8vga3j0fP"
      },
      "outputs": [],
      "source": [
        "# instalar wordcloud\n",
        "!pip install wordcloud -q"
      ]
    },
    {
      "cell_type": "code",
      "source": [
        "# importar os pacotes necessários\n",
        "import pandas as pd\n",
        "import matplotlib.pyplot as plt\n",
        "from wordcloud import WordCloud, STOPWORDS, ImageColorGenerator"
      ],
      "metadata": {
        "id": "dGyNEuLRlbpS"
      },
      "execution_count": 2,
      "outputs": []
    },
    {
      "cell_type": "code",
      "source": [
        "DATA_PATH = \"http://data.insideairbnb.com/brazil/rj/rio-de-janeiro/2021-04-26/data/listings.csv.gz\"\n",
        "\n",
        "# importar o arquivo csv em um df\n",
        "df = pd.read_csv(DATA_PATH)"
      ],
      "metadata": {
        "id": "URoraA0wliAp"
      },
      "execution_count": 3,
      "outputs": []
    }
  ]
}