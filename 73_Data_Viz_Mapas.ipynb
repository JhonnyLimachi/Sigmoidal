{
  "nbformat": 4,
  "nbformat_minor": 0,
  "metadata": {
    "colab": {
      "provenance": [],
      "authorship_tag": "ABX9TyOvNE5rYxno4Lj9wRm3uhWC",
      "include_colab_link": true
    },
    "kernelspec": {
      "name": "python3",
      "display_name": "Python 3"
    },
    "language_info": {
      "name": "python"
    }
  },
  "cells": [
    {
      "cell_type": "markdown",
      "metadata": {
        "id": "view-in-github",
        "colab_type": "text"
      },
      "source": [
        "<a href=\"https://colab.research.google.com/github/JhonnyLimachi/Sigmoidal/blob/main/73_Data_Viz_Mapas.ipynb\" target=\"_parent\"><img src=\"https://colab.research.google.com/assets/colab-badge.svg\" alt=\"Open In Colab\"/></a>"
      ]
    },
    {
      "cell_type": "markdown",
      "source": [
        "<img alt=\"Colaboratory logo\" width=\"15%\" src=\"https://raw.githubusercontent.com/carlosfab/escola-data-science/master/img/novo_logo_bg_claro.png\">\n",
        "\n",
        "#### **Visualização de Dados com Python**\n",
        "*by [sigmoidal.ai](https://sigmoidal.ai)*\n",
        "\n",
        "---"
      ],
      "metadata": {
        "id": "72UudcE3z4mZ"
      }
    },
    {
      "cell_type": "markdown",
      "source": [
        "# Mapas\n",
        "\n",
        "Em muitos casos, é interessante que possamos utilizar mapas para representar nossos dados. A depender do escopo e objetivo do nosso projeto, eles serão primordiais. Portanto, conhecer algumas alternativas para plotar esse tipo de dado é muito importante!\n",
        "\n",
        "<center><img src=\"https://i.imgur.com/M3toZK8.png\"width=\"450px\"></center>\n",
        "\n",
        "Uma das possibilidades é a biblioteca [PyDeck](https://deckgl.readthedocs.io/en/latest/). Essa biblioteca é extremamente poderosa, e nos possibilita plotar gráficos muito impressionantes. Essa biblioteca é focada em mapas e faz um excelente trabalho no que se propões a fazer.\n",
        "\n",
        "<center><img src=\"https://miro.medium.com/max/3504/1*ms3kXnMX0IJjSYocKxbwHw.png\"width=\"450px\"></center>\n",
        "\n",
        "A outra possibilidade é o [Folium](http://python-visualization.github.io/folium/). Essa também é uma possibilidade interessante, que nos possibilita plotar mapas extremamente interessantes, e entregar um trabalho muito bacana no que diz respeito a mapas.\n",
        "\n",
        "Mas vamos ver na prática como plotar esses mapas."
      ],
      "metadata": {
        "id": "qtgyOhAAz7Bg"
      }
    },
    {
      "cell_type": "code",
      "execution_count": null,
      "metadata": {
        "id": "-_Cmpjg6zyHm"
      },
      "outputs": [],
      "source": []
    }
  ]
}