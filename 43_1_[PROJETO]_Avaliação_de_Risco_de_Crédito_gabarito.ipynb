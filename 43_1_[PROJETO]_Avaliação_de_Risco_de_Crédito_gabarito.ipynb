{
  "nbformat": 4,
  "nbformat_minor": 0,
  "metadata": {
    "colab": {
      "provenance": [],
      "authorship_tag": "ABX9TyMPgU091MkScNUOmDwh4d5D",
      "include_colab_link": true
    },
    "kernelspec": {
      "name": "python3",
      "display_name": "Python 3"
    },
    "language_info": {
      "name": "python"
    }
  },
  "cells": [
    {
      "cell_type": "markdown",
      "metadata": {
        "id": "view-in-github",
        "colab_type": "text"
      },
      "source": [
        "<a href=\"https://colab.research.google.com/github/JhonnyLimachi/Sigmoidal/blob/main/43_1_%5BPROJETO%5D_Avalia%C3%A7%C3%A3o_de_Risco_de_Cr%C3%A9dito_gabarito.ipynb\" target=\"_parent\"><img src=\"https://colab.research.google.com/assets/colab-badge.svg\" alt=\"Open In Colab\"/></a>"
      ]
    },
    {
      "cell_type": "markdown",
      "source": [
        "---\n",
        "<img alt=\"Colaboratory logo\" width=\"15%\" src=\"https://raw.githubusercontent.com/carlosfab/escola-data-science/master/img/novo_logo_bg_claro.png\">\n",
        "\n",
        "#### **Data Science na Prática 3.0**\n",
        "*by [sigmoidal.ai](https://sigmoidal.ai)*  \n",
        "\n",
        "---"
      ],
      "metadata": {
        "id": "hTpFtUeROr2O"
      }
    },
    {
      "cell_type": "markdown",
      "source": [
        "# Avaliação de Risco de Crédito\n",
        "\n",
        "\n",
        "Uma das área que causa mais problemas para bancos, financiadoras e empresários é a taxa de inadimplência por parte da sua carteira de clientes.\n",
        "\n",
        "Avaliar se uma pessoa irá deixar de cumprir com suas obrigações financeiras é de extrema importância, e pode causar um grande impacto no balanço da Instituição. Cada vez mais, soluções vêm sendo desenvolvidas e aprimoradas visando minimizar o risco de *default*.\n",
        "\n",
        "*Default* é o termo utilizado para indicado o não cumprimento das obrigações e/ou condições de um empréstimo (como financiamentos ou dívidas de cartão de crédito). Normalmente, o principal motivo para o descumprimento das condições de pagamento é incapacidade financeira do cliente.\n",
        "\n",
        "<p align=center>\n",
        "  <img src=\"https://images.unsplash.com/photo-1556742502-ec7c0e9f34b1?ixid=MnwxMjA3fDB8MHxwaG90by1wYWdlfHx8fGVufDB8fHx8&ixlib=rb-1.2.1&auto=format&fit=crop&w=687&q=80\" width=\"40%\">\n",
        "</p>\n",
        "\n",
        "Grandes bancos e Fintechs têm apostado cada vez mais em modelos de *Machine Learning* para previnir a inadimplência de alguns clientes.\n",
        "\n",
        "\n",
        "O conjunto de dados a ser utilizado neste Projeto de *Data Science* parte de uma competição realizada por uma startup a fim de revelar talentos e potenciais contratações pela Fintech.\n",
        "\n",
        "## Contextualização do Problema\n",
        "\n",
        "Neste problema, o objetivo é prever qual a probabilidade de um cliente da Fintech não coumprir com suas obrigações financeiras e deixar de pagar a sua fatura do Cartão de Crédito.\n",
        "\n",
        "  \n",
        "Vale ressaltar que essa avaliação deve ser realizada no momento em que o cliente solicita o cartão (normalmente no primeiro contato com a instituição).\n",
        "\n",
        "\n",
        "\n",
        "> OBJETIVO: Criar um modelo que indique se um cliente irá virar inadimplente.\n",
        "\n",
        "\n",
        "Espera-se que um modelo seja capaz de minimizar as perdas financeiras da Fintech, porém minimizando também os falsos positivos.\n",
        "\n",
        "### Hipóteses Iniciais"
      ],
      "metadata": {
        "id": "moQn9SUGOua2"
      }
    },
    {
      "cell_type": "code",
      "execution_count": null,
      "metadata": {
        "id": "QDZzPRWdOaO2"
      },
      "outputs": [],
      "source": []
    }
  ]
}