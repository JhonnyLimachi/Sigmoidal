{
  "nbformat": 4,
  "nbformat_minor": 0,
  "metadata": {
    "colab": {
      "provenance": [],
      "authorship_tag": "ABX9TyOU0EoyoFR15JzNCVRQXj82",
      "include_colab_link": true
    },
    "kernelspec": {
      "name": "python3",
      "display_name": "Python 3"
    },
    "language_info": {
      "name": "python"
    }
  },
  "cells": [
    {
      "cell_type": "markdown",
      "metadata": {
        "id": "view-in-github",
        "colab_type": "text"
      },
      "source": [
        "<a href=\"https://colab.research.google.com/github/JhonnyLimachi/Sigmoidal/blob/main/74_Data_Viz_Heatmap.ipynb\" target=\"_parent\"><img src=\"https://colab.research.google.com/assets/colab-badge.svg\" alt=\"Open In Colab\"/></a>"
      ]
    },
    {
      "cell_type": "markdown",
      "source": [
        "<img alt=\"Colaboratory logo\" width=\"15%\" src=\"https://raw.githubusercontent.com/carlosfab/escola-data-science/master/img/novo_logo_bg_claro.png\">\n",
        "\n",
        "#### **Visualização de Dados com Python**\n",
        "*by [sigmoidal.ai](https://sigmoidal.ai)*\n",
        "\n",
        "---"
      ],
      "metadata": {
        "id": "cfqO-ADJ64-l"
      }
    },
    {
      "cell_type": "markdown",
      "source": [
        "# Heatmaps\n",
        "\n",
        "Ao fazer uma análise, um dos pontos que precisamos ter em mente é a correlação entre as variáveis. Nem sempre conseguimos entender as correlações simplesmente por visualizar as diferentes variáveis.\n",
        "\n",
        "Por isso, é sempre interessante plotarmos heatmaps, para deixar essas relações mais evidentes. Mas existem alguns truques que podemos utilizar para ter resultados ainda mais interessantes e informativos.\n",
        "\n",
        "<center><img src=\"https://matplotlib.org/stable/_images/sphx_glr_image_annotated_heatmap_002.png\"width=\"450px\"></center>\n",
        "\n",
        "Além disso, não temos somente essa visualização acima, a clássica matriz de correlação, demonstrada como heatmap. Nós também podemos utilizar heatmaps diferentes, assim como os da [Darkhorse Analytics]() que demonstra o fluxo de pessoas por New York City ao longo de um dia de trabalho.\n",
        "\n",
        "<center><img src=\"https://images.squarespace-cdn.com/content/v1/56713bf4dc5cb41142f28d1f/1615244110919-OXSIQX5YB8L7KRJ81YL8/breathing-city.gif?format=750w\"width=\"400px\"></center>\n",
        "\n",
        "Vamos nos aprofundar nesse tipo de gráfico, e ver como podemos criar um gráfico simples, mas informativo e poderoso utilizando as bibliotecas de visualização `Matplotlib` e `Seaborn`.\n",
        "\n",
        "<center><img src=\"https://images.squarespace-cdn.com/content/v1/56713bf4dc5cb41142f28d1f/1549327610655-O9TDHQUSMZD86NP4E8TL/Screen+Shot+2019-02-04+at+5.46.00+PM.png?format=750w\"width=\"400px\"></center>"
      ],
      "metadata": {
        "id": "5tDaPbnV67Ow"
      }
    },
    {
      "cell_type": "code",
      "execution_count": null,
      "metadata": {
        "id": "Yoarqv7a6v_b"
      },
      "outputs": [],
      "source": []
    }
  ]
}