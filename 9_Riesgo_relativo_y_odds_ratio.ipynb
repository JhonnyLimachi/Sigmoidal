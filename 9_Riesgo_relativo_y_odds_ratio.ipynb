{
  "nbformat": 4,
  "nbformat_minor": 0,
  "metadata": {
    "colab": {
      "provenance": [],
      "authorship_tag": "ABX9TyPbUs2g8yrZFkwLMKNfCGuI",
      "include_colab_link": true
    },
    "kernelspec": {
      "name": "python3",
      "display_name": "Python 3"
    },
    "language_info": {
      "name": "python"
    }
  },
  "cells": [
    {
      "cell_type": "markdown",
      "metadata": {
        "id": "view-in-github",
        "colab_type": "text"
      },
      "source": [
        "<a href=\"https://colab.research.google.com/github/JhonnyLimachi/Sigmoidal/blob/main/9_Riesgo_relativo_y_odds_ratio.ipynb\" target=\"_parent\"><img src=\"https://colab.research.google.com/assets/colab-badge.svg\" alt=\"Open In Colab\"/></a>"
      ]
    },
    {
      "cell_type": "code",
      "source": [
        "import numpy as np\n",
        "import pandas as pd"
      ],
      "metadata": {
        "id": "ob8HYNslGfH1"
      },
      "execution_count": 3,
      "outputs": []
    },
    {
      "cell_type": "code",
      "source": [
        "# Datos de ejemplo\n",
        "# Supongamos que tenemos los siguientes datos:\n",
        "# Grupo de tratamiento con Miltefosina: pacientes_curados_miltefosina, total_pacientes_miltefosina\n",
        "# Grupo de tratamiento con Glucantime: pacientes_curados_glucantime, total_pacientes_glucantime\n",
        "pacientes_curados_miltefosina = 100\n",
        "total_pacientes_miltefosina = 200\n",
        "pacientes_curados_glucantime = 80\n",
        "total_pacientes_glucantime = 180"
      ],
      "metadata": {
        "id": "pxqw8WtMG-Cn"
      },
      "execution_count": 6,
      "outputs": []
    },
    {
      "cell_type": "code",
      "source": [
        "# Crear un DataFrame de pandas para la tabla 2x2\n",
        "data = {\n",
        "    'Tratamiento': ['Miltefosina', 'Glucantime'],\n",
        "    'Curados': [pacientes_curados_miltefosina, pacientes_curados_glucantime],\n",
        "    'No Curados': [total_pacientes_miltefosina - pacientes_curados_miltefosina, total_pacientes_glucantime - pacientes_curados_glucantime]\n",
        "}\n",
        "\n",
        "df = pd.DataFrame(data)\n",
        "df.set_index('Tratamiento', inplace=True)\n",
        "\n",
        "print(\"Tabla 2x2:\")\n",
        "print(df)"
      ],
      "metadata": {
        "colab": {
          "base_uri": "https://localhost:8080/"
        },
        "id": "pmGnSa0YIM60",
        "outputId": "7986af82-fb16-4863-9d47-1346258eb41b"
      },
      "execution_count": 9,
      "outputs": [
        {
          "output_type": "stream",
          "name": "stdout",
          "text": [
            "Tabla 2x2:\n",
            "             Curados  No Curados\n",
            "Tratamiento                     \n",
            "Miltefosina      100         100\n",
            "Glucantime        80         100\n"
          ]
        }
      ]
    },
    {
      "cell_type": "code",
      "source": [
        "# Calcular el riesgo relativo (RR)\n",
        "RR = (pacientes_curados_miltefosina / total_pacientes_miltefosina) / (pacientes_curados_glucantime / total_pacientes_glucantime)\n",
        "print(\"Riesgo Relativo (RR):\", RR)"
      ],
      "metadata": {
        "colab": {
          "base_uri": "https://localhost:8080/"
        },
        "id": "onkrFdTsHDic",
        "outputId": "0e0a6b52-9c7c-4188-f172-076659a2f29e"
      },
      "execution_count": 7,
      "outputs": [
        {
          "output_type": "stream",
          "name": "stdout",
          "text": [
            "Riesgo Relativo (RR): 1.125\n"
          ]
        }
      ]
    },
    {
      "cell_type": "code",
      "source": [
        "# Calcular la odds ratio (OR)\n",
        "odds_miltefosina = pacientes_curados_miltefosina / (total_pacientes_miltefosina - pacientes_curados_miltefosina)\n",
        "odds_glucantime = pacientes_curados_glucantime / (total_pacientes_glucantime - pacientes_curados_glucantime)\n",
        "OR = (odds_miltefosina / odds_glucantime)\n",
        "print(\"Odds Ratio (OR):\", OR)"
      ],
      "metadata": {
        "colab": {
          "base_uri": "https://localhost:8080/"
        },
        "id": "KloFEQGEH5_n",
        "outputId": "736fd3c5-a2f9-417a-e63f-d6ff5a287ee3"
      },
      "execution_count": 8,
      "outputs": [
        {
          "output_type": "stream",
          "name": "stdout",
          "text": [
            "Odds Ratio (OR): 1.25\n"
          ]
        }
      ]
    }
  ]
}