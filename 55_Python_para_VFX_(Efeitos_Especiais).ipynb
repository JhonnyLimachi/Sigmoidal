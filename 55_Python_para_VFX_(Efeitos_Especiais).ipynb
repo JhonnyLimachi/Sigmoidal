{
  "nbformat": 4,
  "nbformat_minor": 0,
  "metadata": {
    "colab": {
      "provenance": [],
      "authorship_tag": "ABX9TyNX+wSzN8Aib7uP8gNOfqD5",
      "include_colab_link": true
    },
    "kernelspec": {
      "name": "python3",
      "display_name": "Python 3"
    },
    "language_info": {
      "name": "python"
    }
  },
  "cells": [
    {
      "cell_type": "markdown",
      "metadata": {
        "id": "view-in-github",
        "colab_type": "text"
      },
      "source": [
        "<a href=\"https://colab.research.google.com/github/JhonnyLimachi/Sigmoidal/blob/main/55_Python_para_VFX_(Efeitos_Especiais).ipynb\" target=\"_parent\"><img src=\"https://colab.research.google.com/assets/colab-badge.svg\" alt=\"Open In Colab\"/></a>"
      ]
    },
    {
      "cell_type": "markdown",
      "source": [
        "[Live do dia 23/12/2021](https://www.youtube.com/watch?v=MnyTOvR1zKQ)"
      ],
      "metadata": {
        "id": "9BI6h1XWAgjB"
      }
    },
    {
      "cell_type": "markdown",
      "source": [
        "[Live do dia 29/12/2021](https://www.youtube.com/watch?v=XMhJiqOIn4A)"
      ],
      "metadata": {
        "id": "FU1L1cg8A4sf"
      }
    },
    {
      "cell_type": "markdown",
      "source": [
        "[Live do dia 05/01/2022](https://www.youtube.com/watch?v=lcISA5FKnOA)"
      ],
      "metadata": {
        "id": "mca9wG6ABAuE"
      }
    },
    {
      "cell_type": "markdown",
      "source": [
        "[Live do dia 14/01 - Cenários 3D e Efeitos Especiais com Python ](https://www.youtube.com/watch?v=mS93IwhoOjk)"
      ],
      "metadata": {
        "id": "5SszsBk1BjRF"
      }
    },
    {
      "cell_type": "markdown",
      "source": [
        "# Python para VFX (Efeitos Especiais) e 3D\n",
        "<small>*Material de apoio referente à aula Python para VFX da Escola de Data Science.*</small>\n",
        "<br><br>\n",
        "\n",
        "\n",
        "**A indústria audiovisual é uma indústria bilionária**, o que pode ser facilmente observado pelos valores investidos em filmes, seriados e jogos modernos.\n",
        "\n",
        "Incrivelmente, muitos profissionais de Ciência de Dados desconhecem esse mercado. Como você vai entender na aula, isso é um erro, uma vez que **os principais softwares usados no cinema, possuem algoritmos extremamente avançados e soluções de Visão Computacional e Deep Learning**, desenvolvidas pelos times de R&D das respectivas empresas.\n",
        "\n",
        "Ou seja, há equipes de cientistas e pesquisadores tentando acompanhar o **estado da arte em Inteligência Artificial** - o que também pode representar uma oportunidade.\n",
        "\n",
        "<img src=\"https://raw.githubusercontent.com/carlosfab/vfx-na-pratica/main/images//Screen Shot 2022-01-12 at 15.29.36.png\" width=600></center>\n",
        "\n",
        "Além disso, **Python é a linguagem utilizada no pipeline dos estúdios de VFX do mundo.** Softwares como Maya, Nuke, Cinema 4D e Houdini, possuem APIs nativas, que possibilizam a automação e criação de assets e efeitos diversos.\n",
        "\n",
        "## Visão Geral\n",
        "\n",
        "\"The Houdini Object Model (HOM) is an application programming interface (API) that lets you get information from and control Houdini using the Python scripting language. HOM replaces the functionality of Houdini’s previous command language, HScript.\"\n",
        "\n",
        "\"In Python, the hou package is the top of a hierarchy of modules, functions, and classes that define the HOM. The hou module is automatically imported when you are writing expressions in the parameter editor and in the hython command-line shell.\""
      ],
      "metadata": {
        "id": "1Cy_WlpVCOJU"
      }
    },
    {
      "cell_type": "code",
      "execution_count": null,
      "metadata": {
        "id": "imEZIo7uAYaB"
      },
      "outputs": [],
      "source": []
    }
  ]
}