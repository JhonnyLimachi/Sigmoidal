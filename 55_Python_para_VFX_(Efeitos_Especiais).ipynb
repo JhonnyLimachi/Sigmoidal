{
  "nbformat": 4,
  "nbformat_minor": 0,
  "metadata": {
    "colab": {
      "provenance": [],
      "authorship_tag": "ABX9TyPdm2cYW9scIlJ2t6uO8DN4",
      "include_colab_link": true
    },
    "kernelspec": {
      "name": "python3",
      "display_name": "Python 3"
    },
    "language_info": {
      "name": "python"
    }
  },
  "cells": [
    {
      "cell_type": "markdown",
      "metadata": {
        "id": "view-in-github",
        "colab_type": "text"
      },
      "source": [
        "<a href=\"https://colab.research.google.com/github/JhonnyLimachi/Sigmoidal/blob/main/55_Python_para_VFX_(Efeitos_Especiais).ipynb\" target=\"_parent\"><img src=\"https://colab.research.google.com/assets/colab-badge.svg\" alt=\"Open In Colab\"/></a>"
      ]
    },
    {
      "cell_type": "markdown",
      "source": [
        "[Live do dia 23/12/2021](https://www.youtube.com/watch?v=MnyTOvR1zKQ)"
      ],
      "metadata": {
        "id": "9BI6h1XWAgjB"
      }
    },
    {
      "cell_type": "markdown",
      "source": [
        "[Live do dia 29/12/2021](https://www.youtube.com/watch?v=XMhJiqOIn4A)"
      ],
      "metadata": {
        "id": "FU1L1cg8A4sf"
      }
    },
    {
      "cell_type": "markdown",
      "source": [
        "[Live do dia 05/01/2022](https://www.youtube.com/watch?v=lcISA5FKnOA)"
      ],
      "metadata": {
        "id": "mca9wG6ABAuE"
      }
    },
    {
      "cell_type": "markdown",
      "source": [
        "[Live do dia 14/01 - Cenários 3D e Efeitos Especiais com Python ](https://www.youtube.com/watch?v=mS93IwhoOjk)"
      ],
      "metadata": {
        "id": "5SszsBk1BjRF"
      }
    },
    {
      "cell_type": "markdown",
      "source": [
        "# Python para VFX (Efeitos Especiais) e 3D\n",
        "<small>*Material de apoio referente à aula Python para VFX da Escola de Data Science.*</small>\n",
        "<br><br>\n",
        "\n",
        "\n",
        "**A indústria audiovisual é uma indústria bilionária**, o que pode ser facilmente observado pelos valores investidos em filmes, seriados e jogos modernos.\n",
        "\n",
        "Incrivelmente, muitos profissionais de Ciência de Dados desconhecem esse mercado. Como você vai entender na aula, isso é um erro, uma vez que **os principais softwares usados no cinema, possuem algoritmos extremamente avançados e soluções de Visão Computacional e Deep Learning**, desenvolvidas pelos times de R&D das respectivas empresas.\n",
        "\n",
        "Ou seja, há equipes de cientistas e pesquisadores tentando acompanhar o **estado da arte em Inteligência Artificial** - o que também pode representar uma oportunidade.\n",
        "\n",
        "<img src=\"https://raw.githubusercontent.com/carlosfab/vfx-na-pratica/main/images//Screen Shot 2022-01-12 at 15.29.36.png\" width=600></center>\n",
        "\n",
        "Além disso, **Python é a linguagem utilizada no pipeline dos estúdios de VFX do mundo.** Softwares como Maya, Nuke, Cinema 4D e Houdini, possuem APIs nativas, que possibilizam a automação e criação de assets e efeitos diversos.\n",
        "\n",
        "## Visão Geral\n",
        "\n",
        "\"The Houdini Object Model (HOM) is an application programming interface (API) that lets you get information from and control Houdini using the Python scripting language. HOM replaces the functionality of Houdini’s previous command language, HScript.\"\n",
        "\n",
        "\"In Python, the hou package is the top of a hierarchy of modules, functions, and classes that define the HOM. The hou module is automatically imported when you are writing expressions in the parameter editor and in the hython command-line shell.\""
      ],
      "metadata": {
        "id": "1Cy_WlpVCOJU"
      }
    },
    {
      "cell_type": "code",
      "execution_count": 1,
      "metadata": {
        "colab": {
          "base_uri": "https://localhost:8080/",
          "height": 211
        },
        "id": "imEZIo7uAYaB",
        "outputId": "2f0f9e22-ce36-4919-f191-4ce616473df5"
      },
      "outputs": [
        {
          "output_type": "error",
          "ename": "NameError",
          "evalue": "name 'hou' is not defined",
          "traceback": [
            "\u001b[0;31m---------------------------------------------------------------------------\u001b[0m",
            "\u001b[0;31mNameError\u001b[0m                                 Traceback (most recent call last)",
            "\u001b[0;32m<ipython-input-1-0780a5208cf0>\u001b[0m in \u001b[0;36m<cell line: 2>\u001b[0;34m()\u001b[0m\n\u001b[1;32m      1\u001b[0m \u001b[0;31m# exemplo de como visualizar todos os nós em uma cena\u001b[0m\u001b[0;34m\u001b[0m\u001b[0;34m\u001b[0m\u001b[0m\n\u001b[0;32m----> 2\u001b[0;31m \u001b[0mnos\u001b[0m \u001b[0;34m=\u001b[0m \u001b[0mhou\u001b[0m\u001b[0;34m.\u001b[0m\u001b[0mnode\u001b[0m\u001b[0;34m(\u001b[0m\u001b[0;34m'/'\u001b[0m\u001b[0;34m)\u001b[0m\u001b[0;34m\u001b[0m\u001b[0;34m\u001b[0m\u001b[0m\n\u001b[0m\u001b[1;32m      3\u001b[0m \u001b[0;34m\u001b[0m\u001b[0m\n\u001b[1;32m      4\u001b[0m \u001b[0;32mfor\u001b[0m \u001b[0mchild\u001b[0m \u001b[0;32min\u001b[0m \u001b[0mnos\u001b[0m\u001b[0;34m.\u001b[0m\u001b[0mchildren\u001b[0m\u001b[0;34m(\u001b[0m\u001b[0;34m)\u001b[0m\u001b[0;34m:\u001b[0m\u001b[0;34m\u001b[0m\u001b[0;34m\u001b[0m\u001b[0m\n\u001b[1;32m      5\u001b[0m     \u001b[0mprint\u001b[0m\u001b[0;34m(\u001b[0m\u001b[0mchild\u001b[0m\u001b[0;34m.\u001b[0m\u001b[0mname\u001b[0m\u001b[0;34m(\u001b[0m\u001b[0;34m)\u001b[0m\u001b[0;34m)\u001b[0m\u001b[0;34m\u001b[0m\u001b[0;34m\u001b[0m\u001b[0m\n",
            "\u001b[0;31mNameError\u001b[0m: name 'hou' is not defined"
          ]
        }
      ],
      "source": [
        "# exemplo de como visualizar todos os nós em uma cena\n",
        "nos = hou.node('/')\n",
        "\n",
        "for child in nos.children():\n",
        "    print(child.name())"
      ]
    },
    {
      "cell_type": "code",
      "source": [
        "# como visualizar o frame atual\n",
        "hou.frame()\n",
        "\n",
        "# como limpar a sessão atual\n",
        "hou.hipFile.clear()\n",
        "\n",
        "# selecionar o context OBJ\n",
        "hou.node('/obj')\n",
        "\n",
        "# criar um node\n",
        "carlos = hou.node('/obj').createNode(\"geo\")\n",
        "\n",
        "# acessando atributos do objeto\n",
        "carlos.parm('tx')\n",
        "\n",
        "# checando o valor do atributo\n",
        "carlos.parm('tx').eval()\n",
        "\n",
        "# alterando o valor do atributo\n",
        "carlos.parm('tx').set(33)\n",
        "carlos.parm('tx').eval()"
      ],
      "metadata": {
        "colab": {
          "base_uri": "https://localhost:8080/",
          "height": 211
        },
        "id": "MQdhKxKzCbsE",
        "outputId": "1e8860df-9dbc-4e89-9bd9-560f3c843677"
      },
      "execution_count": 2,
      "outputs": [
        {
          "output_type": "error",
          "ename": "NameError",
          "evalue": "name 'hou' is not defined",
          "traceback": [
            "\u001b[0;31m---------------------------------------------------------------------------\u001b[0m",
            "\u001b[0;31mNameError\u001b[0m                                 Traceback (most recent call last)",
            "\u001b[0;32m<ipython-input-2-cfb8375e371c>\u001b[0m in \u001b[0;36m<cell line: 2>\u001b[0;34m()\u001b[0m\n\u001b[1;32m      1\u001b[0m \u001b[0;31m# como visualizar o frame atual\u001b[0m\u001b[0;34m\u001b[0m\u001b[0;34m\u001b[0m\u001b[0m\n\u001b[0;32m----> 2\u001b[0;31m \u001b[0mhou\u001b[0m\u001b[0;34m.\u001b[0m\u001b[0mframe\u001b[0m\u001b[0;34m(\u001b[0m\u001b[0;34m)\u001b[0m\u001b[0;34m\u001b[0m\u001b[0;34m\u001b[0m\u001b[0m\n\u001b[0m\u001b[1;32m      3\u001b[0m \u001b[0;34m\u001b[0m\u001b[0m\n\u001b[1;32m      4\u001b[0m \u001b[0;31m# como limpar a sessão atual\u001b[0m\u001b[0;34m\u001b[0m\u001b[0;34m\u001b[0m\u001b[0m\n\u001b[1;32m      5\u001b[0m \u001b[0mhou\u001b[0m\u001b[0;34m.\u001b[0m\u001b[0mhipFile\u001b[0m\u001b[0;34m.\u001b[0m\u001b[0mclear\u001b[0m\u001b[0;34m(\u001b[0m\u001b[0;34m)\u001b[0m\u001b[0;34m\u001b[0m\u001b[0;34m\u001b[0m\u001b[0m\n",
            "\u001b[0;31mNameError\u001b[0m: name 'hou' is not defined"
          ]
        }
      ]
    },
    {
      "cell_type": "markdown",
      "source": [
        "## Criando uma SOP Network\n"
      ],
      "metadata": {
        "id": "UXm4-EH4ClwK"
      }
    },
    {
      "cell_type": "code",
      "source": [
        "# construindo uma SOP Network\n",
        "\n",
        "hou.hipFile.clear()\n",
        "geo = hou.node('/obj').createNode('geo')\n",
        "box = geo.createNode('box')\n",
        "subd = geo.createNode('subdivide')\n",
        "subd.parm('iterations').set(3)\n",
        "subd.setFirstInput(box)\n",
        "subd.moveToGoodPosition()\n",
        "subd.setDisplayFlag(True)\n",
        "subd.setRenderFlag(True)\n",
        "subd.setCurrent(True, clear_all_selected=True)"
      ],
      "metadata": {
        "id": "sXlpD9FLCkvk",
        "outputId": "5184a1e0-80c3-47b9-e1d9-4359d76df485",
        "colab": {
          "base_uri": "https://localhost:8080/",
          "height": 211
        }
      },
      "execution_count": 3,
      "outputs": [
        {
          "output_type": "error",
          "ename": "NameError",
          "evalue": "name 'hou' is not defined",
          "traceback": [
            "\u001b[0;31m---------------------------------------------------------------------------\u001b[0m",
            "\u001b[0;31mNameError\u001b[0m                                 Traceback (most recent call last)",
            "\u001b[0;32m<ipython-input-3-d4e035a92d58>\u001b[0m in \u001b[0;36m<cell line: 3>\u001b[0;34m()\u001b[0m\n\u001b[1;32m      1\u001b[0m \u001b[0;31m# construindo uma SOP Network\u001b[0m\u001b[0;34m\u001b[0m\u001b[0;34m\u001b[0m\u001b[0m\n\u001b[1;32m      2\u001b[0m \u001b[0;34m\u001b[0m\u001b[0m\n\u001b[0;32m----> 3\u001b[0;31m \u001b[0mhou\u001b[0m\u001b[0;34m.\u001b[0m\u001b[0mhipFile\u001b[0m\u001b[0;34m.\u001b[0m\u001b[0mclear\u001b[0m\u001b[0;34m(\u001b[0m\u001b[0;34m)\u001b[0m\u001b[0;34m\u001b[0m\u001b[0;34m\u001b[0m\u001b[0m\n\u001b[0m\u001b[1;32m      4\u001b[0m \u001b[0mgeo\u001b[0m \u001b[0;34m=\u001b[0m \u001b[0mhou\u001b[0m\u001b[0;34m.\u001b[0m\u001b[0mnode\u001b[0m\u001b[0;34m(\u001b[0m\u001b[0;34m'/obj'\u001b[0m\u001b[0;34m)\u001b[0m\u001b[0;34m.\u001b[0m\u001b[0mcreateNode\u001b[0m\u001b[0;34m(\u001b[0m\u001b[0;34m'geo'\u001b[0m\u001b[0;34m)\u001b[0m\u001b[0;34m\u001b[0m\u001b[0;34m\u001b[0m\u001b[0m\n\u001b[1;32m      5\u001b[0m \u001b[0mbox\u001b[0m \u001b[0;34m=\u001b[0m \u001b[0mgeo\u001b[0m\u001b[0;34m.\u001b[0m\u001b[0mcreateNode\u001b[0m\u001b[0;34m(\u001b[0m\u001b[0;34m'box'\u001b[0m\u001b[0;34m)\u001b[0m\u001b[0;34m\u001b[0m\u001b[0;34m\u001b[0m\u001b[0m\n",
            "\u001b[0;31mNameError\u001b[0m: name 'hou' is not defined"
          ]
        }
      ]
    }
  ]
}