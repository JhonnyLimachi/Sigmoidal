{
  "nbformat": 4,
  "nbformat_minor": 0,
  "metadata": {
    "colab": {
      "provenance": [],
      "authorship_tag": "ABX9TyNZF6+za9BIyPAbd4evk4+7",
      "include_colab_link": true
    },
    "kernelspec": {
      "name": "python3",
      "display_name": "Python 3"
    },
    "language_info": {
      "name": "python"
    }
  },
  "cells": [
    {
      "cell_type": "markdown",
      "metadata": {
        "id": "view-in-github",
        "colab_type": "text"
      },
      "source": [
        "<a href=\"https://colab.research.google.com/github/JhonnyLimachi/Sigmoidal/blob/main/55_Python_para_VFX_(Efeitos_Especiais).ipynb\" target=\"_parent\"><img src=\"https://colab.research.google.com/assets/colab-badge.svg\" alt=\"Open In Colab\"/></a>"
      ]
    },
    {
      "cell_type": "markdown",
      "source": [
        "[Live do dia 23/12/2021](https://www.youtube.com/watch?v=MnyTOvR1zKQ)"
      ],
      "metadata": {
        "id": "9BI6h1XWAgjB"
      }
    },
    {
      "cell_type": "markdown",
      "source": [
        "[Live do dia 29/12/2021](https://www.youtube.com/watch?v=XMhJiqOIn4A)"
      ],
      "metadata": {
        "id": "FU1L1cg8A4sf"
      }
    },
    {
      "cell_type": "markdown",
      "source": [
        "[Live do dia 05/01/2022](https://www.youtube.com/watch?v=lcISA5FKnOA)"
      ],
      "metadata": {
        "id": "mca9wG6ABAuE"
      }
    },
    {
      "cell_type": "markdown",
      "source": [
        "[Live do dia 14/01 - Cenários 3D e Efeitos Especiais com Python ](https://www.youtube.com/watch?v=mS93IwhoOjk)"
      ],
      "metadata": {
        "id": "5SszsBk1BjRF"
      }
    },
    {
      "cell_type": "code",
      "execution_count": null,
      "metadata": {
        "id": "imEZIo7uAYaB"
      },
      "outputs": [],
      "source": []
    }
  ]
}