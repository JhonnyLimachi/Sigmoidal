{
  "nbformat": 4,
  "nbformat_minor": 0,
  "metadata": {
    "colab": {
      "provenance": [],
      "authorship_tag": "ABX9TyNq8E38DpQEALDyMFPWd7fV",
      "include_colab_link": true
    },
    "kernelspec": {
      "name": "python3",
      "display_name": "Python 3"
    },
    "language_info": {
      "name": "python"
    }
  },
  "cells": [
    {
      "cell_type": "markdown",
      "metadata": {
        "id": "view-in-github",
        "colab_type": "text"
      },
      "source": [
        "<a href=\"https://colab.research.google.com/github/JhonnyLimachi/Sigmoidal/blob/main/48_TensorFlow_e_Keras.ipynb\" target=\"_parent\"><img src=\"https://colab.research.google.com/assets/colab-badge.svg\" alt=\"Open In Colab\"/></a>"
      ]
    },
    {
      "cell_type": "markdown",
      "source": [
        "<img alt=\"Colaboratory logo\" width=\"15%\" src=\"https://raw.githubusercontent.com/carlosfab/escola-data-science/master/img/novo_logo_bg_claro.png\">\n",
        "\n",
        "#### **Data Science na Prática 3.0**\n",
        "*by [sigmoidal.ai](https://sigmoidal.ai)*\n",
        "\n",
        "---\n"
      ],
      "metadata": {
        "id": "X8bqhX_m-htD"
      }
    },
    {
      "cell_type": "markdown",
      "source": [
        "# TensorFlow\n",
        "\n",
        "<p align=\"center\"><img src=\"https://www.ambientelivre.com.br/images/logos_open_source/tensorflow_logo.png\" width=\"80%\"></p>\n",
        "\n",
        "TensorFlow é uma plataforma open-source de machine learning, desenvolvida e mantida pelo Google (primariamente).\n",
        "\n",
        "Trabalhando com uma estrutura conhecida como Tensores, permite tanto pesquisadores, engenheiros e analistas criarem suas arquiteturas de deep learning."
      ],
      "metadata": {
        "id": "R4G4TRM2-x_z"
      }
    },
    {
      "cell_type": "code",
      "execution_count": null,
      "metadata": {
        "id": "bgEdmnKy-PD6"
      },
      "outputs": [],
      "source": []
    }
  ]
}