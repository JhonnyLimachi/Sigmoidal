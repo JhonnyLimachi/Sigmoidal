{
  "nbformat": 4,
  "nbformat_minor": 0,
  "metadata": {
    "colab": {
      "provenance": [],
      "authorship_tag": "ABX9TyN0Zmrhj6WeFqLUGT4r6vBt",
      "include_colab_link": true
    },
    "kernelspec": {
      "name": "python3",
      "display_name": "Python 3"
    },
    "language_info": {
      "name": "python"
    }
  },
  "cells": [
    {
      "cell_type": "markdown",
      "metadata": {
        "id": "view-in-github",
        "colab_type": "text"
      },
      "source": [
        "<a href=\"https://colab.research.google.com/github/JhonnyLimachi/Sigmoidal/blob/main/41_4_%5BPROJETO%5D_Previs%C3%A3o_de_Demanda_(Time_Series_Forecasting).ipynb\" target=\"_parent\"><img src=\"https://colab.research.google.com/assets/colab-badge.svg\" alt=\"Open In Colab\"/></a>"
      ]
    },
    {
      "cell_type": "markdown",
      "source": [
        "<img alt=\"Colaboratory logo\" width=\"15%\" src=\"https://raw.githubusercontent.com/carlosfab/escola-data-science/master/img/novo_logo_bg_claro.png\">\n",
        "\n",
        "#### **Data Science na Prática 4.0**\n",
        "*by [sigmoidal.ai](https://sigmoidal.ai)*\n",
        "\n",
        "---"
      ],
      "metadata": {
        "id": "xvnFoBnsmr4S"
      }
    },
    {
      "cell_type": "markdown",
      "source": [
        "# Projeto de Previsão de Demanda (*Time Series Forecasting*)\n",
        "\n",
        "Baseado nos requisitos de uma [vaga real](https://www.linkedin.com/jobs/view/2435754417), vamos estruturar um problema na área, para que você possa ter um entendimento de como um projeto de Data Science pode acontecer no mundo real, e quem sabe até te ajudar a conseguir a vaga, que continua aberta até a data de hoje (01/04/2021).\n",
        "\n",
        "<center><img alt=\"Vaga\" width=\"50%\" src=\"https://github.com/rafaelnduarte/sigmoidal_data/blob/master/Screen%20Shot%202021-04-01%20at%2012.04.22.png?raw=true\"></center>\n",
        "\n",
        "> Basicamente, a empresa está desenvolvendo uma solução baseada em Machine Learning para ajudar lojas de vinho a fazer uma melhor gestão de seu estoque, o que inclui um modelo que faça previsão de demanda baseado em dados históricos de venda.\n",
        "\n",
        ">A necessidade específica deles é no *fine tuning* da parte de previsão de vendas, que leve em consideração os desafios únicos do universo do vinho e as necessidades específicas do produto deles.\n",
        "\n",
        "O que eles estão buscando:\n",
        "* Analisar grandes e complexos conjuntos de dados e identificar padrões significativos.\n",
        "* Habilidade de modelagem estatística e com modelos preditivos.\n",
        "* Conhecimento sobre Algoritmos de Machine Learning.\n",
        "\n",
        "> **Experiência com modelos preditivos similares e com a indústria do vinho é preferível.**\n"
      ],
      "metadata": {
        "id": "Q8gAUWJpmurw"
      }
    },
    {
      "cell_type": "markdown",
      "source": [
        "## Pontos Chave\n",
        "\n",
        "Alguns detalhes são especialmente importantes para o nosso projeto. Um deles é entender o que é a previsão de demanda.\n",
        "\n",
        "<center><img alt=\"Vaga\" width=\"50%\" src=\"https://images.unsplash.com/photo-1454165804606-c3d57bc86b40?ixid=MXwxMjA3fDB8MHxwaG90by1wYWdlfHx8fGVufDB8fHw%3D&ixlib=rb-1.2.1&auto=format&fit=crop&w=1350&q=80\"></center>\n",
        "\n",
        "\n",
        "> Previsão de Demanda é o processo de prever a demanda de consumidores para um determinado produto. Em termos simples, é a disposição de um cliente de comprar um produto a um determinado preço.\n",
        "\n",
        "Para isso, utilizamos dados históricos de vendas, e levamos outros fatores em consideração para prever qual será a demanda por determinados produtos em um determinado período."
      ],
      "metadata": {
        "id": "YWNUvH5KolzO"
      }
    },
    {
      "cell_type": "markdown",
      "source": [
        "## A Importância da Previsão de Demanda\n",
        "\n",
        "<center><img alt=\"Vaga\" width=\"50%\" src=\"https://images.unsplash.com/photo-1615822461480-f303cdb9cad8?ixid=MXwxMjA3fDB8MHxwaG90by1wYWdlfHx8fGVufDB8fHw%3D&ixlib=rb-1.2.1&auto=format&fit=crop&w=1267&q=80\"></center>\n",
        "\n",
        "\n",
        "Agora que sabemos o que é a Previsão de Demanda, precisamos entender qual o motivo pelo qual ela é necessária, e qual a importância desse tipo de análise.\n",
        "\n",
        "* **Preparar o orçamento**\n",
        "\n",
        "Nesse ponto, o foco é ajudar a reduzir os riscos e tomar decisões financeiras de forma mais inteligente. Dessa forma, temos um gerenciamento melhor de margens de lucro, fluxo de caixa, alocação de recursos, timing para projetos de expansão, custos operacionais, de pessoal e gastos gerais. Tudo isso leva em consideração a previsão de demanda.\n",
        "\n",
        "* **Planejar e Agendar a Produção**\n",
        "\n",
        "Não tão relevante no que tange o nosso projeto especificamente, mas é um fator importante caso a empresa para a qual a previsão é feita é a produtora do produto que vende. Isso nos ajuda a ter os produtos que os consumidores querem na hora que eles querem. Aqui, o desafio é mais em um ponto de vista de produção do que logístico.\n",
        "\n",
        "* **Planejamento de Estoque**\n",
        "\n",
        "Se no ponto anterior o foco era a produção, aqui sim estamos falando de logística. Aqui estamos falando não só de reposição, mas também de não desperdiçar espaço com um produto que não sai tão bem, perdendo espaço que poderia ser utilizado para um outro, com mais saída. Lembrando também que quanto mais estoque temos, mais caro é mantê-lo. Com vinhos, esse desafio ganha mais complexidade, já que são produtos muito delicados que não podem ficar expostos a luz, excesso ou falta de umidade, e principalmente temperatura. A temperatura precisa ser constante, e fresca, entre 10 a 15 graus, preferencialmente, para a maioria dos tipos de vinhos.\n",
        "\n",
        "* **Precificação e Promoções**\n",
        "\n",
        "Além de ajudar no aperfeiçoamento do calendário de produção e no gerenciamento de estoque, também ajuda a precificar os produtos baseado na sua demanda. Entendendo o mercado e as potenciais oportunidades os negócios podem crescer, formulando uma precificação competitiva, empregando as estratégias de marketing certas e investindo no crescimento.\n",
        "\n",
        "Ao levar isso em conta, você pode aproveitar o momento certo para colocar um item em promoção, ou então segurar e até aumentar o preço de determinado item que está em alta demanda, tendo sempre que ficar atento para a normalização da oferta."
      ],
      "metadata": {
        "id": "dYtXUY86oqcw"
      }
    },
    {
      "cell_type": "code",
      "execution_count": null,
      "metadata": {
        "id": "DFD7_dAomlms"
      },
      "outputs": [],
      "source": []
    }
  ]
}