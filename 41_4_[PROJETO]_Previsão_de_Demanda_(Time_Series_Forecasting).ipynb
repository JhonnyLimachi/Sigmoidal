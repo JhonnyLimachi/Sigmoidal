{
  "nbformat": 4,
  "nbformat_minor": 0,
  "metadata": {
    "colab": {
      "provenance": [],
      "authorship_tag": "ABX9TyMx9Hr0FLodgyUZXPHppL4n",
      "include_colab_link": true
    },
    "kernelspec": {
      "name": "python3",
      "display_name": "Python 3"
    },
    "language_info": {
      "name": "python"
    }
  },
  "cells": [
    {
      "cell_type": "markdown",
      "metadata": {
        "id": "view-in-github",
        "colab_type": "text"
      },
      "source": [
        "<a href=\"https://colab.research.google.com/github/JhonnyLimachi/Sigmoidal/blob/main/41_4_%5BPROJETO%5D_Previs%C3%A3o_de_Demanda_(Time_Series_Forecasting).ipynb\" target=\"_parent\"><img src=\"https://colab.research.google.com/assets/colab-badge.svg\" alt=\"Open In Colab\"/></a>"
      ]
    },
    {
      "cell_type": "markdown",
      "source": [
        "<img alt=\"Colaboratory logo\" width=\"15%\" src=\"https://raw.githubusercontent.com/carlosfab/escola-data-science/master/img/novo_logo_bg_claro.png\">\n",
        "\n",
        "#### **Data Science na Prática 4.0**\n",
        "*by [sigmoidal.ai](https://sigmoidal.ai)*\n",
        "\n",
        "---"
      ],
      "metadata": {
        "id": "xvnFoBnsmr4S"
      }
    },
    {
      "cell_type": "markdown",
      "source": [
        "# Projeto de Previsão de Demanda (*Time Series Forecasting*)\n",
        "\n",
        "Baseado nos requisitos de uma [vaga real](https://www.linkedin.com/jobs/view/2435754417), vamos estruturar um problema na área, para que você possa ter um entendimento de como um projeto de Data Science pode acontecer no mundo real, e quem sabe até te ajudar a conseguir a vaga, que continua aberta até a data de hoje (01/04/2021).\n",
        "\n",
        "<center><img alt=\"Vaga\" width=\"50%\" src=\"https://github.com/rafaelnduarte/sigmoidal_data/blob/master/Screen%20Shot%202021-04-01%20at%2012.04.22.png?raw=true\"></center>\n",
        "\n",
        "> Basicamente, a empresa está desenvolvendo uma solução baseada em Machine Learning para ajudar lojas de vinho a fazer uma melhor gestão de seu estoque, o que inclui um modelo que faça previsão de demanda baseado em dados históricos de venda.\n",
        "\n",
        ">A necessidade específica deles é no *fine tuning* da parte de previsão de vendas, que leve em consideração os desafios únicos do universo do vinho e as necessidades específicas do produto deles.\n",
        "\n",
        "O que eles estão buscando:\n",
        "* Analisar grandes e complexos conjuntos de dados e identificar padrões significativos.\n",
        "* Habilidade de modelagem estatística e com modelos preditivos.\n",
        "* Conhecimento sobre Algoritmos de Machine Learning.\n",
        "\n",
        "> **Experiência com modelos preditivos similares e com a indústria do vinho é preferível.**\n"
      ],
      "metadata": {
        "id": "Q8gAUWJpmurw"
      }
    },
    {
      "cell_type": "markdown",
      "source": [
        "## Pontos Chave\n",
        "\n",
        "Alguns detalhes são especialmente importantes para o nosso projeto. Um deles é entender o que é a previsão de demanda.\n",
        "\n",
        "<center><img alt=\"Vaga\" width=\"50%\" src=\"https://images.unsplash.com/photo-1454165804606-c3d57bc86b40?ixid=MXwxMjA3fDB8MHxwaG90by1wYWdlfHx8fGVufDB8fHw%3D&ixlib=rb-1.2.1&auto=format&fit=crop&w=1350&q=80\"></center>\n",
        "\n",
        "\n",
        "> Previsão de Demanda é o processo de prever a demanda de consumidores para um determinado produto. Em termos simples, é a disposição de um cliente de comprar um produto a um determinado preço.\n",
        "\n",
        "Para isso, utilizamos dados históricos de vendas, e levamos outros fatores em consideração para prever qual será a demanda por determinados produtos em um determinado período."
      ],
      "metadata": {
        "id": "YWNUvH5KolzO"
      }
    },
    {
      "cell_type": "markdown",
      "source": [
        "## A Importância da Previsão de Demanda\n",
        "\n",
        "<center><img alt=\"Vaga\" width=\"50%\" src=\"https://images.unsplash.com/photo-1615822461480-f303cdb9cad8?ixid=MXwxMjA3fDB8MHxwaG90by1wYWdlfHx8fGVufDB8fHw%3D&ixlib=rb-1.2.1&auto=format&fit=crop&w=1267&q=80\"></center>\n",
        "\n",
        "\n",
        "Agora que sabemos o que é a Previsão de Demanda, precisamos entender qual o motivo pelo qual ela é necessária, e qual a importância desse tipo de análise.\n",
        "\n",
        "* **Preparar o orçamento**\n",
        "\n",
        "Nesse ponto, o foco é ajudar a reduzir os riscos e tomar decisões financeiras de forma mais inteligente. Dessa forma, temos um gerenciamento melhor de margens de lucro, fluxo de caixa, alocação de recursos, timing para projetos de expansão, custos operacionais, de pessoal e gastos gerais. Tudo isso leva em consideração a previsão de demanda.\n",
        "\n",
        "* **Planejar e Agendar a Produção**\n",
        "\n",
        "Não tão relevante no que tange o nosso projeto especificamente, mas é um fator importante caso a empresa para a qual a previsão é feita é a produtora do produto que vende. Isso nos ajuda a ter os produtos que os consumidores querem na hora que eles querem. Aqui, o desafio é mais em um ponto de vista de produção do que logístico.\n",
        "\n",
        "* **Planejamento de Estoque**\n",
        "\n",
        "Se no ponto anterior o foco era a produção, aqui sim estamos falando de logística. Aqui estamos falando não só de reposição, mas também de não desperdiçar espaço com um produto que não sai tão bem, perdendo espaço que poderia ser utilizado para um outro, com mais saída. Lembrando também que quanto mais estoque temos, mais caro é mantê-lo. Com vinhos, esse desafio ganha mais complexidade, já que são produtos muito delicados que não podem ficar expostos a luz, excesso ou falta de umidade, e principalmente temperatura. A temperatura precisa ser constante, e fresca, entre 10 a 15 graus, preferencialmente, para a maioria dos tipos de vinhos.\n",
        "\n",
        "* **Precificação e Promoções**\n",
        "\n",
        "Além de ajudar no aperfeiçoamento do calendário de produção e no gerenciamento de estoque, também ajuda a precificar os produtos baseado na sua demanda. Entendendo o mercado e as potenciais oportunidades os negócios podem crescer, formulando uma precificação competitiva, empregando as estratégias de marketing certas e investindo no crescimento.\n",
        "\n",
        "Ao levar isso em conta, você pode aproveitar o momento certo para colocar um item em promoção, ou então segurar e até aumentar o preço de determinado item que está em alta demanda, tendo sempre que ficar atento para a normalização da oferta."
      ],
      "metadata": {
        "id": "dYtXUY86oqcw"
      }
    },
    {
      "cell_type": "markdown",
      "source": [
        "## Fatores que Influenciam a Demanda\n",
        "\n",
        "Entendendo a importância e o valor que esse tipo de trabalho pode trazer, é hora de começarmos a entender melhor como ele funciona, e com o que ficar atentos para fazer um trabalho minucioso.\n",
        "\n",
        "Primeiramente, vamos ter em mente que se trata de um problema de *Séries Temporais*, englobando todos os detalhes que esse tipo de problema traz, como a sazonalidade, atenção se a série é estacionária, etc.\n",
        "\n",
        "<center><img alt=\"Vaga\" width=\"40%\" src=\"https://images.unsplash.com/photo-1556742502-ec7c0e9f34b1?ixid=MXwxMjA3fDB8MHxwaG90by1wYWdlfHx8fGVufDB8fHw%3D&ixlib=rb-1.2.1&auto=format&fit=crop&w=668&q=80\"></center>\n",
        "\n",
        "Fora os detalhes inerentes de séries temporais, é necessário estar atento também a alguns fatores externos, que podem ou não ser alheios aos dados. São eles:\n",
        "\n",
        "* **A Competição**\n",
        "\n",
        "É muito importante estar atento aos seus competidores dentro do seu ambiente. Se você vende regionalmente para um público da sua região, se é na internet, entenda bem seu contexto, seus competidores e suas ofertas. Sejam novos competidores fortes ou uma nova solução que fazem seus clientes escolher entre você ou eles, é importante ajustar o modelo para que ele te ajude a entender esse movimento e se preparar para ele.\n",
        "\n",
        "* **Tipos de Produtos**\n",
        "\n",
        "Entender bem o seu tipo de produto, se são perecíveis, delicados, demandam um determinado tipo de armazenamento ou cuidado no transporte, tudo isso deve ser levado em consideração para prever a demanda. Também é muito importante entender o seu Lifetime Value, seu Ticket Médio, e os itens que normalmente são pedidos juntos para entender melhor como agrupar esses produtos, e fazer ofertas ainda melhor para aumentar seu retorno reccorente.\n",
        "\n",
        "* **Geografia**\n",
        "\n",
        "Aqui, como mencionamos na parte da competição, é importante entender o seu contexto geográfico, mesmo que você trabalhe pela internet, tendo atenção aos desafios logísticos de estoque e de entrega de produtos, dificuldades com transportadores, custos nesse sentido. É vital entender o tempo necessário para receber seu estoque e para entregar suas vendas, e tudo isso também cumpre um papel importante na sua previsão."
      ],
      "metadata": {
        "id": "iaHFPz_zpFCm"
      }
    },
    {
      "cell_type": "markdown",
      "source": [
        "## Objetivos da Previsão de Demanda\n",
        "\n",
        "\n",
        "<center><img alt=\"Vaga\" width=\"50%\" src=\"https://images.unsplash.com/photo-1543286386-2e659306cd6c?ixid=MXwxMjA3fDB8MHxwaG90by1wYWdlfHx8fGVufDB8fHw%3D&ixlib=rb-1.2.1&auto=format&fit=crop&w=1350&q=80\"></center>\n",
        "\n",
        "Algumas perguntas que esse tipo de trabalho pode responder:\n",
        "\n",
        "* Quão rapidamente os produtos estão sendo vendidos.\n",
        "*  Que itens estão demorando muito para vender.\n",
        "* Quantos dias de estoque ainda está disponível.\n",
        "* Onde os seus clientes estão vs de onde você está enviando os produtos\n",
        "* Rentabilidade por pedido, média de custo de envio e valor médio gasto pelos clientes.\n",
        "* Status diário de pedidos.\n",
        "* Como a demanda atual se compara com períodos anteriores.\n",
        "* Como suas vendas são afetadas pelos diferentes meses e estações.\n",
        "* Best-Sellers da loja e o quanto eles representam para o seu negócio.\n",
        "\n",
        "Entre outras, que podem vir como resultado dos processos investigativos com dados que nos levam a responder essas perguntas."
      ],
      "metadata": {
        "id": "8qQ3SQROpLzg"
      }
    },
    {
      "cell_type": "markdown",
      "source": [
        "## O Nosso Projeto\n",
        "\n",
        "<center><img alt=\"Vaga\" width=\"50%\" src=\"https://images.unsplash.com/photo-1578911373434-0cb395d2cbfb?ixlib=rb-1.2.1&ixid=MXwxMjA3fDB8MHxwaG90by1wYWdlfHx8fGVufDB8fHw%3D&auto=format&fit=crop&w=668&q=80\"></center>\n",
        "\n",
        "Aqui, nossa realidade é um pouco diferente. Como foi mencionado um projeto na área ou experiência na indústria do vinho seriam preferíveis, então tentaremos juntar os dois. A grande dificuldade é que conjuntos de dados sobre vinho é difícil de achar. Com venda de vinhos então, mais difícil ainda!!\n",
        "\n",
        "Por isso, esses dados são sintéticos, criados por mim para que possamos ter algo mais próximo com a realidade do projeto, mas algumas coisas precisamos levar em consideração:\n",
        "\n",
        "* A carta de vinhos, os produtos são reais, baseados na oferta real de um e-commerce de vinhos aqui no Brasil. Nomes, safras, e valores são 100% reais, convertidos pra Dólar para ter um apelo mais internacional.\n",
        "\n",
        "* O conjunto de dados de venda é baseado em uma competição no Kaggle. Lá, tínhamos 5 anos de vendas diárias, distribuídas por 10 lojas, com catálogo de 50 produtos. Eu alterei esse conjunto, e agora temos 3 anos de vendas diárias, distribuídos por 3 lojas com 219 produtos diferentes em estoque.\n",
        "\n",
        "Como os dados são 100% sintéticos, ou seja, foram fabricados a partir de outro conjunto, tendo sido para a maioria dos itens 100% forjados, isso vai trazer alguns pontos para o projeto:\n",
        "\n",
        "* Não vai nos trazer grandes indicativos que refletem a realidade daquele tipo de vinho. Claro que será a realidade do conjunto, mas, por exemplo, às vezes podemos ter que no nosso conjunto os rosés são o tipo de vinho mais vendido, representando apenas menos de 10% do portfólio da empresa, o que não faria sentido. Na realidade, em pouquíssimas regiões do mundo os Rosés seriam os mais vendidos, e se fossem, não teriam uma representativdade tão baixa no portfólio.\n",
        "\n",
        "* Podem prejudicar a sazonalidade e intereferir com a previsibilidade dos dados, por terem sido preenchidos de forma não orgânica.\n",
        "\n",
        "Outro ponto importante é que alguns dos vinhos no nosso conjunto de dados podem ter registro de vendas antes do seu lançamento. Por exemplo, em Janeiro de 2018 termos registro de vendas de um vinho 2019. Isso acontece, mais uma vez, devido ao nosso conjunto sintético.\n",
        "\n",
        "Mais um detalhe que na realidade pode fazer parte de um projeto como esse, é a descontinuidade de um produto. A safra 2015 uma hora vai acabar, e não podemos prever 10 anos de venda de um produto limitado, o que acrescenta mais um desafio nesse projeto. Esse detalhe não será um problema para nós que vamos tentar prever um período curto, mas para um trabalho contínuo, os dados precisam ser revistos com frequência!"
      ],
      "metadata": {
        "id": "HqBc8fMrpQon"
      }
    },
    {
      "cell_type": "markdown",
      "source": [
        "## Particularidade do Mundo do Vinho - Business Understanding\n",
        "\n",
        "Vinhos são bebidas vivas, que estão em constante evolução, e precisam das condições ideais para que mantenham sua personalidade, e não estraguem.\n",
        "\n",
        "Por isso, exigem cuidados especiais com a guarda e o transporte, para que o estoque não se perca, o que torna o objetivo desse projeto ainda mais importante, pois pode fazer mais diferença no lucro da empresa do que algumas outras áreas.\n",
        "<center><img alt=\"Vaga\" width=\"50%\" src=\"https://images.unsplash.com/photo-1596438214057-5ff7c7fa76b1?ixlib=rb-1.2.1&ixid=MXwxMjA3fDB8MHxwaG90by1wYWdlfHx8fGVufDB8fHw%3D&auto=format&fit=crop&w=1350&q=80\"></center>\n",
        "\n",
        "\n",
        "É necessário que se evite a luz solar, também devem ser mantidos em ambiente com certa umidade, mas sem excesso, e em temperatura constante. É mais importante que a temperatura seja constante do que qual é a temperatura. Normalmente o alvo é entre 10 e 15 graus, tendo variedade de acordo com o tipo de vinho.\n",
        "\n",
        "Também é importante evitar o movimento, tremores, vibrações, qualquer tipo de perturbação ao líquido, o que nos indica que o gerenciamento de estoque precisa ser feito de forma otimizada, a fim de não mexer nos vinhos mais do que o necessário. Se possível, é recomendado também que sejam mantidos na posição horizontal, o que também pode precisar ser levado em consideração ao planejar o depósito onde os vinhos ficarão.\n",
        "\n",
        "Também por isso, precisamos pensar em otimizar a rotatividade, para que o vinho passe o mínimo de tempo possível em uma posição que possa o deteriorar, sendo entregue aos clientes ainda em um estado excelente.\n",
        "\n",
        "Apesar de alguns vinhos ficarem sim melhores com o passar dos anos, a grande maioria é feita para consumo \"imediato\", desde o momento em que chegam ao mercado, até no máximo 1 a 3 anos. Por isso, é vital não ficar com vinhos empacados em estoque."
      ],
      "metadata": {
        "id": "UASs8FuppUcc"
      }
    },
    {
      "cell_type": "code",
      "execution_count": null,
      "metadata": {
        "id": "DFD7_dAomlms"
      },
      "outputs": [],
      "source": []
    }
  ]
}