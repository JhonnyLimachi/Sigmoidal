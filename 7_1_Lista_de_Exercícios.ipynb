{
  "nbformat": 4,
  "nbformat_minor": 0,
  "metadata": {
    "colab": {
      "provenance": [],
      "authorship_tag": "ABX9TyN6iV5B/ylDSnp4tXTn7eiS",
      "include_colab_link": true
    },
    "kernelspec": {
      "name": "python3",
      "display_name": "Python 3"
    },
    "language_info": {
      "name": "python"
    }
  },
  "cells": [
    {
      "cell_type": "markdown",
      "metadata": {
        "id": "view-in-github",
        "colab_type": "text"
      },
      "source": [
        "<a href=\"https://colab.research.google.com/github/JhonnyLimachi/Sigmoidal/blob/main/7_1_Lista_de_Exerc%C3%ADcios.ipynb\" target=\"_parent\"><img src=\"https://colab.research.google.com/assets/colab-badge.svg\" alt=\"Open In Colab\"/></a>"
      ]
    },
    {
      "cell_type": "markdown",
      "source": [
        "<img alt=\"Colaboratory logo\" width=\"15%\" src=\"https://raw.githubusercontent.com/carlosfab/escola-data-science/master/img/novo_logo_bg_claro.png\">\n",
        "\n",
        "#### **Data Science na Prática 4.0**\n",
        "*by [sigmoidal.ai](https://sigmoidal.ai)*"
      ],
      "metadata": {
        "id": "qDjdJ5HqsfHx"
      }
    },
    {
      "cell_type": "markdown",
      "source": [
        "# Lista de Exercícios\n",
        "\n",
        "A lista de exercícios tem por objetivo colocar a mão na massa e relembrar os conceitos que foram passados nas aulas anteriores.\n",
        "\n",
        "<center><img src=\"https://images.unsplash.com/photo-1542903660-eedba2cda473?ixid=MnwxMjA3fDB8MHxwaG90by1wYWdlfHx8fGVufDB8fHx8&ixlib=rb-1.2.1&auto=format&fit=crop&w=1050&q=80\" height=\"400px\"></center>\n",
        "\n",
        "Optei por não necessariamente seguir a sequencia das aulas, colocando os exercícios"
      ],
      "metadata": {
        "id": "4LkAhnsFs1Kw"
      }
    },
    {
      "cell_type": "markdown",
      "source": [
        "## Exercício 1\n",
        "\n",
        "* Importar o pacote Pandas\n",
        "* importar os dados de ocorrências da aviação civil neste link\n",
        "* Ver qual o tamanho (linhas x colunas) do *DataFrame*\n",
        "* Verificar as 5 primeiras"
      ],
      "metadata": {
        "id": "DIHNB3vOs40t"
      }
    },
    {
      "cell_type": "markdown",
      "source": [
        "**Importe o Pandas e importe os dados de ocorrências da aviação civil que se encontram em `csv` [neste link](https://raw.githubusercontent.com/carlosfab/dsnp2/master/datasets/ocorrencias_aviacao.csv).**"
      ],
      "metadata": {
        "id": "wY7TDFYdtCMV"
      }
    },
    {
      "cell_type": "code",
      "source": [],
      "metadata": {
        "id": "WDMjwYQ_tJAV"
      },
      "execution_count": null,
      "outputs": []
    },
    {
      "cell_type": "code",
      "execution_count": 1,
      "metadata": {
        "cellView": "form",
        "id": "bzFfn1CDsXDF"
      },
      "outputs": [],
      "source": [
        "#@title\n",
        "# importar pandas\n",
        "import pandas as pd\n",
        "\n",
        "# importar dados\n",
        "df = pd.read_csv(\"https://raw.githubusercontent.com/carlosfab/dsnp2/master/datasets/ocorrencias_aviacao.csv\")"
      ]
    }
  ]
}