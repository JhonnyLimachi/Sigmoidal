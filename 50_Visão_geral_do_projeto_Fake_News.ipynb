{
  "nbformat": 4,
  "nbformat_minor": 0,
  "metadata": {
    "colab": {
      "provenance": [],
      "authorship_tag": "ABX9TyPhff/OWVp/9QIqKDguzhv/",
      "include_colab_link": true
    },
    "kernelspec": {
      "name": "python3",
      "display_name": "Python 3"
    },
    "language_info": {
      "name": "python"
    }
  },
  "cells": [
    {
      "cell_type": "markdown",
      "metadata": {
        "id": "view-in-github",
        "colab_type": "text"
      },
      "source": [
        "<a href=\"https://colab.research.google.com/github/JhonnyLimachi/Sigmoidal/blob/main/50_Vis%C3%A3o_geral_do_projeto_Fake_News.ipynb\" target=\"_parent\"><img src=\"https://colab.research.google.com/assets/colab-badge.svg\" alt=\"Open In Colab\"/></a>"
      ]
    },
    {
      "cell_type": "markdown",
      "source": [
        "---\n",
        "<img alt=\"Colaboratory logo\" width=\"15%\" src=\"https://raw.githubusercontent.com/carlosfab/escola-data-science/master/img/novo_logo_bg_claro.png\">\n",
        "\n",
        "#### **Data Science na Prática 3.0**\n",
        "*by [sigmoidal.ai](https://sigmoidal.ai)*  \n",
        "\n",
        "---"
      ],
      "metadata": {
        "id": "qIsWjTkP-YvB"
      }
    },
    {
      "cell_type": "markdown",
      "source": [
        "# Classificador de Fake News\n",
        "\n",
        "\n",
        "Vivemos na era digital, onde a informação está mais acessível do que nunca, e continua ficando cada vez mais acessível, de forma mais ágil e ampla.\n",
        "\n",
        "Apesar dos benefícios que isso traz, também existem problemas e riscos com isso. Aqui, vamos nos preocupar com um dos maiores deles: ***Fake News***\n",
        "<p align=center>\n",
        "  <img src=\"https://image.freepik.com/free-photo/woman-reading-newspaper_53876-13446.jpg\" height=\"30%\">\n",
        "</p>\n",
        "\n",
        "Com certeza você já se deparou com uma dessas. Em uma era de informação, a desinformação acaba sendo o nosso maior problema.\n",
        "\n",
        "Em suma, ***Fake News*** são, como a tradução literal sugere, Notícias Falsas. Elas podem ir desde um número diferente em uma estatística apresentada, até a notícia de uma acontecimento completamente falso."
      ],
      "metadata": {
        "id": "kvZH2q4f-bli"
      }
    },
    {
      "cell_type": "markdown",
      "source": [
        "## Como isso influencia nossa vida?\n",
        "\n",
        "Como de costume, nós tendemos a acreditar nos grandes veículos de mídia, ou de pessoas do nosso ciclo de amigos que nos encaminham notícias em redes sociais. Dessa forma, criamos o hábito de não checar nossas fontes, e assim, acreditamos e disseminamos notícias falsas, às vezes sem nem saber.\n",
        "\n",
        "Isso se torna um grande problema quando afeta o resultado de algo importante no bem comum de nossa sociedade, como resultados de eleições, opinião pública sobre determinados projetos, políticas públicas, e até pessoas públicas, sejam elas do meio político, artístico, jornalístico, ou qualquer outro."
      ],
      "metadata": {
        "id": "x4-20sQ6-kb3"
      }
    },
    {
      "cell_type": "markdown",
      "source": [
        "## O Projeto\n",
        "\n",
        "Hoje em dia, podemos contar com ferramentas que nos ajudem a identificar e filtrar notícias falsas. Com técnicas de *Machine Learninr* como **Redes Neurais** essa tarefa de vasculhar diversas fontes de notícias para descobrir o que é falso e o que é factual fica mais fácil.\n",
        "\n",
        "> O objetivo do projeto é treinar um modelo que seja capaz de classificar notícias, com a melhor acurácia possível, entre falsas ou factuais.\n",
        "\n",
        "Para isso, usaremos a biblioteca ***Tensorflow*** para treinar Redes Neurais que façam esse trabalho por nós."
      ],
      "metadata": {
        "id": "n-Gm3NF5-ps5"
      }
    },
    {
      "cell_type": "code",
      "source": [
        "# importando os pacotes necessarios\n",
        "import pandas as pd\n",
        "import numpy as np\n",
        "import matplotlib.pyplot as plt\n",
        "import seaborn as sns\n",
        "%tensorflow_version 2.x\n",
        "import tensorflow as tf\n",
        "from tensorflow import keras\n",
        "\n",
        "# configurando o noteebook\n",
        "np.random.seed(42)\n",
        "sns.set_style()\n",
        "\n",
        "# filtrar mensagens de warning\n",
        "import warnings\n",
        "warnings.filterwarnings('ignore')\n"
      ],
      "metadata": {
        "colab": {
          "base_uri": "https://localhost:8080/"
        },
        "id": "a-vGO6hK-tog",
        "outputId": "dd2297af-f0a7-46ee-b4f6-c77e37fa2c00"
      },
      "execution_count": 1,
      "outputs": [
        {
          "output_type": "stream",
          "name": "stdout",
          "text": [
            "Colab only includes TensorFlow 2.x; %tensorflow_version has no effect.\n"
          ]
        }
      ]
    },
    {
      "cell_type": "markdown",
      "source": [
        "# ATENÇÃO\n",
        "\n",
        "O conjunto de dados deste notebook não está mais disponível.\n",
        "\n",
        "Para realizar a sua versão do projeto, [clique aqui e faça o download do conjunto de dados](https://www.kaggle.com/competitions/fake-news/data)."
      ],
      "metadata": {
        "id": "hjhTX6tS-52A"
      }
    },
    {
      "cell_type": "code",
      "execution_count": null,
      "metadata": {
        "id": "TLN_k8iR-Xt4"
      },
      "outputs": [],
      "source": []
    }
  ]
}