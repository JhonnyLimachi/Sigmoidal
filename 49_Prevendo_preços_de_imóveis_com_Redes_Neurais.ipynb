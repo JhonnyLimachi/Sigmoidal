{
  "nbformat": 4,
  "nbformat_minor": 0,
  "metadata": {
    "colab": {
      "provenance": [],
      "authorship_tag": "ABX9TyN8WS0OInKwOLWGto+rZh23",
      "include_colab_link": true
    },
    "kernelspec": {
      "name": "python3",
      "display_name": "Python 3"
    },
    "language_info": {
      "name": "python"
    }
  },
  "cells": [
    {
      "cell_type": "markdown",
      "metadata": {
        "id": "view-in-github",
        "colab_type": "text"
      },
      "source": [
        "<a href=\"https://colab.research.google.com/github/JhonnyLimachi/Sigmoidal/blob/main/49_Prevendo_pre%C3%A7os_de_im%C3%B3veis_com_Redes_Neurais.ipynb\" target=\"_parent\"><img src=\"https://colab.research.google.com/assets/colab-badge.svg\" alt=\"Open In Colab\"/></a>"
      ]
    },
    {
      "cell_type": "markdown",
      "source": [
        "<img alt=\"Colaboratory logo\" width=\"15%\" src=\"https://raw.githubusercontent.com/carlosfab/escola-data-science/master/img/novo_logo_bg_claro.png\">\n",
        "\n",
        "#### **Data Science na Prática 3.0**\n",
        "*by [sigmoidal.ai](https://sigmoidal.ai)*\n",
        "\n",
        "---\n"
      ],
      "metadata": {
        "id": "9EZR8HjuyXbf"
      }
    },
    {
      "cell_type": "markdown",
      "source": [
        "# Prevendo preços de imóveis com Redes Neurais\n",
        "\n",
        "Para demonstrar como as redes neurais podem ser usadas para um problema de regressão, para prever preços de venda de imóveis, vou usar o conhecido *dataset* California housing.\n",
        "\n",
        "<center><img src=\"https://www.wartsila.com/images/default-source/default-album/california_housing.tmb-1920x690.jpg?sfvrsn=126bc44_1\" width=\"80%\"></center>\n",
        "\n",
        "\n",
        "\n",
        "A maneira que iremos construir a arquitetura de redes neurais é por meio da API `Sequential` do `keras`.\n"
      ],
      "metadata": {
        "id": "1w2UBAPu08Si"
      }
    },
    {
      "cell_type": "code",
      "execution_count": 1,
      "metadata": {
        "colab": {
          "base_uri": "https://localhost:8080/"
        },
        "id": "sM4EkkPWxnPt",
        "outputId": "89c5a2ba-aa8e-4a16-da37-7b99a4d66d88"
      },
      "outputs": [
        {
          "output_type": "stream",
          "name": "stdout",
          "text": [
            "Colab only includes TensorFlow 2.x; %tensorflow_version has no effect.\n"
          ]
        }
      ],
      "source": [
        "# importar as bibliotecas necessárias\n",
        "%tensorflow_version 2.x\n",
        "import tensorflow as tf\n",
        "from tensorflow import keras\n",
        "from sklearn.model_selection import train_test_split\n",
        "from sklearn.preprocessing import StandardScaler\n",
        "import pandas as pd"
      ]
    },
    {
      "cell_type": "markdown",
      "source": [
        "Uma vez importados todos os pacotes necessários, é hora de carregarmos os dados e começarmos o nosso projeto!\n",
        "\n",
        "Para isso, utilizaremos um dataset do próprio `sklearn.dataset`, o `California Housing`."
      ],
      "metadata": {
        "id": "Xs3qU6UV1tQT"
      }
    },
    {
      "cell_type": "code",
      "source": [
        "# baixar os dados\n",
        "from sklearn.datasets import fetch_california_housing\n",
        "housing = fetch_california_housing()\n",
        "feature_names = housing['feature_names']\n",
        "feature_names.append('Target')"
      ],
      "metadata": {
        "id": "aCG_-2Hq10qn"
      },
      "execution_count": 2,
      "outputs": []
    }
  ]
}