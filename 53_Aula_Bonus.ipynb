{
  "nbformat": 4,
  "nbformat_minor": 0,
  "metadata": {
    "colab": {
      "provenance": [],
      "authorship_tag": "ABX9TyNmrdGfHvwxJ1582/Fh8RiZ",
      "include_colab_link": true
    },
    "kernelspec": {
      "name": "python3",
      "display_name": "Python 3"
    },
    "language_info": {
      "name": "python"
    }
  },
  "cells": [
    {
      "cell_type": "markdown",
      "metadata": {
        "id": "view-in-github",
        "colab_type": "text"
      },
      "source": [
        "<a href=\"https://colab.research.google.com/github/JhonnyLimachi/Sigmoidal/blob/main/53_Aula_Bonus.ipynb\" target=\"_parent\"><img src=\"https://colab.research.google.com/assets/colab-badge.svg\" alt=\"Open In Colab\"/></a>"
      ]
    },
    {
      "cell_type": "markdown",
      "source": [
        "## **Técnicas Práticas para Desenvolver sua Habilidade de Comunicação**\n",
        "\n",
        "Esta é uma aula bônus da Escola de Data Science (EDS), liberada como material extra no curso Data Science na Prática.\n",
        "\n",
        "Já sentiu medo de falar em público? Sente que pode melhorar na assertividade ao se comunicar com as pessoas no dia a dia?\n",
        "\n",
        "Nessa palestra vou abordar técnicas práticas que vão melhorar instantaneamente sua habilidade, compartilhando um pouco do que aprendi na minha jornada como profissional de tecnologia e em paralelo como professora de oratória.\n",
        "\n",
        "Embasado em aspectos fisiológicos, muita prática e estudos científicos, te ensinarei a dominar os componentes vocais, verbais e corporais que interferem diretamente na nossa comunicação a todo\n",
        "\n",
        "## **Aula com Thaissa Candella**\n",
        "\n",
        "[Perfil da Thaíssa no LinkedIn](https://www.linkedin.com/in/thaissacandella/?locale=en_US)\n",
        "\n",
        "\n",
        "[Perfil da Thaíssa no Instagram](https://www.instagram.com/thaissacandella/)"
      ],
      "metadata": {
        "id": "YtqGMW4m65mD"
      }
    },
    {
      "cell_type": "markdown",
      "source": [
        "## **LinkedIn 101 - Como se posicionar em inglês na internet**\n",
        "\n",
        "Links úteis:\n",
        "\n",
        "[How to Write a Perfect Resume - Priwoo](https://priwoo.com/how-to-write-a-perfect-resume/)\n",
        "\n",
        "[Resume Formats - Priwoo](https://priwoo.com/blog/resume-formats/)\n",
        "\n",
        "[Como Escrever o Currículo Perfeito](https://www.estagiotrainee.com/curriculo)\n",
        "\n",
        "[Resume Templates - Resume Genius](https://resumegenius.com/resume-samples)\n",
        "\n",
        "[What Will Make You Stand Out on LinkedIn in 2021](https://www.semrush.com/blog/what-will-make-you-stand-out-on-linkedin-in-2020/)\n",
        "\n",
        "[How to Use LinkedIn to Your Advantage - Forbes](https://www.forbes.com/sites/ashleystahl/2020/01/29/how-to-use-linkedin-to-your-advantage-tips-to-build-career-success/?sh=668029cc4035)\n",
        "\n",
        "[Template de Mensagens Para Novas Conexões no LinkedIn](https://www.themuse.com/advice/want-people-to-accept-your-linkedin-requests-use-these-10-templates)\n",
        "\n",
        "[5 Rules for Asking LinkedIn Connections for Help ](https://www.themuse.com/advice/5-rules-for-asking-your-linkedin-connections-for-help)\n",
        "\n",
        "[Templates for the Perfect Cover Letter - Harvard](https://www.cnbc.com/2019/07/23/example-of-the-perfect-cover-letter-according-to-harvard-career-experts.html)\n",
        "\n",
        "[How to Write a Cover Letter - Zety](https://zety.com/blog/how-to-write-a-cover-letter)\n",
        "\n",
        "[How to Write the Perfect Cover Letter - Glassdoor](ttps://www.glassdoor.com/blog/how-to-write-perfect-cover-letter/)\n",
        "\n",
        "[Cover Letter Templates - Resume Genius](https://resumegenius.com/cover-letter-examples)"
      ],
      "metadata": {
        "id": "3Oj8L6Xo-V_g"
      }
    },
    {
      "cell_type": "markdown",
      "source": [
        "## **GeoAI com Spatial Hackers**"
      ],
      "metadata": {
        "id": "F25qHpp2BoIt"
      }
    },
    {
      "cell_type": "code",
      "execution_count": null,
      "metadata": {
        "id": "qRzRFr_55T_c"
      },
      "outputs": [],
      "source": []
    }
  ]
}