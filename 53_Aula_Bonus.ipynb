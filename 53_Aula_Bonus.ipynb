{
  "nbformat": 4,
  "nbformat_minor": 0,
  "metadata": {
    "colab": {
      "provenance": [],
      "authorship_tag": "ABX9TyNRkBeaTf/wFO+ds15nsL5t",
      "include_colab_link": true
    },
    "kernelspec": {
      "name": "python3",
      "display_name": "Python 3"
    },
    "language_info": {
      "name": "python"
    }
  },
  "cells": [
    {
      "cell_type": "markdown",
      "metadata": {
        "id": "view-in-github",
        "colab_type": "text"
      },
      "source": [
        "<a href=\"https://colab.research.google.com/github/JhonnyLimachi/Sigmoidal/blob/main/53_Aula_Bonus.ipynb\" target=\"_parent\"><img src=\"https://colab.research.google.com/assets/colab-badge.svg\" alt=\"Open In Colab\"/></a>"
      ]
    },
    {
      "cell_type": "markdown",
      "source": [
        "## **Técnicas Práticas para Desenvolver sua Habilidade de Comunicação**\n",
        "\n",
        "Esta é uma aula bônus da Escola de Data Science (EDS), liberada como material extra no curso Data Science na Prática.\n",
        "\n",
        "Já sentiu medo de falar em público? Sente que pode melhorar na assertividade ao se comunicar com as pessoas no dia a dia?\n",
        "\n",
        "Nessa palestra vou abordar técnicas práticas que vão melhorar instantaneamente sua habilidade, compartilhando um pouco do que aprendi na minha jornada como profissional de tecnologia e em paralelo como professora de oratória.\n",
        "\n",
        "Embasado em aspectos fisiológicos, muita prática e estudos científicos, te ensinarei a dominar os componentes vocais, verbais e corporais que interferem diretamente na nossa comunicação a todo\n",
        "\n",
        "## **Aula com Thaissa Candella**\n",
        "\n",
        "Perfil da Thaíssa no LinkedIn\n",
        "\n",
        "Perfil da Thaíssa no Instagram"
      ],
      "metadata": {
        "id": "YtqGMW4m65mD"
      }
    },
    {
      "cell_type": "code",
      "execution_count": null,
      "metadata": {
        "id": "qRzRFr_55T_c"
      },
      "outputs": [],
      "source": []
    }
  ]
}