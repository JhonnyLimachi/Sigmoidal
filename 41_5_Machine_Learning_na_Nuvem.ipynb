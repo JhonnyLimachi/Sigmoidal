{
  "nbformat": 4,
  "nbformat_minor": 0,
  "metadata": {
    "colab": {
      "provenance": [],
      "authorship_tag": "ABX9TyPKH1hhrFVEDStJ9Hj9M26A",
      "include_colab_link": true
    },
    "kernelspec": {
      "name": "python3",
      "display_name": "Python 3"
    },
    "language_info": {
      "name": "python"
    }
  },
  "cells": [
    {
      "cell_type": "markdown",
      "metadata": {
        "id": "view-in-github",
        "colab_type": "text"
      },
      "source": [
        "<a href=\"https://colab.research.google.com/github/JhonnyLimachi/Sigmoidal/blob/main/41_5_Machine_Learning_na_Nuvem.ipynb\" target=\"_parent\"><img src=\"https://colab.research.google.com/assets/colab-badge.svg\" alt=\"Open In Colab\"/></a>"
      ]
    },
    {
      "cell_type": "markdown",
      "source": [
        "## **1. O que é ML na Nuvem?**\n",
        "\n",
        "Links úteis:\n",
        "\n",
        "[Google Colab Pro](https://colab.research.google.com/signup?utm_source=resource_tab&utm_medium=link&utm_campaign=want_more_resources)\n",
        "\n",
        "[AWS](https://us-east-2.console.aws.amazon.com/console/home?region=us-east-2)\n",
        "\n",
        "[Google Cloud](https://console.cloud.google.com/freetrial/signup/tos?_ga=2.141658486.578943218.1631545276-1623915060.1631545276&_gac=1.156838345.1631577664.CjwKCAjw7fuJBhBdEiwA2lLMYVZy2icKInWOLk0U3xkxZCqDbzBQ8IZ3ap8fz9JUna4PSAktb2DCZhoC8sEQAvD_BwE&pli=1)\n",
        "\n",
        "[Microsoft Azure](https://azure.microsoft.com/en-us/)\n",
        "\n",
        "[Benefits of Machine Learning in the Cloud](https://cloudacademy.com/blog/what-are-the-benefits-of-machine-learning-in-the-cloud/)"
      ],
      "metadata": {
        "id": "R_sO1sath7P_"
      }
    },
    {
      "cell_type": "markdown",
      "source": [
        "## **2. Local vs Cloud**\n",
        "\n",
        "Links úteis:\n",
        "\n",
        "[Google Colab Pro](https://colab.research.google.com/signup?utm_source=resource_tab&utm_medium=link&utm_campaign=want_more_resources)\n",
        "\n",
        "[AWS](https://us-east-2.console.aws.amazon.com/console/home?region=us-east-2)\n",
        "\n",
        "[Google Cloud](https://console.cloud.google.com/freetrial/signup/tos?_ga=2.141658486.578943218.1631545276-1623915060.1631545276&_gac=1.156838345.1631577664.CjwKCAjw7fuJBhBdEiwA2lLMYVZy2icKInWOLk0U3xkxZCqDbzBQ8IZ3ap8fz9JUna4PSAktb2DCZhoC8sEQAvD_BwE&pli=1)\n",
        "\n",
        "[Microsoft Azure](https://azure.microsoft.com/en-us/)\n",
        "\n",
        "[Benefits of Machine Learning in the Cloud](https://cloudacademy.com/blog/what-are-the-benefits-of-machine-learning-in-the-cloud/)"
      ],
      "metadata": {
        "id": "S-JCn01TjFJW"
      }
    },
    {
      "cell_type": "markdown",
      "source": [
        "## **3. Principais Plataformas**\n",
        "\n",
        "Links úteis:\n",
        "\n",
        "[Google Colab Pro](https://colab.research.google.com/signup?utm_source=resource_tab&utm_medium=link&utm_campaign=want_more_resources)\n",
        "\n",
        "[AWS](https://us-east-2.console.aws.amazon.com/console/home?region=us-east-2)\n",
        "\n",
        "[Google Cloud](https://console.cloud.google.com/freetrial/signup/tos?_ga=2.141658486.578943218.1631545276-1623915060.1631545276&_gac=1.156838345.1631577664.CjwKCAjw7fuJBhBdEiwA2lLMYVZy2icKInWOLk0U3xkxZCqDbzBQ8IZ3ap8fz9JUna4PSAktb2DCZhoC8sEQAvD_BwE&pli=1)\n",
        "\n",
        "[Microsoft Azure](https://azure.microsoft.com/en-us/)\n",
        "\n",
        "[Benefits of Machine Learning in the Cloud](https://cloudacademy.com/blog/what-are-the-benefits-of-machine-learning-in-the-cloud/)"
      ],
      "metadata": {
        "id": "958wCQM9kRCh"
      }
    },
    {
      "cell_type": "markdown",
      "source": [
        "## **4. Configurando Google Cloud no Colab**\n",
        "\n",
        "O Google Colab tem nos ajudado muito até aqui! Já vimos, também, que ele tem uma versão Pro, com muito mais poder! Mas e se você quisesse ter mais capacidade computacional para um projeto aqui e outro ali, nada que justifique o investimento no Pro, mas ainda extrapolando as capacidades do Colab e da sua máquina? É aqui que entra o Google Cloud!\n",
        "\n",
        "\n",
        "\n",
        "Normalmente, criamos essa instância, e aproveitamos dessa VM em um Notebook local, por exemplo. Mas e se você não quiser abrir mão de toda a versatilidade, facilidade de compartilhamento e todos os outros benefícios do Colab? É possível conectar uma instância do Google Cloud ao seu Colab! Veja como aqui.\n",
        "\n",
        "\n",
        "\n",
        "Lembre-se: Para que esse método funcione, é necessário que a sua máquina já esteja configurada a fim de abrir um Jupyter Notebook local. Caso esse não seja o seu caso, instalar e configurar o Anaconda já vai resolver.\n",
        "\n",
        "\n",
        "\n",
        "Lembre-se também de utilizar os comandos corretos!\n",
        "\n",
        "\n",
        "\n",
        "Lista de comandos para o terminal, após a configuração do Google SDK\n",
        "\n",
        "gcloud init\n",
        "\n",
        "pip install jupyter_http_over_ws\n",
        "\n",
        "jupyter serverextension enable --py jupyter_http_over_ws\n",
        "\n",
        "jupyter notebook \\\n",
        "\n",
        "  --NotebookApp.allow_origin='https://colab.research.google.com' \\\n",
        "\n",
        "  --port=8081 \\\n",
        "\n",
        "  --NotebookApp.port_retries=0 \\\n",
        "\n",
        "  --no-browser\n",
        "\n",
        "\n",
        "Links úteis:\n",
        "\n",
        "[Google Cloud SDK](https://cloud.google.com/sdk/docs/install-sdk)\n",
        "\n",
        "[Google Cloud Platform](https://cloud.google.com/?utm_source=google&utm_medium=cpc&utm_campaign=latam-BR-all-pt-dr-BKWS-all-all-trial-e-dr-1009897-LUAC0010101&utm_content=text-ad-none-any-DEV_c-CRE_512285710731-ADGP_Hybrid+%7C+BKWS+-+EXA+%7C+Txt+~+GCP_General-KWID_43700062788251521-kwd-301173107424&utm_term=KW_google+cloud-ST_Google+Cloud&gclid=CjwKCAjw7rWKBhAtEiwAJ3CWLF4Tg0ekxO3I_4u0VRRd_BVhkvlIIO67a4Kbwu2hije4R52PoVwXzhoCwHoQAvD_BwE&gclsrc=aw.ds&hl=en)\n",
        "\n"
      ],
      "metadata": {
        "id": "jMeuaw3gkmU6"
      }
    },
    {
      "cell_type": "code",
      "execution_count": null,
      "metadata": {
        "id": "yw79z7wph2Hy"
      },
      "outputs": [],
      "source": []
    }
  ]
}