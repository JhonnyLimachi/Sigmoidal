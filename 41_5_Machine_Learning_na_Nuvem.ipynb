{
  "nbformat": 4,
  "nbformat_minor": 0,
  "metadata": {
    "colab": {
      "provenance": [],
      "authorship_tag": "ABX9TyMCVJR4SyBKqsUw+NWI+c0m",
      "include_colab_link": true
    },
    "kernelspec": {
      "name": "python3",
      "display_name": "Python 3"
    },
    "language_info": {
      "name": "python"
    }
  },
  "cells": [
    {
      "cell_type": "markdown",
      "metadata": {
        "id": "view-in-github",
        "colab_type": "text"
      },
      "source": [
        "<a href=\"https://colab.research.google.com/github/JhonnyLimachi/Sigmoidal/blob/main/41_5_Machine_Learning_na_Nuvem.ipynb\" target=\"_parent\"><img src=\"https://colab.research.google.com/assets/colab-badge.svg\" alt=\"Open In Colab\"/></a>"
      ]
    },
    {
      "cell_type": "markdown",
      "source": [
        "## **1. O que é ML na Nuvem?**\n",
        "\n",
        "Links úteis:\n",
        "\n",
        "[Google Colab Pro](https://colab.research.google.com/signup?utm_source=resource_tab&utm_medium=link&utm_campaign=want_more_resources)\n",
        "\n",
        "[AWS](https://us-east-2.console.aws.amazon.com/console/home?region=us-east-2)\n",
        "\n",
        "[Google Cloud](https://console.cloud.google.com/freetrial/signup/tos?_ga=2.141658486.578943218.1631545276-1623915060.1631545276&_gac=1.156838345.1631577664.CjwKCAjw7fuJBhBdEiwA2lLMYVZy2icKInWOLk0U3xkxZCqDbzBQ8IZ3ap8fz9JUna4PSAktb2DCZhoC8sEQAvD_BwE&pli=1)\n",
        "\n",
        "[Microsoft Azure](https://azure.microsoft.com/en-us/)\n",
        "\n",
        "[Benefits of Machine Learning in the Cloud](https://cloudacademy.com/blog/what-are-the-benefits-of-machine-learning-in-the-cloud/)"
      ],
      "metadata": {
        "id": "R_sO1sath7P_"
      }
    },
    {
      "cell_type": "code",
      "execution_count": null,
      "metadata": {
        "id": "yw79z7wph2Hy"
      },
      "outputs": [],
      "source": []
    }
  ]
}