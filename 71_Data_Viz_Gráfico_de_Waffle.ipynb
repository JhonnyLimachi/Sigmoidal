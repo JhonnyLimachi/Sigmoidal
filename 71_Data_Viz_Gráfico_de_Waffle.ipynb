{
  "nbformat": 4,
  "nbformat_minor": 0,
  "metadata": {
    "colab": {
      "provenance": [],
      "authorship_tag": "ABX9TyN6hbAveA7VYVgUlsDQRk49",
      "include_colab_link": true
    },
    "kernelspec": {
      "name": "python3",
      "display_name": "Python 3"
    },
    "language_info": {
      "name": "python"
    }
  },
  "cells": [
    {
      "cell_type": "markdown",
      "metadata": {
        "id": "view-in-github",
        "colab_type": "text"
      },
      "source": [
        "<a href=\"https://colab.research.google.com/github/JhonnyLimachi/Sigmoidal/blob/main/71_Data_Viz_Gr%C3%A1fico_de_Waffle.ipynb\" target=\"_parent\"><img src=\"https://colab.research.google.com/assets/colab-badge.svg\" alt=\"Open In Colab\"/></a>"
      ]
    },
    {
      "cell_type": "markdown",
      "source": [
        "<img alt=\"Colaboratory logo\" width=\"15%\" src=\"https://raw.githubusercontent.com/carlosfab/escola-data-science/master/img/novo_logo_bg_claro.png\">\n",
        "\n",
        "#### **Visualização de Dados com Python**\n",
        "*by [sigmoidal.ai](https://sigmoidal.ai)*\n",
        "\n",
        "---"
      ],
      "metadata": {
        "id": "2D3y-8sLppPO"
      }
    },
    {
      "cell_type": "markdown",
      "source": [
        "# Gráfico de Waffle\n",
        "\n",
        "Se o nome não é familiar, com certeza você já viu vários exemplos de *waffle charts* em sites, revistas e jornais, pois eles não apenas transmitem informações claramente, mas são visualmente mais impactantes que gráficos de barras ou pizza.\n",
        "\n",
        "<img src=\"http://sigmoidal.ai/wp-content/uploads/2019/10/grafico_de_waffle.png\" height=\"250px\">\n",
        "\n",
        "A figura acima mostra como a biblioteca `pywaffle` foi usada para mostrar pictorialmente o resultado das eleições dos EUA em 2016.\n",
        "\n",
        "Pode reparar, os grandes meios de comunicação preferem esse tipo de visualização, pois nem todo mundo está acostumado a interpretar gráficos de linhas ou barras.\n",
        "\n",
        "Como vamos ver abaixo, a biblioteca tem muitas outras formas de customização, e recomendo você incluir ela no seu arsenal de ferramentas."
      ],
      "metadata": {
        "id": "vqhVlmDKpsag"
      }
    },
    {
      "cell_type": "markdown",
      "source": [
        "## Usando `pywaffle` para criar gráficos de waffle\n",
        "\n",
        "Infelizmente, gráficos de waffle não vêm junto com a biblioteca `matplotlib`. A melhor alternatica que eu conheço é o pacote `pywaffle`, uma vez que ele se integra perfeitamente ao `matplotlib`.\n",
        "\n",
        "[Bem documentada](https://github.com/gyli/PyWaffle) e com vários exemplos de aplicação, em poucas linhas de código você já consegue plotar seu primeiro gráfico.\n",
        "\n",
        "Ah sim, verifique antes se você têm ela instalada no seu ambiente. Caso contrário, basta instalar usando o conda (`conda install pywaffle`) ou pip (`pip install pywaffle`)."
      ],
      "metadata": {
        "id": "R1HOzpsypyAg"
      }
    },
    {
      "cell_type": "code",
      "execution_count": 1,
      "metadata": {
        "colab": {
          "base_uri": "https://localhost:8080/"
        },
        "id": "04-V0oazplEX",
        "outputId": "c017e4b8-f82f-47bb-9860-9ff5c11b8e6b"
      },
      "outputs": [
        {
          "output_type": "stream",
          "name": "stdout",
          "text": [
            "\u001b[2K     \u001b[90m━━━━━━━━━━━━━━━━━━━━━━━━━━━━━━━━━━━━━━━━\u001b[0m \u001b[32m25.6/25.6 MB\u001b[0m \u001b[31m31.6 MB/s\u001b[0m eta \u001b[36m0:00:00\u001b[0m\n",
            "\u001b[?25h"
          ]
        }
      ],
      "source": [
        "# instalar o pywaffle\n",
        "!pip install pywaffle -q"
      ]
    },
    {
      "cell_type": "markdown",
      "source": [
        "Vamos supor que uma pesquisa muito séria da Folha de São Paulo identificou que 33% dos brasileiros falam Bolacha, 48% falam Biscoito e uma minoria de 19% fala Salgadinho.\n",
        "\n",
        "No lugar de plotar um manjado gráfico de pizza, olha como ficaria usando o gráfico de waffle."
      ],
      "metadata": {
        "id": "QYSAgDzBqyHt"
      }
    },
    {
      "cell_type": "code",
      "source": [
        "# importar as bibliotecas necessárias\n",
        "import matplotlib.pyplot as plt\n",
        "from pywaffle import Waffle\n",
        "\n",
        "# exemplo de Waffle\n",
        "fig = plt.figure(\n",
        "                FigureClass=Waffle,\n",
        "                rows=4,\n",
        "                columns=10,\n",
        "                values={'Bolacha': 33,\n",
        "                        'Biscoito': 48,\n",
        "                        'Salgadinho': 19},\n",
        "                legend={'loc': 'upper left',\n",
        "                        'bbox_to_anchor': (1.1, 1)}\n",
        "                )\n",
        "\n",
        "fig.set_tight_layout(False)\n",
        "plt.show()"
      ],
      "metadata": {
        "colab": {
          "base_uri": "https://localhost:8080/",
          "height": 230
        },
        "id": "RbJ6rD6xrGRr",
        "outputId": "110b8a77-b0c2-4484-ccbb-838160678fb0"
      },
      "execution_count": 2,
      "outputs": [
        {
          "output_type": "display_data",
          "data": {
            "text/plain": [
              "<Waffle size 640x480 with 1 Axes>"
            ],
            "image/png": "[encoded data removed]"
          },
          "metadata": {}
        }
      ]
    },
    {
      "cell_type": "markdown",
      "source": [
        "## Customizando seus gráficos de waffle\n",
        "\n",
        "O `pywaffle` é altamente customizado e aceita os ícones da [Font Awesome](http://fontawesome.io/).\n",
        "\n",
        "Vamos ver como customizar os ícones da biblioteca para representar as estatísticas de ocorrências e acidentes com aviões no Brasil. Para isso, vou importar a [base de dados do Centro de Prevenção e Investigação de Acidentes Aeronáuticos](http://www2.fab.mil.br/cenipa/index.php/estatisticas)."
      ],
      "metadata": {
        "id": "rIjqmBc7rOJ7"
      }
    },
    {
      "cell_type": "code",
      "source": [
        "# importar o pandas\n",
        "import pandas as pd\n",
        "\n",
        "# importar dados do CENIPA\n",
        "df = pd.read_csv(\"https://raw.githubusercontent.com/carlosfab/dsnp2/master/datasets/ocorrencias_aviacao.csv\")\n",
        "\n",
        "# extrair value counts da variavel ocorrencia_classificacao\n",
        "data = df.ocorrencia_classificacao.value_counts().to_dict()\n",
        "\n",
        "# plotar gráfico de waffle\n",
        "fig = plt.figure(\n",
        "                FigureClass=Waffle,\n",
        "                rows=5,\n",
        "                columns=15,\n",
        "                colors=(\"#232066\", \"#983D3D\", \"#DCB732\"),\n",
        "                values=data, icons='video', icon_size=12,\n",
        "                legend={'loc': 'upper left', 'bbox_to_anchor': (1,1)},\n",
        "                icon_legend=True\n",
        "                )\n",
        "fig.set_tight_layout(False)\n",
        "plt.show();"
      ],
      "metadata": {
        "colab": {
          "base_uri": "https://localhost:8080/",
          "height": 199
        },
        "id": "r_hxzjoFrQlD",
        "outputId": "fe90501d-0b23-4f4a-fd91-6edb61fceb9b"
      },
      "execution_count": 3,
      "outputs": [
        {
          "output_type": "display_data",
          "data": {
            "text/plain": [
              "<Waffle size 640x480 with 1 Axes>"
            ],
            "image/png": "[encoded data removed]"
          },
          "metadata": {}
        }
      ]
    },
    {
      "cell_type": "markdown",
      "source": [
        "Na figura acima, eu selecionei o ícone `plane`, que é apenas um entre inúmeros outros disponíveis.\n",
        "\n",
        "Em outro exemplo, suponha que você quer representar por *waffle chart* a quantidade de homens e mulheres que estão matriculados em um determinado curso de ingles. Repare que eu vou usar o ícone `child`."
      ],
      "metadata": {
        "id": "ua1-mXUrrmwr"
      }
    },
    {
      "cell_type": "code",
      "source": [
        "# plotar homens e mulheres na sala de aula\n",
        "fig = plt.figure(\n",
        "    FigureClass=Waffle,\n",
        "    rows=8,\n",
        "    values={'Homens': 48, 'Mulheres': 58},\n",
        "    colors=(\"#232066\", \"#983D3D\"),\n",
        "    legend={'loc': 'upper left', 'bbox_to_anchor': (1, 1)},\n",
        "    icons='child', icon_size=12,\n",
        "    icon_legend=True\n",
        ")\n",
        "\n",
        "fig.set_tight_layout(False)\n",
        "plt.show();"
      ],
      "metadata": {
        "id": "OMBHZXWAru6D",
        "outputId": "dca095eb-fd47-4075-9368-051d58281f22",
        "colab": {
          "base_uri": "https://localhost:8080/",
          "height": 320
        }
      },
      "execution_count": 4,
      "outputs": [
        {
          "output_type": "display_data",
          "data": {
            "text/plain": [
              "<Waffle size 640x480 with 1 Axes>"
            ],
            "image/png": "[encoded data removed]"
          },
          "metadata": {}
        }
      ]
    }
  ]
}