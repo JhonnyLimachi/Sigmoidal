{
  "nbformat": 4,
  "nbformat_minor": 0,
  "metadata": {
    "colab": {
      "provenance": [],
      "authorship_tag": "ABX9TyM0nwqBuxOeYYbvrLRwca3L",
      "include_colab_link": true
    },
    "kernelspec": {
      "name": "python3",
      "display_name": "Python 3"
    },
    "language_info": {
      "name": "python"
    }
  },
  "cells": [
    {
      "cell_type": "markdown",
      "metadata": {
        "id": "view-in-github",
        "colab_type": "text"
      },
      "source": [
        "<a href=\"https://colab.research.google.com/github/JhonnyLimachi/Sigmoidal/blob/main/47_Deep_Learning.ipynb\" target=\"_parent\"><img src=\"https://colab.research.google.com/assets/colab-badge.svg\" alt=\"Open In Colab\"/></a>"
      ]
    },
    {
      "cell_type": "markdown",
      "source": [
        "## **1. Deep Learning vs Machine Learning**\n",
        "\n",
        "Este é um módulo extra, inédito, para introduzir o tema Deep Learning (DL) na sua trilha de aprendizado. Veja o que é DL e qual a diferença para os algoritmos tradicionais de Machine Learning.\n",
        "\n",
        "## **Referências**\n",
        "\n",
        "[Especialização em Deep Learning ](https://www.coursera.org/specializations/deep-learning)\n",
        "\n",
        "[Deep Learning MIT Press Book ](https://www.deeplearningbook.org/)"
      ],
      "metadata": {
        "id": "mpQ5k54JsmDN"
      }
    },
    {
      "cell_type": "markdown",
      "source": [
        "## **2. Redes Neurais**\n",
        "\n",
        "Redes Neurais são sistemas com nós interconectados que funcionam como os neurônios em nosso cérebro. São extremamente poderosas e capazes de reconhecer padrões, correlações, agrupar e classificar dados com um nível altíssimo de performance.\n",
        "\n",
        "## **Referências**\n",
        "\n",
        "[Redes Neurais](https://www.sas.com/pt_br/insights/analytics/neural-networks.html#:~:text=Redes%20neurais%20s%C3%A3o%20sistemas%20de,tempo%20%E2%80%93%20aprender%20e%20melhorar%20continuamente.)\n",
        "\n",
        "[Neural Networks Explained - MIT](https://news.mit.edu/2017/explained-neural-networks-deep-learning-0414)\n",
        "\n",
        "[Neural Networks in 5 minutes](https://www.youtube.com/watch?v=bfmFfD2RIcg)"
      ],
      "metadata": {
        "id": "kC6pVvmau-F0"
      }
    },
    {
      "cell_type": "markdown",
      "source": [
        "## **3. A matemática das redes neurais**\n",
        "\n",
        "Apesar de extremamente poderosas, Redes Neurais são complexas, e exigem um certo nível de entendimento do que está acontecendo por trás delas. Para isso, nessa aula falamos um pouco mais sobre a matemática por trás das Redes Neurais.\n",
        "\n",
        "\n",
        "\n",
        "## **Referências**\n",
        "\n",
        "[Deep dive into the Math behind Neural Networks](https://towardsdatascience.com/https-medium-com-piotr-skalski92-deep-dive-into-deep-networks-math-17660bc376ba)\n",
        "\n",
        "[The Math behind Artificial Neural Networks](https://towardsdatascience.com/the-heart-of-artificial-neural-networks-26627e8c03ba)\n",
        "\n",
        "[Demystifying the Mathematics Behind Convolutional Neural Networks](https://www.analyticsvidhya.com/blog/2020/02/mathematics-behind-convolutional-neural-network/)\n",
        "\n",
        "[A Beginner's Guide to the Mathematics of Neural Networks](https://citeseerx.ist.psu.edu/viewdoc/download?doi=10.1.1.161.3556&rep=rep1&type=pdf)"
      ],
      "metadata": {
        "id": "anZtSRyAwvx3"
      }
    }
  ]
}