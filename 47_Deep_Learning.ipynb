{
  "nbformat": 4,
  "nbformat_minor": 0,
  "metadata": {
    "colab": {
      "provenance": [],
      "authorship_tag": "ABX9TyPlGrPrCnJ7nWgxKDINPChD",
      "include_colab_link": true
    },
    "kernelspec": {
      "name": "python3",
      "display_name": "Python 3"
    },
    "language_info": {
      "name": "python"
    }
  },
  "cells": [
    {
      "cell_type": "markdown",
      "metadata": {
        "id": "view-in-github",
        "colab_type": "text"
      },
      "source": [
        "<a href=\"https://colab.research.google.com/github/JhonnyLimachi/Sigmoidal/blob/main/47_Deep_Learning.ipynb\" target=\"_parent\"><img src=\"https://colab.research.google.com/assets/colab-badge.svg\" alt=\"Open In Colab\"/></a>"
      ]
    },
    {
      "cell_type": "markdown",
      "source": [
        "## **Deep Learning vs Machine Learning**\n",
        "\n",
        "Este é um módulo extra, inédito, para introduzir o tema Deep Learning (DL) na sua trilha de aprendizado. Veja o que é DL e qual a diferença para os algoritmos tradicionais de Machine Learning.\n",
        "\n",
        "## **Referências**\n",
        "\n",
        "[Especialização em Deep Learning ](https://www.coursera.org/specializations/deep-learning)\n",
        "\n",
        "[Deep Learning MIT Press Book ](https://www.deeplearningbook.org/)"
      ],
      "metadata": {
        "id": "mpQ5k54JsmDN"
      }
    },
    {
      "cell_type": "code",
      "execution_count": null,
      "metadata": {
        "id": "Mo12cqpKsgn1"
      },
      "outputs": [],
      "source": []
    }
  ]
}