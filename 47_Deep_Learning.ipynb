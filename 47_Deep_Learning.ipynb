{
  "nbformat": 4,
  "nbformat_minor": 0,
  "metadata": {
    "colab": {
      "provenance": [],
      "authorship_tag": "ABX9TyM5ixfoelEOpEAl+I9twMiT",
      "include_colab_link": true
    },
    "kernelspec": {
      "name": "python3",
      "display_name": "Python 3"
    },
    "language_info": {
      "name": "python"
    }
  },
  "cells": [
    {
      "cell_type": "markdown",
      "metadata": {
        "id": "view-in-github",
        "colab_type": "text"
      },
      "source": [
        "<a href=\"https://colab.research.google.com/github/JhonnyLimachi/Sigmoidal/blob/main/47_Deep_Learning.ipynb\" target=\"_parent\"><img src=\"https://colab.research.google.com/assets/colab-badge.svg\" alt=\"Open In Colab\"/></a>"
      ]
    },
    {
      "cell_type": "markdown",
      "source": [
        "## **1. Deep Learning vs Machine Learning**\n",
        "\n",
        "Este é um módulo extra, inédito, para introduzir o tema Deep Learning (DL) na sua trilha de aprendizado. Veja o que é DL e qual a diferença para os algoritmos tradicionais de Machine Learning.\n",
        "\n",
        "## **Referências**\n",
        "\n",
        "[Especialização em Deep Learning ](https://www.coursera.org/specializations/deep-learning)\n",
        "\n",
        "[Deep Learning MIT Press Book ](https://www.deeplearningbook.org/)"
      ],
      "metadata": {
        "id": "mpQ5k54JsmDN"
      }
    },
    {
      "cell_type": "markdown",
      "source": [
        "## **2. Redes Neurais**\n",
        "\n",
        "Redes Neurais são sistemas com nós interconectados que funcionam como os neurônios em nosso cérebro. São extremamente poderosas e capazes de reconhecer padrões, correlações, agrupar e classificar dados com um nível altíssimo de performance.\n",
        "\n",
        "## **Referências**\n",
        "\n",
        "[Redes Neurais](https://www.sas.com/pt_br/insights/analytics/neural-networks.html#:~:text=Redes%20neurais%20s%C3%A3o%20sistemas%20de,tempo%20%E2%80%93%20aprender%20e%20melhorar%20continuamente.)\n",
        "\n",
        "[Neural Networks Explained - MIT](https://news.mit.edu/2017/explained-neural-networks-deep-learning-0414)\n",
        "\n",
        "[Neural Networks in 5 minutes](https://www.youtube.com/watch?v=bfmFfD2RIcg)"
      ],
      "metadata": {
        "id": "kC6pVvmau-F0"
      }
    },
    {
      "cell_type": "code",
      "execution_count": null,
      "metadata": {
        "id": "Mo12cqpKsgn1"
      },
      "outputs": [],
      "source": []
    }
  ]
}