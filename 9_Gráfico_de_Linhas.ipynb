{
  "nbformat": 4,
  "nbformat_minor": 0,
  "metadata": {
    "colab": {
      "provenance": [],
      "authorship_tag": "ABX9TyNmAQ2fs/FMcn05ulntORj4",
      "include_colab_link": true
    },
    "kernelspec": {
      "name": "python3",
      "display_name": "Python 3"
    },
    "language_info": {
      "name": "python"
    }
  },
  "cells": [
    {
      "cell_type": "markdown",
      "metadata": {
        "id": "view-in-github",
        "colab_type": "text"
      },
      "source": [
        "<a href=\"https://colab.research.google.com/github/JhonnyLimachi/Sigmoidal/blob/main/9_Gr%C3%A1fico_de_Linhas.ipynb\" target=\"_parent\"><img src=\"https://colab.research.google.com/assets/colab-badge.svg\" alt=\"Open In Colab\"/></a>"
      ]
    },
    {
      "cell_type": "markdown",
      "source": [
        "<img alt=\"Colaboratory logo\" width=\"15%\" src=\"https://raw.githubusercontent.com/carlosfab/escola-data-science/master/img/novo_logo_bg_claro.png\">\n",
        "\n",
        "#### **Data Science na Prática 4.0**\n",
        "*by [sigmoidal.ai](https://sigmoidal.ai)*\n",
        "\n",
        "---"
      ],
      "metadata": {
        "id": "48Xw-8lOV7U5"
      }
    },
    {
      "cell_type": "markdown",
      "source": [
        "# Gráfico de Linhas\n",
        "\n",
        "O gráfico de linha é um tipo de gráfico que mostra a informação em forma de um conjunto de pontos (*markers*) conectados por segmentos de linha reta. É um dos tipos básicos de gráficos mais usados na maioria dos problemas\n",
        "\n",
        "<center><img src=\"https://raw.githubusercontent.com/carlosfab/curso_data_science_na_pratica/master/modulo_03/grafico_linha.png\"width=\"400px\"></center>\n",
        "\n",
        "Gráficos de linhas são ideais para mostrar alterações e tendências de dados em intervalos de tempo iguais.\n",
        "\n",
        "Quando se quer observar o comportamento dos dados ao longo do tempo, usa-se o eixo x (horizontal) para representar a ordem cronológica e o eixo y para a variável dependente."
      ],
      "metadata": {
        "id": "K71WCVRAV_TQ"
      }
    },
    {
      "cell_type": "code",
      "execution_count": null,
      "metadata": {
        "id": "-WjL_SYHQGqy"
      },
      "outputs": [],
      "source": []
    }
  ]
}